{
 "cells": [
  {
   "cell_type": "markdown",
   "id": "a1529468",
   "metadata": {},
   "source": [
    "Runs spacy NER on downloaded/cleaned IA books. Download books through ia_search_and_download first to use"
   ]
  },
  {
   "cell_type": "code",
   "execution_count": 1,
   "id": "4ebd1fea",
   "metadata": {},
   "outputs": [],
   "source": [
    "import pandas as pd\n",
    "import collections\n",
    "import spacy\n",
    "nlp = spacy.load(\"en_core_web_lg\")"
   ]
  },
  {
   "cell_type": "code",
   "execution_count": 2,
   "id": "e14cfa78",
   "metadata": {},
   "outputs": [],
   "source": [
    "def clean(str):\n",
    "    ret=\" \".join(str.split())\n",
    "    ret=ret.strip()\n",
    "    return ret"
   ]
  },
  {
   "cell_type": "code",
   "execution_count": 4,
   "id": "2a2cd8d1",
   "metadata": {},
   "outputs": [],
   "source": [
    "#csv index of downloaded books to search in\n",
    "collection=pd.read_csv(\"output.csv\")"
   ]
  },
  {
   "cell_type": "code",
   "execution_count": 5,
   "id": "c4244f7a",
   "metadata": {},
   "outputs": [],
   "source": [
    "#name of file to store list of potential author names\n",
    "file = open('authors.txt','w')\n",
    "for id in collection[\"id\"]:\n",
    "    #open cleaned text file\n",
    "    f = open(\"clean/\"+id+\".txt\", \"r\")\n",
    "    text=f.read()\n",
    "    f.close()\n",
    "    \n",
    "    #splits text into 100000 character chunks (spacy limitations)\n",
    "    n=100000\n",
    "    chunks = [text[i:i+n] for i in range(0, len(text), n)]\n",
    "    \n",
    "    #calls NER recognition on chunks\n",
    "    for c in chunks:\n",
    "        doc = nlp(c)\n",
    "        for ent in doc.ents:\n",
    "            #identifies person labels\n",
    "            if ent.label_==\"PERSON\":\n",
    "                name=clean(ent.text)\n",
    "                if len(name)>8 and \" \" in name:\n",
    "                    file.write(ent.text+\"\\n\")\n"
   ]
  },
  {
   "cell_type": "code",
   "execution_count": null,
   "id": "69a4e196",
   "metadata": {},
   "outputs": [],
   "source": []
  }
 ],
 "metadata": {
  "kernelspec": {
   "display_name": "Python 3 (ipykernel)",
   "language": "python",
   "name": "python3"
  },
  "language_info": {
   "codemirror_mode": {
    "name": "ipython",
    "version": 3
   },
   "file_extension": ".py",
   "mimetype": "text/x-python",
   "name": "python",
   "nbconvert_exporter": "python",
   "pygments_lexer": "ipython3",
   "version": "3.9.12"
  }
 },
 "nbformat": 4,
 "nbformat_minor": 5
}
