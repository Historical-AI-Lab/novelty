{
 "cells": [
  {
   "cell_type": "markdown",
   "id": "5c92394f",
   "metadata": {},
   "source": [
    "Downloads books from Internet Archive based on specific query: used to generate academic periodical/society collections"
   ]
  },
  {
   "cell_type": "code",
   "execution_count": 12,
   "id": "cc770db0",
   "metadata": {},
   "outputs": [],
   "source": [
    "from internetarchive import get_item, download, search_items\n",
    "import pandas as pd\n",
    "import glob\n",
    "import re\n",
    "import os"
   ]
  },
  {
   "cell_type": "code",
   "execution_count": 4,
   "id": "28b961c7",
   "metadata": {},
   "outputs": [],
   "source": [
    "#set date ranges\n",
    "year_min=1800\n",
    "year_max=1900\n",
    "\n",
    "#set book limit per query\n",
    "limit=5"
   ]
  },
  {
   "cell_type": "code",
   "execution_count": 5,
   "id": "4507bc26",
   "metadata": {},
   "outputs": [],
   "source": [
    "#query to search\n",
    "#deatiled documentation at https://archive.org/developers/internetarchive/internetarchive.html#internetarchive-search\n",
    "\n",
    "#use parenteses and quotations for exact matching, just text for partial/fuzzy matching\n",
    "\n",
    "search=\"title:('royal institution')\"\n",
    "#search=\"creator:charles darwin\""
   ]
  },
  {
   "cell_type": "code",
   "execution_count": 6,
   "id": "14fe0184",
   "metadata": {},
   "outputs": [],
   "source": [
    "ia_books=[]\n",
    "count=0\n",
    "for i in search_items(search):\n",
    "    #get metadata fields\n",
    "    try:\n",
    "        item = get_item(i[\"identifier\"])\n",
    "    except:\n",
    "        continue\n",
    "    meta=item.item_metadata['metadata']\n",
    "    id=i[\"identifier\"]\n",
    "    try:\n",
    "        date=int(meta[\"date\"])\n",
    "    except:\n",
    "        date=0\n",
    "    title=meta[\"title\"]\n",
    "    try:\n",
    "        author=meta[\"creator\"]\n",
    "    except:\n",
    "        author=\"\"\n",
    "        \n",
    "    #check date ranges\n",
    "    if date<year_max and date>year_min:\n",
    "        count+=1\n",
    "        #breaks if enough downloaded\n",
    "        if count>limit:\n",
    "            break\n",
    "        try:\n",
    "            download(id, verbose=False, glob_pattern='*txt', destdir=\"ia_articles/\")\n",
    "            \n",
    "            ia_books.append([id, title, author, date])\n",
    "\n",
    "        except:\n",
    "            continue"
   ]
  },
  {
   "cell_type": "code",
   "execution_count": 7,
   "id": "3fc52dfb",
   "metadata": {},
   "outputs": [],
   "source": [
    "#save records csv\n",
    "ia=pd.DataFrame(ia_books)\n",
    "ia.columns=[\"id\", \"title\", \"author\", \"date\"]\n",
    "ia.to_csv(\"output.csv\")"
   ]
  },
  {
   "cell_type": "code",
   "execution_count": 16,
   "id": "414332dd",
   "metadata": {},
   "outputs": [],
   "source": [
    "try:\n",
    "    os.mkdir(\"clean\")\n",
    "except:\n",
    "    pass"
   ]
  },
  {
   "cell_type": "code",
   "execution_count": 17,
   "id": "52e3ad2c",
   "metadata": {},
   "outputs": [],
   "source": [
    "#minor cleaning and file renaming\n",
    "for id in ia[\"id\"]:\n",
    "    #read raw file\n",
    "    path=glob.glob('ia_articles/'+id+'/*djvu.txt')\n",
    "    #check if exists\n",
    "    if path[0]:\n",
    "        f = open(path[0], \"r\", encoding=\"utf-8\")\n",
    "    else:\n",
    "        continue\n",
    "    text=f.read()\n",
    "    \n",
    "    #too short tends to be erroneous ocr process\n",
    "    if len(text)<1000:\n",
    "        continue\n",
    "    \n",
    "    #standardize whitespace\n",
    "    text = text.replace('\\r', '').replace('\\n', '')\n",
    "    #remove numbers and special characters\n",
    "    text=re.sub(r'[^a-zA-Z.,!? ]+', '', text)\n",
    "    #lowercase\n",
    "    text=text.lower()\n",
    "    #write to new cleaned file\n",
    "    out = open(\"clean/\"+id+\".txt\", \"w\")\n",
    "    out.write(text)\n",
    "    f.close() \n",
    "    out.close()"
   ]
  },
  {
   "cell_type": "code",
   "execution_count": null,
   "id": "dcf31807",
   "metadata": {},
   "outputs": [],
   "source": []
  }
 ],
 "metadata": {
  "kernelspec": {
   "display_name": "Python 3 (ipykernel)",
   "language": "python",
   "name": "python3"
  },
  "language_info": {
   "codemirror_mode": {
    "name": "ipython",
    "version": 3
   },
   "file_extension": ".py",
   "mimetype": "text/x-python",
   "name": "python",
   "nbconvert_exporter": "python",
   "pygments_lexer": "ipython3",
   "version": "3.9.12"
  }
 },
 "nbformat": 4,
 "nbformat_minor": 5
}
