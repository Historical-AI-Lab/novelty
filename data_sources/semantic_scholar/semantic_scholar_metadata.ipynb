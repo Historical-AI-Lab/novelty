{
 "cells": [
  {
   "cell_type": "code",
   "execution_count": 56,
   "id": "657d6fe2",
   "metadata": {},
   "outputs": [],
   "source": [
    "import pandas as pd\n",
    "import urllib, urllib.request\n",
    "import requests\n",
    "import time"
   ]
  },
  {
   "cell_type": "code",
   "execution_count": 57,
   "id": "ec5d3c6c",
   "metadata": {},
   "outputs": [],
   "source": [
    "#takes DOI id, can also use arxiv link or search with title\n",
    "ids=[\"10.1051/shsconf/20184608002\"]"
   ]
  },
  {
   "cell_type": "code",
   "execution_count": 65,
   "id": "27ffb0c1",
   "metadata": {},
   "outputs": [
    {
     "name": "stdout",
     "output_type": "stream",
     "text": [
      "6\n"
     ]
    }
   ],
   "source": [
    "missed=[]\n",
    "ret=[]\n",
    "\n",
    "for DOI in ids:\n",
    "    url=\"https://api.semanticscholar.org/graph/v1/paper/DOI:\"+DOI+\"?fields=title,publicationDate,authors,s2FieldsOfStudy,citations,citations.authors\"\n",
    "    response = requests.get(url)\n",
    "    try:\n",
    "        print(len(response.json()))\n",
    "    except:\n",
    "        missed.append(url)\n",
    "        print(url)\n",
    "        #waits when timeout\n",
    "        time.sleep(1)\n",
    "        continue\n",
    "    i=response.json()\n",
    "    title=i[\"title\"]\n",
    "    date=i[\"publicationDate\"]\n",
    "\n",
    "    tags=[]\n",
    "    for t in i[\"s2FieldsOfStudy\"]:\n",
    "        tags.append(t[\"category\"])\n",
    "    authors=[]\n",
    "    for a in i[\"authors\"]:\n",
    "        authors.append(a[\"name\"])\n",
    "    cited_ids=[]\n",
    "    cited_authors=[]\n",
    "    for c in i[\"citations\"]:\n",
    "        cited_ids.append(c[\"paperId\"])\n",
    "        for a in c[\"authors\"]:\n",
    "            cited_authors.append(a[\"name\"])\n",
    "    citation_count=len(cited_ids)\n",
    "    ret.append([date,title,tags, authors,cited_ids,cited_authors, citation_count])"
   ]
  },
  {
   "cell_type": "code",
   "execution_count": 68,
   "id": "25a864bb",
   "metadata": {},
   "outputs": [],
   "source": [
    "out=pd.DataFrame(ret)"
   ]
  },
  {
   "cell_type": "code",
   "execution_count": 69,
   "id": "2e669a73",
   "metadata": {},
   "outputs": [],
   "source": [
    "out.columns=[\"date\", \"title\", \"tags\", \"authors\", \"cited_ids\", \"cited_authors\", \"citation_count\"]"
   ]
  },
  {
   "cell_type": "code",
   "execution_count": 71,
   "id": "5c1c22a1",
   "metadata": {},
   "outputs": [],
   "source": [
    "out.to_csv(\"semantic_meta.csv\")"
   ]
  }
 ],
 "metadata": {
  "kernelspec": {
   "display_name": "Python [conda env:textmining] *",
   "language": "python",
   "name": "conda-env-textmining-py"
  },
  "language_info": {
   "codemirror_mode": {
    "name": "ipython",
    "version": 3
   },
   "file_extension": ".py",
   "mimetype": "text/x-python",
   "name": "python",
   "nbconvert_exporter": "python",
   "pygments_lexer": "ipython3",
   "version": "3.8.8"
  }
 },
 "nbformat": 4,
 "nbformat_minor": 5
}
