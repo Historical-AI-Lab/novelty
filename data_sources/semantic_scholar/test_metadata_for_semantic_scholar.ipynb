{
 "cells": [
  {
   "cell_type": "code",
   "execution_count": 1,
   "id": "657d6fe2",
   "metadata": {},
   "outputs": [],
   "source": [
    "import pandas as pd\n",
    "import urllib, urllib.request\n",
    "import requests\n",
    "import time\n",
    "import json"
   ]
  },
  {
   "cell_type": "code",
   "execution_count": 10,
   "id": "2ceeaf8a-f01a-4083-835b-707129e5ace0",
   "metadata": {},
   "outputs": [
    {
     "data": {
      "text/html": [
       "<div>\n",
       "<style scoped>\n",
       "    .dataframe tbody tr th:only-of-type {\n",
       "        vertical-align: middle;\n",
       "    }\n",
       "\n",
       "    .dataframe tbody tr th {\n",
       "        vertical-align: top;\n",
       "    }\n",
       "\n",
       "    .dataframe thead th {\n",
       "        text-align: right;\n",
       "    }\n",
       "</style>\n",
       "<table border=\"1\" class=\"dataframe\">\n",
       "  <thead>\n",
       "    <tr style=\"text-align: right;\">\n",
       "      <th></th>\n",
       "      <th>journal</th>\n",
       "      <th>authors</th>\n",
       "      <th>jstordoi</th>\n",
       "      <th>pubdoi</th>\n",
       "      <th>title</th>\n",
       "      <th>canfindjdoi</th>\n",
       "      <th>canfindpdoi</th>\n",
       "      <th>canfindtitle</th>\n",
       "      <th>date</th>\n",
       "    </tr>\n",
       "  </thead>\n",
       "  <tbody>\n",
       "    <tr>\n",
       "      <th>0</th>\n",
       "      <td>American Economic Review</td>\n",
       "      <td>['Michael D. Bauer', 'Glenn D. Rudebusch']</td>\n",
       "      <td>10.2307/26921585</td>\n",
       "      <td>10.1257/aer.20171822</td>\n",
       "      <td>Interest Rates under Falling Stars</td>\n",
       "      <td>NaN</td>\n",
       "      <td>NaN</td>\n",
       "      <td>NaN</td>\n",
       "      <td>2020</td>\n",
       "    </tr>\n",
       "    <tr>\n",
       "      <th>1</th>\n",
       "      <td>Modern Philology</td>\n",
       "      <td>['Elmer Edgar Stoll']</td>\n",
       "      <td>10.2307/435244</td>\n",
       "      <td>10.1086/388769</td>\n",
       "      <td>A New \"Reading\" of \"Othello\"</td>\n",
       "      <td>NaN</td>\n",
       "      <td>NaN</td>\n",
       "      <td>NaN</td>\n",
       "      <td>1948</td>\n",
       "    </tr>\n",
       "    <tr>\n",
       "      <th>2</th>\n",
       "      <td>Critical Inquiry</td>\n",
       "      <td>['William J. Rankin']</td>\n",
       "      <td>10.1086/655212</td>\n",
       "      <td>10.1086/655212</td>\n",
       "      <td>The Epistemology of the Suburbs: Knowledge, Pr...</td>\n",
       "      <td>NaN</td>\n",
       "      <td>NaN</td>\n",
       "      <td>NaN</td>\n",
       "      <td>2010</td>\n",
       "    </tr>\n",
       "    <tr>\n",
       "      <th>3</th>\n",
       "      <td>PMLA</td>\n",
       "      <td>['GILLIAN SILVERMAN']</td>\n",
       "      <td>10.2307/26158813</td>\n",
       "      <td>10.1632/pmla.2016.131.2.307</td>\n",
       "      <td>Neurodiversity and the Revision of Book History</td>\n",
       "      <td>NaN</td>\n",
       "      <td>NaN</td>\n",
       "      <td>NaN</td>\n",
       "      <td>2016</td>\n",
       "    </tr>\n",
       "  </tbody>\n",
       "</table>\n",
       "</div>"
      ],
      "text/plain": [
       "                    journal                                     authors  \\\n",
       "0  American Economic Review  ['Michael D. Bauer', 'Glenn D. Rudebusch']   \n",
       "1          Modern Philology                       ['Elmer Edgar Stoll']   \n",
       "2          Critical Inquiry                       ['William J. Rankin']   \n",
       "3                      PMLA                       ['GILLIAN SILVERMAN']   \n",
       "\n",
       "           jstordoi                       pubdoi  \\\n",
       "0  10.2307/26921585         10.1257/aer.20171822   \n",
       "1    10.2307/435244               10.1086/388769   \n",
       "2    10.1086/655212               10.1086/655212   \n",
       "3  10.2307/26158813  10.1632/pmla.2016.131.2.307   \n",
       "\n",
       "                                               title  canfindjdoi  \\\n",
       "0                 Interest Rates under Falling Stars          NaN   \n",
       "1                       A New \"Reading\" of \"Othello\"          NaN   \n",
       "2  The Epistemology of the Suburbs: Knowledge, Pr...          NaN   \n",
       "3    Neurodiversity and the Revision of Book History          NaN   \n",
       "\n",
       "   canfindpdoi  canfindtitle  date  \n",
       "0          NaN           NaN  2020  \n",
       "1          NaN           NaN  1948  \n",
       "2          NaN           NaN  2010  \n",
       "3          NaN           NaN  2016  "
      ]
     },
     "execution_count": 10,
     "metadata": {},
     "output_type": "execute_result"
    }
   ],
   "source": [
    "testmeta = pd.read_csv('test_metadata.tsv', sep = '\\t')\n",
    "testmeta.head()"
   ]
  },
  {
   "cell_type": "code",
   "execution_count": 11,
   "id": "27ffb0c1",
   "metadata": {},
   "outputs": [
    {
     "name": "stdout",
     "output_type": "stream",
     "text": [
      "\n",
      "J\n",
      "{'error': 'Paper with id DOI:10.2307/26921585 not found'}\n",
      "P\n",
      "{'error': 'Paper with id DOI:10.1257/aer.20171822 not found'}\n",
      "\n",
      "J\n",
      "{'error': 'Paper with id DOI:10.2307/435244 not found'}\n",
      "A New \"Reading\" of \"Othello\" found by publisher doi\n",
      "with 0 citations.\n",
      "\n",
      "The Epistemology of the Suburbs: Knowledge, Production, and Corporate Laboratory Design found by JSTOR doi\n",
      "with 13 citations.\n",
      "The Epistemology of the Suburbs: Knowledge, Production, and Corporate Laboratory Design found by publisher doi\n",
      "with 13 citations.\n",
      "\n",
      "J\n",
      "{'error': 'Paper with id DOI:10.2307/26158813 not found'}\n",
      "Neurodiversity and the Revision of Book History found by publisher doi\n",
      "with 10 citations.\n"
     ]
    }
   ],
   "source": [
    "def record_result(res, searchtitle, searchtype):\n",
    "    if 'title' in res:\n",
    "        title=res[\"title\"]\n",
    "        found = True\n",
    "    else:\n",
    "        title = 'Title Not Provided'\n",
    "        found = False\n",
    "    citation_count = 0\n",
    "    cited_ids = []\n",
    "    if 'citations' in res:\n",
    "        for c in res[\"citations\"]:\n",
    "            cited_ids.append(c[\"paperId\"])\n",
    "        citation_count=len(cited_ids)\n",
    "    if found:\n",
    "        print(searchtitle + ' found by ' + searchtype)\n",
    "        print('with ' + str(citation_count) + ' citations.')\n",
    "        print\n",
    "    else:\n",
    "        print(searchtitle + ' not found by ' + searchtype)\n",
    "\n",
    "for idx, row in testmeta.iterrows():\n",
    "    # let's start with JSTOR doi\n",
    "    jdoi = row['jstordoi']\n",
    "    searchtitle = row['title']\n",
    "    \n",
    "    print()\n",
    "    url=\"https://api.semanticscholar.org/graph/v1/paper/DOI:\" + jdoi + \"?fields=title,publicationDate,authors,s2FieldsOfStudy,citations,citations.authors\"\n",
    "    response = requests.get(url)\n",
    "    try:\n",
    "        resplen = len(response.json())\n",
    "    except:\n",
    "        missed.append(url)\n",
    "        print(DOI)\n",
    "        idx += 1\n",
    "        #waits when timeout\n",
    "        time.sleep(0.1)\n",
    "        continue\n",
    "    result =response.json()\n",
    "    if 'error' in result:\n",
    "        print('J')\n",
    "        print(result)\n",
    "    else:\n",
    "        record_result(result, searchtitle, 'JSTOR doi')\n",
    "    \n",
    "    # now publisher ID\n",
    "    pdoi = row['pubdoi']\n",
    "    url=\"https://api.semanticscholar.org/graph/v1/paper/DOI:\" +pdoi + \"?fields=title,publicationDate,authors,s2FieldsOfStudy,citations,citations.authors\"\n",
    "    response = requests.get(url)\n",
    "    try:\n",
    "        resplen = len(response.json())\n",
    "    except:\n",
    "        missed.append(url)\n",
    "        print(DOI)\n",
    "        idx += 1\n",
    "        #waits when timeout\n",
    "        time.sleep(0.1)\n",
    "        continue\n",
    "    result =response.json()\n",
    "    if 'error' in result:\n",
    "        print('P')\n",
    "        print(result)\n",
    "    else:\n",
    "        record_result(result, searchtitle, 'publisher doi')\n",
    "        "
   ]
  },
  {
   "cell_type": "code",
   "execution_count": 87,
   "id": "d0692503-0226-4f0b-8a30-17d5cb8ef2f7",
   "metadata": {},
   "outputs": [
    {
     "data": {
      "text/plain": [
       "['https://api.semanticscholar.org/graph/v1/paper/DOI:10.2307/3729716?fields=title,publicationDate,authors,s2FieldsOfStudy,citations,citations.authors']"
      ]
     },
     "execution_count": 87,
     "metadata": {},
     "output_type": "execute_result"
    }
   ],
   "source": [
    "missed"
   ]
  },
  {
   "cell_type": "code",
   "execution_count": 72,
   "id": "2bfbbaf4-4837-4740-8df7-46ce9266c3a3",
   "metadata": {},
   "outputs": [
    {
     "data": {
      "text/plain": [
       "'10.2307/512209'"
      ]
     },
     "execution_count": 72,
     "metadata": {},
     "output_type": "execute_result"
    }
   ],
   "source": [
    "newlitmeta.at[idx, 'doi']"
   ]
  },
  {
   "cell_type": "code",
   "execution_count": 73,
   "id": "18b65bd4-679c-485d-b5a9-371a51ba5405",
   "metadata": {},
   "outputs": [
    {
     "data": {
      "text/plain": [
       "0"
      ]
     },
     "execution_count": 73,
     "metadata": {},
     "output_type": "execute_result"
    }
   ],
   "source": [
    "idx"
   ]
  },
  {
   "cell_type": "code",
   "execution_count": 74,
   "id": "98d1abb5-726b-41f0-a569-720923ace807",
   "metadata": {},
   "outputs": [
    {
     "data": {
      "text/plain": [
       "'10.2307/461288'"
      ]
     },
     "execution_count": 74,
     "metadata": {},
     "output_type": "execute_result"
    }
   ],
   "source": [
    "DOI"
   ]
  },
  {
   "cell_type": "code",
   "execution_count": 69,
   "id": "d050bbb2-f25b-4e74-882e-489ab67f7786",
   "metadata": {},
   "outputs": [
    {
     "data": {
      "text/plain": [
       "['10.2307/512209',\n",
       " '10.2307/437950',\n",
       " '10.2307/461288',\n",
       " '10.2307/3661498',\n",
       " '10.2307/3718589',\n",
       " '10.2307/2872855',\n",
       " '10.2307/3723455',\n",
       " '10.2307/512967',\n",
       " '10.2307/40587680',\n",
       " '10.2307/438705',\n",
       " '10.2307/26158877',\n",
       " '10.2307/4501647',\n",
       " '10.2307/458780',\n",
       " '10.2307/459148',\n",
       " '10.2307/3736691',\n",
       " '10.2307/3728328',\n",
       " '10.2307/514110',\n",
       " '10.2307/433444',\n",
       " '10.2307/3717854',\n",
       " '10.2307/434174',\n",
       " '10.1086/598693',\n",
       " '10.2307/27654644',\n",
       " '10.2307/432736',\n",
       " '10.2307/437350',\n",
       " '10.2307/1261371',\n",
       " '10.2307/3730409',\n",
       " '10.2307/3715100',\n",
       " '10.2307/44016509',\n",
       " '10.2307/458990',\n",
       " '10.2307/468576',\n",
       " '10.2307/509276',\n",
       " '10.2307/457562',\n",
       " '10.2307/438895',\n",
       " '10.2307/3713225',\n",
       " '10.2307/3736356',\n",
       " '10.2307/511338',\n",
       " '10.2307/44016445',\n",
       " '10.1086/588108',\n",
       " '10.2307/20057704',\n",
       " '10.2307/3713138',\n",
       " '10.2307/510839',\n",
       " '10.2307/438632',\n",
       " '10.2307/3734330',\n",
       " '10.2307/1343470',\n",
       " '10.2307/3661532',\n",
       " '10.2307/3731247',\n",
       " '10.2307/508839',\n",
       " '10.2307/3727545',\n",
       " '10.2307/457644',\n",
       " '10.2307/2873185',\n",
       " '10.2307/436676',\n",
       " '10.2307/432584',\n",
       " '10.2307/3724686',\n",
       " '10.2307/460252',\n",
       " '10.2307/3661394',\n",
       " '10.2307/3735099',\n",
       " '10.2307/434768',\n",
       " '10.2307/3715441',\n",
       " '10.2307/3735043',\n",
       " '10.2307/437294',\n",
       " '10.2307/3738995',\n",
       " '10.2307/1343413',\n",
       " '10.2307/26550054',\n",
       " '10.2307/1343740',\n",
       " '10.2307/511620',\n",
       " '10.2307/3721313',\n",
       " '10.2307/1342992',\n",
       " '10.2307/3714984',\n",
       " '10.2307/518626',\n",
       " '10.2307/3726491',\n",
       " '10.2307/20467594',\n",
       " '10.2307/20468022',\n",
       " '10.2307/25614297',\n",
       " '10.2307/508017',\n",
       " '10.2307/507535',\n",
       " '10.2307/3732695',\n",
       " '10.2307/30030129',\n",
       " '10.2307/460798',\n",
       " '10.2307/4095487',\n",
       " '10.2307/3661403',\n",
       " '10.2307/3731537',\n",
       " '10.2307/3719058',\n",
       " '10.2307/3726854',\n",
       " '10.2307/3737349',\n",
       " '10.2307/25486064',\n",
       " '10.2307/3715277',\n",
       " '10.2307/2872495',\n",
       " '10.2307/512416',\n",
       " '10.2307/3735954',\n",
       " '10.2307/459732',\n",
       " '10.2307/458414',\n",
       " '10.2307/3717167',\n",
       " '10.2307/3732796',\n",
       " '10.2307/3718482',\n",
       " '10.2307/3713967',\n",
       " '10.5699/modelangrevi.108.3.0970',\n",
       " '10.2307/26158865',\n",
       " '10.2307/3734331',\n",
       " '10.2307/3735795',\n",
       " '10.2307/459125']"
      ]
     },
     "execution_count": 69,
     "metadata": {},
     "output_type": "execute_result"
    }
   ],
   "source": [
    "ids"
   ]
  },
  {
   "cell_type": "code",
   "execution_count": 60,
   "id": "49ec5f25-869a-4802-ad16-16d79b1f4489",
   "metadata": {},
   "outputs": [
    {
     "data": {
      "text/html": [
       "<div>\n",
       "<style scoped>\n",
       "    .dataframe tbody tr th:only-of-type {\n",
       "        vertical-align: middle;\n",
       "    }\n",
       "\n",
       "    .dataframe tbody tr th {\n",
       "        vertical-align: top;\n",
       "    }\n",
       "\n",
       "    .dataframe thead th {\n",
       "        text-align: right;\n",
       "    }\n",
       "</style>\n",
       "<table border=\"1\" class=\"dataframe\">\n",
       "  <thead>\n",
       "    <tr style=\"text-align: right;\">\n",
       "      <th></th>\n",
       "      <th>journal</th>\n",
       "      <th>year</th>\n",
       "      <th>authors</th>\n",
       "      <th>title</th>\n",
       "      <th>language</th>\n",
       "      <th>wordcount</th>\n",
       "      <th>doctype</th>\n",
       "      <th>doi</th>\n",
       "      <th>citation_counts</th>\n",
       "      <th>S2titles</th>\n",
       "      <th>S2years</th>\n",
       "    </tr>\n",
       "  </thead>\n",
       "  <tbody>\n",
       "    <tr>\n",
       "      <th>0</th>\n",
       "      <td>The Review of English Studies</td>\n",
       "      <td>1969</td>\n",
       "      <td>[C. F. Williamson]</td>\n",
       "      <td>Review Article</td>\n",
       "      <td>[eng]</td>\n",
       "      <td>572</td>\n",
       "      <td>article | book-review</td>\n",
       "      <td>10.2307/512209</td>\n",
       "      <td>0</td>\n",
       "      <td>NA</td>\n",
       "      <td>0</td>\n",
       "    </tr>\n",
       "    <tr>\n",
       "      <th>1</th>\n",
       "      <td>Modern Philology</td>\n",
       "      <td>1979</td>\n",
       "      <td>[David Halliburton]</td>\n",
       "      <td>Review Article</td>\n",
       "      <td>[eng]</td>\n",
       "      <td>1863</td>\n",
       "      <td>article | book-review</td>\n",
       "      <td>10.2307/437950</td>\n",
       "      <td>0</td>\n",
       "      <td>NA</td>\n",
       "      <td>0</td>\n",
       "    </tr>\n",
       "    <tr>\n",
       "      <th>2</th>\n",
       "      <td>PMLA</td>\n",
       "      <td>1967</td>\n",
       "      <td>[Jean-Jacques Demorest]</td>\n",
       "      <td>Pascal et le déséquilibre</td>\n",
       "      <td>[fre]</td>\n",
       "      <td>4999</td>\n",
       "      <td>article | research-article</td>\n",
       "      <td>10.2307/461288</td>\n",
       "      <td>0</td>\n",
       "      <td>NA</td>\n",
       "      <td>0</td>\n",
       "    </tr>\n",
       "    <tr>\n",
       "      <th>3</th>\n",
       "      <td>The Review of English Studies</td>\n",
       "      <td>2003</td>\n",
       "      <td>[Robert Douglas-Fairhurst]</td>\n",
       "      <td>Review Article</td>\n",
       "      <td>[eng]</td>\n",
       "      <td>1140</td>\n",
       "      <td>article | book-review</td>\n",
       "      <td>10.2307/3661498</td>\n",
       "      <td>0</td>\n",
       "      <td>NA</td>\n",
       "      <td>0</td>\n",
       "    </tr>\n",
       "    <tr>\n",
       "      <th>4</th>\n",
       "      <td>The Modern Language Review</td>\n",
       "      <td>1951</td>\n",
       "      <td>[R. Weiss]</td>\n",
       "      <td>Review Article</td>\n",
       "      <td>[eng]</td>\n",
       "      <td>669</td>\n",
       "      <td>article | book-review</td>\n",
       "      <td>10.2307/3718589</td>\n",
       "      <td>0</td>\n",
       "      <td>NA</td>\n",
       "      <td>0</td>\n",
       "    </tr>\n",
       "  </tbody>\n",
       "</table>\n",
       "</div>"
      ],
      "text/plain": [
       "                         journal  year                     authors  \\\n",
       "0  The Review of English Studies  1969          [C. F. Williamson]   \n",
       "1               Modern Philology  1979         [David Halliburton]   \n",
       "2                           PMLA  1967     [Jean-Jacques Demorest]   \n",
       "3  The Review of English Studies  2003  [Robert Douglas-Fairhurst]   \n",
       "4     The Modern Language Review  1951                  [R. Weiss]   \n",
       "\n",
       "                       title language  wordcount                     doctype  \\\n",
       "0             Review Article    [eng]        572       article | book-review   \n",
       "1             Review Article    [eng]       1863       article | book-review   \n",
       "2  Pascal et le déséquilibre    [fre]       4999  article | research-article   \n",
       "3             Review Article    [eng]       1140       article | book-review   \n",
       "4             Review Article    [eng]        669       article | book-review   \n",
       "\n",
       "               doi  citation_counts S2titles  S2years  \n",
       "0   10.2307/512209                0       NA        0  \n",
       "1   10.2307/437950                0       NA        0  \n",
       "2   10.2307/461288                0       NA        0  \n",
       "3  10.2307/3661498                0       NA        0  \n",
       "4  10.2307/3718589                0       NA        0  "
      ]
     },
     "execution_count": 60,
     "metadata": {},
     "output_type": "execute_result"
    }
   ],
   "source": [
    "DOI"
   ]
  },
  {
   "cell_type": "code",
   "execution_count": 23,
   "id": "1f3223db-0614-4cdc-8d82-3fbfb0c38c63",
   "metadata": {},
   "outputs": [
    {
     "data": {
      "text/plain": [
       "[[None,\n",
       "  'The Revisions of \"Piers Plowman\"',\n",
       "  ['Art'],\n",
       "  ['Mabel Day'],\n",
       "  ['5345b72b54964d4009f83bfdc48a746c58a68d84'],\n",
       "  ['S. Trigg'],\n",
       "  1]]"
      ]
     },
     "execution_count": 23,
     "metadata": {},
     "output_type": "execute_result"
    }
   ],
   "source": [
    "ret"
   ]
  },
  {
   "cell_type": "code",
   "execution_count": 68,
   "id": "25a864bb",
   "metadata": {},
   "outputs": [],
   "source": [
    "out=pd.DataFrame(ret)"
   ]
  },
  {
   "cell_type": "code",
   "execution_count": 69,
   "id": "2e669a73",
   "metadata": {},
   "outputs": [],
   "source": [
    "out.columns=[\"date\", \"title\", \"tags\", \"authors\", \"cited_ids\", \"cited_authors\", \"citation_count\"]"
   ]
  },
  {
   "cell_type": "code",
   "execution_count": 71,
   "id": "5c1c22a1",
   "metadata": {},
   "outputs": [],
   "source": [
    "out.to_csv(\"semantic_meta.csv\")"
   ]
  }
 ],
 "metadata": {
  "kernelspec": {
   "display_name": "Python 3",
   "language": "python",
   "name": "python3"
  },
  "language_info": {
   "codemirror_mode": {
    "name": "ipython",
    "version": 3
   },
   "file_extension": ".py",
   "mimetype": "text/x-python",
   "name": "python",
   "nbconvert_exporter": "python",
   "pygments_lexer": "ipython3",
   "version": "3.7.6"
  }
 },
 "nbformat": 4,
 "nbformat_minor": 5
}
