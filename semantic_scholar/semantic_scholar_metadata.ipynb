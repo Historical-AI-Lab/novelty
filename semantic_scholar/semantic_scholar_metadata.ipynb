{
 "cells": [
  {
   "cell_type": "code",
   "execution_count": 1,
   "id": "657d6fe2",
   "metadata": {},
   "outputs": [],
   "source": [
    "import pandas as pd\n",
    "import urllib, urllib.request\n",
    "import requests\n",
    "import time"
   ]
  },
  {
   "cell_type": "code",
   "execution_count": 4,
   "id": "ec5d3c6c",
   "metadata": {},
   "outputs": [],
   "source": [
    "#takes DOI id, can also use arxiv link or search with title\n",
    "ids=[\"10.1145/2133806.2133826\"]"
   ]
  },
  {
   "cell_type": "code",
   "execution_count": 57,
   "id": "27ffb0c1",
   "metadata": {},
   "outputs": [
    {
     "name": "stdout",
     "output_type": "stream",
     "text": [
      "6\n"
     ]
    }
   ],
   "source": [
    "missed=[]\n",
    "ret=[]\n",
    "\n",
    "for DOI in ids:\n",
    "    url=\"https://api.semanticscholar.org/graph/v1/paper/DOI:\"+DOI+\"?fields=title,publicationDate,authors,s2FieldsOfStudy,citations,citations.authors\"\n",
    "    response = requests.get(url)\n",
    "    try:\n",
    "        print(len(response.json()))\n",
    "    except:\n",
    "        missed.append(url)\n",
    "        print(url)\n",
    "        #waits when timeout\n",
    "        time.sleep(1)\n",
    "        continue\n",
    "    i=response.json()\n",
    "    title=i[\"title\"]\n",
    "    date=i[\"publicationDate\"]\n",
    "\n",
    "    tags=[]\n",
    "    for t in i[\"s2FieldsOfStudy\"]:\n",
    "        tags.append(t[\"category\"])\n",
    "    authors=[]\n",
    "    for a in i[\"authors\"]:\n",
    "        authors.append(a[\"name\"])\n",
    "    cited_ids=[]\n",
    "    cited_authors=[]\n",
    "\n",
    "\n",
    "    for c in i[\"citations\"]:\n",
    "        cited_ids.append(c[\"paperId\"])\n",
    "    \n",
    "    if len(cited_ids)==1000:\n",
    "        #initialize queue with second set of articles\n",
    "        urls=[\"https://api.semanticscholar.org/graph/v1/paper/DOI:\"+DOI+\"/citations?limit=1000&offset=1000\"]\n",
    "        while urls:\n",
    "            \n",
    "            url=urls.pop(0)\n",
    "            \n",
    "            #handle timeout\n",
    "            try:\n",
    "                response = requests.get(url)\n",
    "            except: \n",
    "                #repeat call\n",
    "                urls.append(url)\n",
    "                time.sleep(1)\n",
    "                continue\n",
    "            \n",
    "            i=response.json()\n",
    "            for c in i[\"data\"]:\n",
    "                cited_ids.append(c[\"citingPaper\"][\"paperId\"])\n",
    "            if \"next\" in i:\n",
    "                #add next offset citation query to queue\n",
    "                next_url=url.split(\"&offset=\")[0]+\"&offset=\"+str(i[\"next\"])\n",
    "                urls.append(next_url)\n",
    "\n",
    "    citation_count=len(cited_ids)\n",
    "    ret.append([date,title,tags, authors,cited_ids,cited_authors, citation_count])"
   ]
  },
  {
   "cell_type": "code",
   "execution_count": 56,
   "id": "7726c21c",
   "metadata": {},
   "outputs": [
    {
     "data": {
      "text/plain": [
       "'https://api.semanticscholar.org/graph/v1/paper/DOI:10.1145/2133806.2133826/citations?limit=10002000'"
      ]
     },
     "execution_count": 56,
     "metadata": {},
     "output_type": "execute_result"
    }
   ],
   "source": [
    "next_url"
   ]
  },
  {
   "cell_type": "code",
   "execution_count": 46,
   "id": "ca21f7a6",
   "metadata": {},
   "outputs": [
    {
     "data": {
      "text/plain": [
       "['https://api.semanticscholar.org/graph/v1/paper/DOI:10.1145/2133806.2133826/citations?offset=2000&limit=1000']"
      ]
     },
     "execution_count": 46,
     "metadata": {},
     "output_type": "execute_result"
    }
   ],
   "source": [
    "urls"
   ]
  },
  {
   "cell_type": "code",
   "execution_count": 31,
   "id": "78ece371",
   "metadata": {},
   "outputs": [],
   "source": [
    "url="
   ]
  },
  {
   "cell_type": "code",
   "execution_count": 32,
   "id": "ab33d9e1",
   "metadata": {},
   "outputs": [],
   "source": [
    "response = requests.get(url)"
   ]
  },
  {
   "cell_type": "code",
   "execution_count": 33,
   "id": "1e8735e0",
   "metadata": {},
   "outputs": [],
   "source": [
    "i=response.json()"
   ]
  },
  {
   "cell_type": "code",
   "execution_count": 58,
   "id": "25a864bb",
   "metadata": {},
   "outputs": [],
   "source": [
    "out=pd.DataFrame(ret)"
   ]
  },
  {
   "cell_type": "code",
   "execution_count": 59,
   "id": "2e669a73",
   "metadata": {},
   "outputs": [],
   "source": [
    "out.columns=[\"date\", \"title\", \"tags\", \"authors\", \"cited_ids\", \"cited_authors\", \"citation_count\"]"
   ]
  },
  {
   "cell_type": "code",
   "execution_count": 60,
   "id": "5c1c22a1",
   "metadata": {},
   "outputs": [],
   "source": [
    "out.to_csv(\"semantic_meta.csv\")"
   ]
  },
  {
   "cell_type": "code",
   "execution_count": 61,
   "id": "d847e88f",
   "metadata": {},
   "outputs": [
    {
     "data": {
      "text/plain": [
       "5476"
      ]
     },
     "execution_count": 61,
     "metadata": {},
     "output_type": "execute_result"
    }
   ],
   "source": [
    "len(out[\"cited_ids\"][0])"
   ]
  },
  {
   "cell_type": "code",
   "execution_count": null,
   "id": "0fd38fe3",
   "metadata": {},
   "outputs": [],
   "source": []
  }
 ],
 "metadata": {
  "kernelspec": {
   "display_name": "Python 3 (ipykernel)",
   "language": "python",
   "name": "python3"
  },
  "language_info": {
   "codemirror_mode": {
    "name": "ipython",
    "version": 3
   },
   "file_extension": ".py",
   "mimetype": "text/x-python",
   "name": "python",
   "nbconvert_exporter": "python",
   "pygments_lexer": "ipython3",
   "version": "3.11.5"
  }
 },
 "nbformat": 4,
 "nbformat_minor": 5
}
