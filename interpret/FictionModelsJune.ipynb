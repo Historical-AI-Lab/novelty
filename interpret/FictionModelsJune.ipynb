{
 "cells": [
  {
   "cell_type": "markdown",
   "metadata": {},
   "source": [
    "# Assessing models of innovation in fiction\n",
    "\n",
    "To confirm that the patterns we're seeing in academic journal articles aren't unique to that corpus, we also built and modeled a fiction dataset.\n",
    "\n",
    "This dataset is imperfect for several reasons — mainly that copyright law makes it difficult to construct a large, full-text dataset of twentieth-century fiction. We do have full text of many works, but to create an even distribution for the topic model it was necessary to supplement our full-text corpus with some books that are present only as word counts.\n",
    "\n",
    "**Let's do imports and examine the metadata.**"
   ]
  },
  {
   "cell_type": "code",
   "execution_count": 1,
   "metadata": {},
   "outputs": [],
   "source": [
    "# necessary imports\n",
    "\n",
    "import pandas as pd\n",
    "from scipy.stats import pearsonr\n",
    "import math\n",
    "import numpy as np\n",
    "import statsmodels.api as sm\n",
    "import matplotlib.pyplot as plt\n",
    "import seaborn as sns\n",
    "from scipy.stats import ttest_ind\n",
    "from collections import Counter"
   ]
  },
  {
   "cell_type": "code",
   "execution_count": 2,
   "metadata": {},
   "outputs": [
    {
     "name": "stdout",
     "output_type": "stream",
     "text": [
      "The whole corpus shape is(8918, 28) but the age subset only (4419, 28).\n",
      "We have  463  discussed docs and  926  contrast docs.\n"
     ]
    }
   ],
   "source": [
    "# Create the dataframe we'll analyze\n",
    "\n",
    "meta = pd.read_csv('../fiction/enriched_metadata.tsv', sep = '\\t')\n",
    "meta = meta.loc[~pd.isnull(meta.paperId), : ]\n",
    "meta.rename(columns={'paperId': 'docid'}, inplace=True)\n",
    "meta['docid'] = meta['docid'].astype(str)\n",
    "meta.set_index('docid', inplace = True)\n",
    "\n",
    "# To analyze correlations with age, we use a smaller subset\n",
    "# of the corpus where we can confirm the author's birthdate\n",
    "agemeta = meta.loc[~pd.isnull(meta.author_age)]\n",
    "print(f'The whole corpus shape is{meta.shape} but the age subset only {agemeta.shape}.')\n",
    "# meta = meta.loc[meta.doctype == 'article | research-article', : ]\n",
    "\n",
    "# We also create a list of the docids that have been discussed\n",
    "# in critical articles, and a contrast set that have the \n",
    "# same distribution over time but are not mentioned in our\n",
    "# literary studies corpus.\n",
    "\n",
    "discussed = meta.loc[meta.is_discussed == True].index.tolist()\n",
    "discussed_contrast = meta.loc[meta.discussed_contrast == True].index.tolist()\n",
    "\n",
    "print('We have ', len(discussed), ' discussed docs and ', len(discussed_contrast), ' contrast docs.')"
   ]
  },
  {
   "cell_type": "code",
   "execution_count": 3,
   "metadata": {},
   "outputs": [
    {
     "data": {
      "text/plain": [
       "(5880, 28)"
      ]
     },
     "execution_count": 3,
     "metadata": {},
     "output_type": "execute_result"
    }
   ],
   "source": [
    "foranalysis = meta.loc[(meta.year >= 1910) & (meta.year <= 1979)]\n",
    "foranalysis.shape"
   ]
  },
  {
   "cell_type": "markdown",
   "metadata": {},
   "source": [
    "### Inspect the corpus\n",
    "\n",
    "Let's see how many books we have as full text."
   ]
  },
  {
   "cell_type": "code",
   "execution_count": 3,
   "metadata": {},
   "outputs": [
    {
     "name": "stdout",
     "output_type": "stream",
     "text": [
      "['k' 'extracted_features' 'hathi_fulltext' 'g']\n"
     ]
    },
    {
     "data": {
      "text/html": [
       "<div>\n",
       "<style scoped>\n",
       "    .dataframe tbody tr th:only-of-type {\n",
       "        vertical-align: middle;\n",
       "    }\n",
       "\n",
       "    .dataframe tbody tr th {\n",
       "        vertical-align: top;\n",
       "    }\n",
       "\n",
       "    .dataframe thead th {\n",
       "        text-align: right;\n",
       "    }\n",
       "</style>\n",
       "<table border=\"1\" class=\"dataframe\">\n",
       "  <thead>\n",
       "    <tr style=\"text-align: right;\">\n",
       "      <th>SOURCE</th>\n",
       "      <th>extracted_features</th>\n",
       "      <th>g</th>\n",
       "      <th>hathi_fulltext</th>\n",
       "      <th>k</th>\n",
       "    </tr>\n",
       "    <tr>\n",
       "      <th>decade</th>\n",
       "      <th></th>\n",
       "      <th></th>\n",
       "      <th></th>\n",
       "      <th></th>\n",
       "    </tr>\n",
       "  </thead>\n",
       "  <tbody>\n",
       "    <tr>\n",
       "      <th>1890</th>\n",
       "      <td>85.0</td>\n",
       "      <td>188.0</td>\n",
       "      <td>585.0</td>\n",
       "      <td>2.0</td>\n",
       "    </tr>\n",
       "    <tr>\n",
       "      <th>1900</th>\n",
       "      <td>41.0</td>\n",
       "      <td>347.0</td>\n",
       "      <td>447.0</td>\n",
       "      <td>25.0</td>\n",
       "    </tr>\n",
       "    <tr>\n",
       "      <th>1910</th>\n",
       "      <td>19.0</td>\n",
       "      <td>394.0</td>\n",
       "      <td>418.0</td>\n",
       "      <td>29.0</td>\n",
       "    </tr>\n",
       "    <tr>\n",
       "      <th>1920</th>\n",
       "      <td>282.0</td>\n",
       "      <td>151.0</td>\n",
       "      <td>106.0</td>\n",
       "      <td>321.0</td>\n",
       "    </tr>\n",
       "    <tr>\n",
       "      <th>1930</th>\n",
       "      <td>204.0</td>\n",
       "      <td>2.0</td>\n",
       "      <td>0.0</td>\n",
       "      <td>642.0</td>\n",
       "    </tr>\n",
       "  </tbody>\n",
       "</table>\n",
       "</div>"
      ],
      "text/plain": [
       "SOURCE  extracted_features      g  hathi_fulltext      k\n",
       "decade                                                  \n",
       "1890                  85.0  188.0           585.0    2.0\n",
       "1900                  41.0  347.0           447.0   25.0\n",
       "1910                  19.0  394.0           418.0   29.0\n",
       "1920                 282.0  151.0           106.0  321.0\n",
       "1930                 204.0    2.0             0.0  642.0"
      ]
     },
     "execution_count": 3,
     "metadata": {},
     "output_type": "execute_result"
    }
   ],
   "source": [
    "print(meta['SOURCE'].unique())\n",
    "\n",
    "# We have full text for books drawn from sources k, g, and hathi_fulltext.\n",
    "# We have word counts only for 'extracted_features'.\n",
    "\n",
    "# First group meta by decade and source, then\n",
    "# build a stacked bar chart to display the distribution of sources\n",
    "# over time.\n",
    "\n",
    "meta['decade'] = (meta.PUBL_DATE // 10) * 10\n",
    "meta['decade'] = meta['decade'].astype(str)\n",
    "meta['decade'] = meta['decade'].str.replace('nan', 'unknown')\n",
    "\n",
    "source_decade = meta.groupby(['decade', 'SOURCE']).size().unstack().fillna(0)\n",
    "source_decade.head()\n"
   ]
  },
  {
   "cell_type": "code",
   "execution_count": 4,
   "metadata": {},
   "outputs": [
    {
     "data": {
      "text/plain": [
       "<Axes: xlabel='decade'>"
      ]
     },
     "execution_count": 4,
     "metadata": {},
     "output_type": "execute_result"
    },
    {
     "data": {
      "image/png": "[encoded data removed]",
      "text/plain": [
       "<Figure size 640x480 with 1 Axes>"
      ]
     },
     "metadata": {},
     "output_type": "display_data"
    }
   ],
   "source": [
    "source_decade['fulltext'] = source_decade['g'] + source_decade['k'] + source_decade['hathi_fulltext']\n",
    "sns.set(style=\"whitegrid\")\n",
    "source_decade[['fulltext', 'extracted_features']].plot(kind='bar', stacked=True)"
   ]
  },
  {
   "cell_type": "code",
   "execution_count": 38,
   "metadata": {},
   "outputs": [
    {
     "name": "stdout",
     "output_type": "stream",
     "text": [
      "Number of fulltext: 7304.0\n",
      "Number of extracted features: 1614.0\n",
      "Full text: 1488\n",
      "With ages: 3272\n"
     ]
    }
   ],
   "source": [
    "print('Number of fulltext:', sum(source_decade['fulltext']))\n",
    "print('Number of extracted features:', sum(source_decade['extracted_features']))\n",
    "\n",
    "print('Full text:', meta.loc[(meta.year >= 1910) & (meta.year <= 1979) & (meta.SOURCE == 'extracted_features')].shape[0])\n",
    "print('With ages:', agemeta.loc[(agemeta.year >= 1910) & (agemeta.year <= 1979)].shape[0])"
   ]
  },
  {
   "cell_type": "markdown",
   "metadata": {},
   "source": [
    "**Interpretation**\n",
    "\n",
    "This distribution is flatter than it looks, because it's counting numbers of books and we actually selected books up to a cap defined in terms of total-numbers-of-words. The later books are longer. However, there is a spot in the middle of the distribution where we don't have as much full-text |and this could somehow handicap our embedding model.\n",
    "\n",
    "Nevertheless, as we'll see, the embedding model is able to perform well on some tasks.\n",
    "\n",
    "### How we trained the embedding model\n",
    "\n",
    "We used multiple negatives ranking loss, as with the lit studies model -- and as in that case, we included some paraphrased passages (though only about 10%). One thing we did that seems to have been important: we randomized personal (character) names in one passage of each pair — keeping a distinction between first and last, gender signals, etc, but just choosing different names. This made the matching task much more difficult and may have forced the model to learn more. Otherwise it can just match passages about Robert.\n",
    "\n",
    "One could also try that method with nonfiction, but it would be debatable: proper names are not arbitrary in nonfiction. They convey content.\n",
    "\n",
    "*Note*: There is at present a small glitch in our embedding dataset. Some books are absent, and I think it's not just the books we would expect (the ones in orange above.) I don't think it's enough to radically change results, but I'll need to fix this and understand the source of the glitch. It presumably happened when I applied the model to the fiction dataset.\n",
    "\n",
    "### Modeling author age\n",
    "\n",
    "We have author birthdates for a subset of authors in the data for [the cohort succession article](https://sociologicalscience.com/articles-v9-8-184/) (Underwood et al 2022). We matched these with the authors and titles in our corpus to confirm birth year for authors of about 4000 books. Age is then publication date minus birth year.\n",
    "\n",
    "How is it related to precocity?"
   ]
  },
  {
   "cell_type": "code",
   "execution_count": 4,
   "metadata": {},
   "outputs": [],
   "source": [
    "def controlled_model(reg_df):\n",
    "\n",
    "\t# Define the independent variables including the interaction term\n",
    "\tcolumns = ['novelty', 'precocity', 'precocity^2']\n",
    "\tfor yr in range(1910, 1980, 5):\n",
    "\t\tcolumns.append('year' + str(yr))\n",
    "\t\n",
    "\tX = []\n",
    "\tfor idx, row in reg_df.iterrows():\n",
    "\t\tnewrow = dict()\n",
    "\t\tnewrow['precocity'] = row['precocity']\n",
    "\t\tnewrow['novelty'] = row['novelty']\n",
    "\t\tnewrow['precocity^2'] = row['precocity'] ** 2\n",
    "\t\tnewrow['ages'] = row['ages']\n",
    "\t\tfor yr in range(1910, 1980, 5):\n",
    "\t\t\tcol = 'year' + str(yr)\n",
    "\t\t\tif (row['date'] >= yr) and (row['date'] <= yr + 5):\n",
    "\t\t\t\tnewrow[col] = 1\n",
    "\t\t\telse:\n",
    "\t\t\t\tnewrow[col] = 0\n",
    "\t\tX.append(newrow)\n",
    "\n",
    "\tX = pd.DataFrame(X)\n",
    "\n",
    "\t# Add a constant to the model (the intercept)\n",
    "\tX = sm.add_constant(X)\n",
    "\n",
    "\t# Define the dependent variable\n",
    "\ty = X['ages']\n",
    "\n",
    "\tX = X.drop('ages', axis=1)\n",
    "\n",
    "\t# Fit the linear regression model\n",
    "\tmodel = sm.OLS(y, X).fit()\n",
    "\n",
    "\t# Print the summary of the model\n",
    "\tprint(model.summary())"
   ]
  },
  {
   "cell_type": "code",
   "execution_count": 10,
   "metadata": {},
   "outputs": [
    {
     "name": "stdout",
     "output_type": "stream",
     "text": [
      "1910 -0.20707\n",
      "1915 -0.20404\n",
      "1920 -0.01365\n",
      "1925 -0.26977\n",
      "1930 -0.35167\n",
      "1935 -0.24298\n",
      "1940 -0.22644\n",
      "1945 -0.29428\n",
      "1950 -0.43199\n",
      "1955 -0.45208\n",
      "1960 -0.20593\n",
      "1965 -0.20747\n",
      "1970 -0.15039\n",
      "1975 -0.29287\n",
      "                            OLS Regression Results                            \n",
      "==============================================================================\n",
      "Dep. Variable:                   ages   R-squared:                       0.061\n",
      "Model:                            OLS   Adj. R-squared:                  0.056\n",
      "Method:                 Least Squares   F-statistic:                     12.41\n",
      "Date:                Fri, 05 Jul 2024   Prob (F-statistic):           2.98e-34\n",
      "Time:                        23:10:23   Log-Likelihood:                -12977.\n",
      "No. Observations:                3259   AIC:                         2.599e+04\n",
      "Df Residuals:                    3241   BIC:                         2.610e+04\n",
      "Df Model:                          17                                         \n",
      "Covariance Type:            nonrobust                                         \n",
      "===============================================================================\n",
      "                  coef    std err          t      P>|t|      [0.025      0.975]\n",
      "-------------------------------------------------------------------------------\n",
      "const          47.1829      1.801     26.199      0.000      43.652      50.714\n",
      "precocity     -36.5265      3.231    -11.306      0.000     -42.861     -30.192\n",
      "novelty        -0.2476      0.280     -0.883      0.377      -0.797       0.302\n",
      "precocity^2    29.4247     16.670      1.765      0.078      -3.261      62.110\n",
      "year1910       -3.0369      1.103     -2.752      0.006      -5.200      -0.873\n",
      "year1915       -4.1469      1.099     -3.772      0.000      -6.302      -1.992\n",
      "year1920       -2.6278      1.001     -2.625      0.009      -4.591      -0.665\n",
      "year1925        0.6485      0.972      0.667      0.505      -1.258       2.555\n",
      "year1930       -1.1037      0.985     -1.121      0.263      -3.035       0.828\n",
      "year1935       -0.9744      0.968     -1.006      0.314      -2.873       0.924\n",
      "year1940        1.0451      0.985      1.061      0.289      -0.887       2.977\n",
      "year1945        1.4262      1.029      1.386      0.166      -0.592       3.444\n",
      "year1950       -0.1575      0.955     -0.165      0.869      -2.029       1.714\n",
      "year1955        1.6741      0.923      1.814      0.070      -0.135       3.484\n",
      "year1960        1.1305      0.925      1.223      0.222      -0.682       2.943\n",
      "year1965       -0.6085      0.948     -0.642      0.521      -2.468       1.251\n",
      "year1970        2.0770      1.016      2.045      0.041       0.085       4.069\n",
      "year1975        1.6143      1.167      1.383      0.167      -0.674       3.903\n",
      "==============================================================================\n",
      "Omnibus:                       79.083   Durbin-Watson:                   1.921\n",
      "Prob(Omnibus):                  0.000   Jarque-Bera (JB):               84.486\n",
      "Skew:                           0.394   Prob(JB):                     4.51e-19\n",
      "Kurtosis:                       3.029   Cond. No.                         427.\n",
      "==============================================================================\n",
      "\n",
      "Notes:\n",
      "[1] Standard Errors assume that the covariance matrix of the errors is correctly specified.\n"
     ]
    }
   ],
   "source": [
    "def run_topic_model(path_to_model, chunksused = 0.25, fractioncompared = 1.0):\n",
    "    precocity = []\n",
    "    novelty = []\n",
    "    date = []\n",
    "    ages = []\n",
    "\n",
    "    for decade in range(1910, 1980, 5):\n",
    "        \n",
    "        data = pd.read_csv(path_to_model + str(decade) + 's_docs.tsv', sep = '\\t')\n",
    "\n",
    "        data.set_index('docid', inplace=True)\n",
    "\n",
    "        data = data.join(agemeta['author_age'], how='inner')\n",
    "\n",
    "        selected = data.loc[(data.time_radius == 20) & (data.filtered == 'trainauthquote') &\n",
    "            (data.chunks_used == chunksused) & (data.fraction_compared == fractioncompared), :]\n",
    "        \n",
    "        r, p = pearsonr(selected.author_age, selected.precocity)\n",
    "        print(decade, round(r, 5))\n",
    "\n",
    "        precocity.extend(selected.precocity.values.tolist())\n",
    "        novelty.extend(selected.novelty.values.tolist())\n",
    "        date.extend(selected.date.values.tolist())\n",
    "        ages.extend(selected.author_age.values.tolist())\n",
    "\n",
    "    reg_df = pd.DataFrame({'precocity': precocity, 'novelty': novelty, 'date': date, 'ages': ages})\n",
    "    controlled_model(reg_df)\n",
    "    return reg_df\n",
    "\n",
    "reg_df = run_topic_model('../topicmodel/ficresults/precocity_tuned_', chunksused = 0.25, fractioncompared = 1.0)"
   ]
  },
  {
   "cell_type": "code",
   "execution_count": 33,
   "metadata": {},
   "outputs": [
    {
     "name": "stdout",
     "output_type": "stream",
     "text": [
      "1979\n"
     ]
    },
    {
     "data": {
      "image/png": "[encoded data removed]",
      "text/plain": [
       "<Figure size 640x480 with 1 Axes>"
      ]
     },
     "metadata": {},
     "output_type": "display_data"
    }
   ],
   "source": [
    "sns.histplot(reg_df.date, binwidth = 1)\n",
    "print(max(reg_df.date))"
   ]
  },
  {
   "cell_type": "code",
   "execution_count": 11,
   "metadata": {},
   "outputs": [
    {
     "name": "stdout",
     "output_type": "stream",
     "text": [
      "1910 -0.17515\n",
      "1915 -0.1452\n",
      "1920 4e-05\n",
      "1925 -0.32324\n",
      "1930 -0.37941\n",
      "1935 -0.24746\n",
      "1940 -0.28663\n",
      "1945 -0.28047\n",
      "1950 -0.32368\n",
      "1955 -0.46759\n",
      "1960 -0.2153\n",
      "1965 -0.20212\n",
      "1970 -0.14746\n",
      "1975 -0.29607\n",
      "                            OLS Regression Results                            \n",
      "==============================================================================\n",
      "Dep. Variable:                   ages   R-squared:                       0.059\n",
      "Model:                            OLS   Adj. R-squared:                  0.054\n",
      "Method:                 Least Squares   F-statistic:                     11.98\n",
      "Date:                Fri, 05 Jul 2024   Prob (F-statistic):           7.52e-33\n",
      "Time:                        23:10:30   Log-Likelihood:                -12980.\n",
      "No. Observations:                3259   AIC:                         2.600e+04\n",
      "Df Residuals:                    3241   BIC:                         2.611e+04\n",
      "Df Model:                          17                                         \n",
      "Covariance Type:            nonrobust                                         \n",
      "===============================================================================\n",
      "                  coef    std err          t      P>|t|      [0.025      0.975]\n",
      "-------------------------------------------------------------------------------\n",
      "const          42.1077      1.792     23.501      0.000      38.595      45.621\n",
      "precocity     -36.3296      2.987    -12.163      0.000     -42.186     -30.473\n",
      "novelty         0.4743      0.282      1.683      0.093      -0.078       1.027\n",
      "precocity^2   -43.5191     17.117     -2.542      0.011     -77.080      -9.958\n",
      "year1910       -3.1305      1.109     -2.822      0.005      -5.306      -0.955\n",
      "year1915       -3.5491      1.107     -3.207      0.001      -5.719      -1.379\n",
      "year1920       -2.4084      1.028     -2.344      0.019      -4.423      -0.394\n",
      "year1925        0.3049      0.972      0.314      0.754      -1.602       2.212\n",
      "year1930       -1.5700      0.980     -1.602      0.109      -3.492       0.352\n",
      "year1935       -1.2232      0.970     -1.261      0.207      -3.125       0.678\n",
      "year1940        0.7238      0.985      0.735      0.463      -1.208       2.655\n",
      "year1945        1.2156      1.034      1.175      0.240      -0.813       3.244\n",
      "year1950       -0.4414      0.951     -0.464      0.643      -2.307       1.424\n",
      "year1955        1.4858      0.923      1.609      0.108      -0.325       3.296\n",
      "year1960        1.2806      0.928      1.381      0.167      -0.538       3.099\n",
      "year1965       -0.0126      0.953     -0.013      0.989      -1.882       1.857\n",
      "year1970        2.9426      1.031      2.853      0.004       0.920       4.965\n",
      "year1975        2.1491      1.174      1.831      0.067      -0.152       4.451\n",
      "==============================================================================\n",
      "Omnibus:                       76.828   Durbin-Watson:                   1.926\n",
      "Prob(Omnibus):                  0.000   Jarque-Bera (JB):               81.930\n",
      "Skew:                           0.388   Prob(JB):                     1.62e-18\n",
      "Kurtosis:                       3.021   Cond. No.                         432.\n",
      "==============================================================================\n",
      "\n",
      "Notes:\n",
      "[1] Standard Errors assume that the covariance matrix of the errors is correctly specified.\n"
     ]
    }
   ],
   "source": [
    "reg_df = run_topic_model('../topicmodel/ficresults/precocity_tuned_', chunksused = 1.0, fractioncompared = 1.0)"
   ]
  },
  {
   "cell_type": "markdown",
   "metadata": {},
   "source": [
    "Note that precocity and novelty now point in the same direction. But novelty is not significant.\n",
    "\n",
    "Compare a null model:"
   ]
  },
  {
   "cell_type": "code",
   "execution_count": 46,
   "metadata": {},
   "outputs": [
    {
     "name": "stdout",
     "output_type": "stream",
     "text": [
      "                            OLS Regression Results                            \n",
      "==============================================================================\n",
      "Dep. Variable:                   ages   R-squared:                       0.010\n",
      "Model:                            OLS   Adj. R-squared:                  0.005\n",
      "Method:                 Least Squares   F-statistic:                     2.282\n",
      "Date:                Fri, 05 Jul 2024   Prob (F-statistic):            0.00421\n",
      "Time:                        16:43:40   Log-Likelihood:                -13063.\n",
      "No. Observations:                3259   AIC:                         2.616e+04\n",
      "Df Residuals:                    3244   BIC:                         2.625e+04\n",
      "Df Model:                          14                                         \n",
      "Covariance Type:            nonrobust                                         \n",
      "===============================================================================\n",
      "                  coef    std err          t      P>|t|      [0.025      0.975]\n",
      "-------------------------------------------------------------------------------\n",
      "const          44.5433      0.755     59.026      0.000      43.064      46.023\n",
      "precocity    1.137e-15   7.05e-16      1.614      0.107   -2.44e-16    2.52e-15\n",
      "novelty     -8.479e-16   3.83e-16     -2.216      0.027    -1.6e-15   -9.78e-17\n",
      "precocity^2 -7.135e-16   5.86e-16     -1.217      0.224   -1.86e-15    4.36e-16\n",
      "year1910       -0.5977      1.097     -0.545      0.586      -2.748       1.553\n",
      "year1915        0.3604      1.030      0.350      0.726      -1.658       2.379\n",
      "year1920        0.4122      0.989      0.417      0.677      -1.527       2.351\n",
      "year1925        0.5739      0.992      0.578      0.563      -1.372       2.520\n",
      "year1930       -1.7439      1.005     -1.736      0.083      -3.713       0.226\n",
      "year1935       -1.6979      0.992     -1.711      0.087      -3.643       0.247\n",
      "year1940        1.0817      1.002      1.080      0.280      -0.882       3.046\n",
      "year1945        2.3462      1.042      2.252      0.024       0.303       4.389\n",
      "year1950       -0.3433      0.964     -0.356      0.722      -2.233       1.546\n",
      "year1955        1.5376      0.935      1.644      0.100      -0.297       3.372\n",
      "year1960        1.1326      0.946      1.198      0.231      -0.722       2.987\n",
      "year1965       -1.2785      0.969     -1.319      0.187      -3.179       0.622\n",
      "year1970       -0.1825      1.027     -0.178      0.859      -2.195       1.830\n",
      "year1975       -0.8521      1.179     -0.723      0.470      -3.165       1.460\n",
      "==============================================================================\n",
      "Omnibus:                      107.798   Durbin-Watson:                   1.947\n",
      "Prob(Omnibus):                  0.000   Jarque-Bera (JB):              118.164\n",
      "Skew:                           0.465   Prob(JB):                     2.19e-26\n",
      "Kurtosis:                       2.926   Cond. No.                     1.78e+19\n",
      "==============================================================================\n",
      "\n",
      "Notes:\n",
      "[1] Standard Errors assume that the covariance matrix of the errors is correctly specified.\n",
      "[2] The smallest eigenvalue is 1.13e-35. This might indicate that there are\n",
      "strong multicollinearity problems or that the design matrix is singular.\n"
     ]
    }
   ],
   "source": [
    "null_reg_df = reg_df.copy()\n",
    "null_reg_df['precocity'] = 0\n",
    "null_reg_df['novelty'] = 0\n",
    "controlled_model(null_reg_df)"
   ]
  },
  {
   "cell_type": "markdown",
   "metadata": {},
   "source": [
    "So precocity explains about 5% of the variance in age, in this model.\n",
    "\n",
    "We can also visualize the relationship."
   ]
  },
  {
   "cell_type": "code",
   "execution_count": 13,
   "metadata": {},
   "outputs": [
    {
     "data": {
      "text/plain": [
       "<seaborn.axisgrid.FacetGrid at 0x2ac8af9b0>"
      ]
     },
     "execution_count": 13,
     "metadata": {},
     "output_type": "execute_result"
    },
    {
     "data": {
      "image/png": "[encoded data removed]",
      "text/plain": [
       "<Figure size 500x500 with 1 Axes>"
      ]
     },
     "metadata": {},
     "output_type": "display_data"
    }
   ],
   "source": [
    "# Select 300 rows from reg_df.\n",
    "\n",
    "reg_df = reg_df.sample(n = 300, replace = False, random_state=40)\n",
    "\n",
    "# Plot the relationship between precocity and age\n",
    "\n",
    "sns.lmplot(x = 'ages', y = 'precocity', data = reg_df)"
   ]
  },
  {
   "cell_type": "markdown",
   "metadata": {},
   "source": [
    "That centenarian is probably an error in the data, but the pattern will survive removing it.\n",
    "\n",
    "### How good are embeddings at predicting age?"
   ]
  },
  {
   "cell_type": "code",
   "execution_count": 18,
   "metadata": {},
   "outputs": [
    {
     "name": "stdout",
     "output_type": "stream",
     "text": [
      "1910 -0.27052\n",
      "1913 -0.24724\n",
      "1916 -0.26504\n",
      "1919 -0.18093\n",
      "1922 0.07982\n",
      "1925 -0.05958\n",
      "1928 -0.25605\n",
      "1931 -0.42284\n",
      "1934 -0.21346\n",
      "1937 -0.37193\n",
      "1940 -0.2482\n",
      "1943 -0.31922\n",
      "1946 -0.38178\n",
      "1949 -0.44827\n",
      "1952 -0.45163\n",
      "1955 -0.50715\n",
      "1958 -0.47019\n",
      "1961 -0.36014\n",
      "1964 -0.14588\n",
      "1967 -0.34949\n",
      "1970 -0.2529\n",
      "1973 -0.19284\n",
      "1976 -0.16878\n",
      "1979 -0.16478\n",
      "                            OLS Regression Results                            \n",
      "==============================================================================\n",
      "Dep. Variable:                   ages   R-squared:                       0.100\n",
      "Model:                            OLS   Adj. R-squared:                  0.093\n",
      "Method:                 Least Squares   F-statistic:                     14.40\n",
      "Date:                Sat, 06 Jul 2024   Prob (F-statistic):           6.30e-40\n",
      "Time:                        12:56:38   Log-Likelihood:                -8698.8\n",
      "No. Observations:                2220   AIC:                         1.743e+04\n",
      "Df Residuals:                    2202   BIC:                         1.754e+04\n",
      "Df Model:                          17                                         \n",
      "Covariance Type:            nonrobust                                         \n",
      "===============================================================================\n",
      "                  coef    std err          t      P>|t|      [0.025      0.975]\n",
      "-------------------------------------------------------------------------------\n",
      "const          47.5870      0.987     48.196      0.000      45.651      49.523\n",
      "precocity    -442.6074     35.011    -12.642      0.000    -511.265    -373.950\n",
      "novelty        53.0970     19.565      2.714      0.007      14.730      91.464\n",
      "precocity^2  6249.4900   1045.131      5.980      0.000    4199.944    8299.036\n",
      "year1910       -1.3585      1.116     -1.217      0.224      -3.547       0.830\n",
      "year1915        0.0616      1.038      0.059      0.953      -1.975       2.098\n",
      "year1920       -0.7971      1.123     -0.710      0.478      -3.000       1.406\n",
      "year1925        3.7151      1.294      2.872      0.004       1.178       6.252\n",
      "year1930       -0.3495      1.198     -0.292      0.770      -2.698       1.999\n",
      "year1935       -0.3337      1.126     -0.296      0.767      -2.542       1.875\n",
      "year1940        2.1831      1.128      1.936      0.053      -0.028       4.395\n",
      "year1945        1.4525      1.122      1.294      0.196      -0.748       3.653\n",
      "year1950       -1.0144      1.175     -0.863      0.388      -3.319       1.290\n",
      "year1955        0.1371      1.215      0.113      0.910      -2.246       2.520\n",
      "year1960        1.3248      1.164      1.139      0.255      -0.957       3.607\n",
      "year1965       -0.4335      1.098     -0.395      0.693      -2.587       1.720\n",
      "year1970        1.5793      1.069      1.478      0.140      -0.517       3.675\n",
      "year1975        1.9903      1.224      1.626      0.104      -0.410       4.390\n",
      "==============================================================================\n",
      "Omnibus:                       48.512   Durbin-Watson:                   1.920\n",
      "Prob(Omnibus):                  0.000   Jarque-Bera (JB):               51.260\n",
      "Skew:                           0.368   Prob(JB):                     7.40e-12\n",
      "Kurtosis:                       2.890   Cond. No.                     4.23e+03\n",
      "==============================================================================\n",
      "\n",
      "Notes:\n",
      "[1] Standard Errors assume that the covariance matrix of the errors is correctly specified.\n",
      "[2] The condition number is large, 4.23e+03. This might indicate that there are\n",
      "strong multicollinearity or other numerical problems.\n"
     ]
    }
   ],
   "source": [
    "def run_embedding_model(path_to_model, chunksused = 0.25, fractioncompared = 1.0):\n",
    "    precocity = []\n",
    "    novelty = []\n",
    "    date = []\n",
    "    ages = []\n",
    "\n",
    "    datecounter = Counter()\n",
    "\n",
    "    for decade in range(1910, 1980, 3):\n",
    "        \n",
    "        data = pd.read_csv(path_to_model + str(decade) + 's_docs.tsv', sep = '\\t')\n",
    "        data['docid'] = data['docid'].astype(str)\n",
    "        data.set_index('docid', inplace=True)\n",
    "        datecounter.update(data.date.unique())\n",
    "        data = data.join(agemeta['author_age'], how='inner')\n",
    "        \n",
    "        selected = data.loc[(data.time_radius == 20) & (data.filtered == 'trainauthquote') &\n",
    "            (data.chunks_used == chunksused) & (data.fraction_compared == fractioncompared), :]\n",
    "        \n",
    "        try:\n",
    "            r, p = pearsonr(selected.author_age, selected.precocity)\n",
    "            print(decade, round(r, 5))\n",
    "        except:\n",
    "            print('No correlation for ', decade)\n",
    "            pass\n",
    "\n",
    "        precocity.extend(selected.precocity.values.tolist())\n",
    "        novelty.extend(selected.novelty.values.tolist())\n",
    "        date.extend(selected.date.values.tolist())\n",
    "        ages.extend(selected.author_age.values.tolist())\n",
    "\n",
    "    reg_df = pd.DataFrame({'precocity': precocity, 'novelty': novelty, 'date': date, 'ages': ages})\n",
    "    controlled_model(reg_df)\n",
    "    for i in range(1910, 1980):\n",
    "        if datecounter[i] < 1:\n",
    "            print(i)\n",
    "    return reg_df\n",
    "\n",
    "reg_df = run_embedding_model('../tunedembeddings/ficresults/precocity_fiction_', chunksused = 0.25, fractioncompared = 1.0)"
   ]
  },
  {
   "cell_type": "code",
   "execution_count": 15,
   "metadata": {},
   "outputs": [
    {
     "name": "stdout",
     "output_type": "stream",
     "text": [
      "1910 -0.26937\n",
      "1913 -0.28158\n",
      "1916 -0.30212\n",
      "1919 -0.14817\n",
      "1922 0.09247\n",
      "1925 -0.0596\n",
      "1928 -0.28357\n",
      "1931 -0.41499\n",
      "1934 -0.1873\n",
      "1937 -0.40931\n",
      "1940 -0.24833\n",
      "1943 -0.28854\n",
      "1946 -0.38325\n",
      "1949 -0.4084\n",
      "1952 -0.44382\n",
      "1955 -0.49001\n",
      "1958 -0.49137\n",
      "1961 -0.35528\n",
      "1964 -0.11146\n",
      "1967 -0.35551\n",
      "1970 -0.19763\n",
      "1973 -0.17557\n",
      "1976 -0.17643\n",
      "1979 -0.2326\n",
      "                            OLS Regression Results                            \n",
      "==============================================================================\n",
      "Dep. Variable:                   ages   R-squared:                       0.093\n",
      "Model:                            OLS   Adj. R-squared:                  0.086\n",
      "Method:                 Least Squares   F-statistic:                     13.36\n",
      "Date:                Sat, 06 Jul 2024   Prob (F-statistic):           1.13e-36\n",
      "Time:                        12:53:33   Log-Likelihood:                -8706.9\n",
      "No. Observations:                2220   AIC:                         1.745e+04\n",
      "Df Residuals:                    2202   BIC:                         1.755e+04\n",
      "Df Model:                          17                                         \n",
      "Covariance Type:            nonrobust                                         \n",
      "===============================================================================\n",
      "                  coef    std err          t      P>|t|      [0.025      0.975]\n",
      "-------------------------------------------------------------------------------\n",
      "const          43.5344      0.973     44.740      0.000      41.626      45.443\n",
      "precocity    -284.5916     22.840    -12.460      0.000    -329.382    -239.801\n",
      "novelty        47.2887     19.859      2.381      0.017       8.344      86.234\n",
      "precocity^2  5635.3313   1059.201      5.320      0.000    3558.194    7712.468\n",
      "year1910       -1.7151      1.120     -1.532      0.126      -3.911       0.480\n",
      "year1915        0.2982      1.039      0.287      0.774      -1.739       2.336\n",
      "year1920       -1.1194      1.133     -0.988      0.323      -3.342       1.103\n",
      "year1925        3.6509      1.321      2.763      0.006       1.060       6.242\n",
      "year1930       -0.0940      1.204     -0.078      0.938      -2.456       2.268\n",
      "year1935        0.0831      1.130      0.074      0.941      -2.132       2.298\n",
      "year1940        2.1965      1.134      1.937      0.053      -0.027       4.420\n",
      "year1945        1.6692      1.127      1.481      0.139      -0.542       3.880\n",
      "year1950       -0.8197      1.179     -0.695      0.487      -3.133       1.493\n",
      "year1955        0.3883      1.220      0.318      0.750      -2.004       2.780\n",
      "year1960        1.7052      1.167      1.461      0.144      -0.584       3.994\n",
      "year1965       -0.4895      1.102     -0.444      0.657      -2.651       1.672\n",
      "year1970        1.1203      1.071      1.046      0.296      -0.980       3.220\n",
      "year1975        1.2859      1.207      1.065      0.287      -1.081       3.653\n",
      "==============================================================================\n",
      "Omnibus:                       54.065   Durbin-Watson:                   1.916\n",
      "Prob(Omnibus):                  0.000   Jarque-Bera (JB):               57.618\n",
      "Skew:                           0.392   Prob(JB):                     3.08e-13\n",
      "Kurtosis:                       2.906   Cond. No.                     4.27e+03\n",
      "==============================================================================\n",
      "\n",
      "Notes:\n",
      "[1] Standard Errors assume that the covariance matrix of the errors is correctly specified.\n",
      "[2] The condition number is large, 4.27e+03. This might indicate that there are\n",
      "strong multicollinearity or other numerical problems.\n"
     ]
    }
   ],
   "source": [
    "reg_df = run_embedding_model('../tunedembeddings/ficresults/precocity_fiction_', chunksused = 1.0, fractioncompared = 1.0)"
   ]
  },
  {
   "cell_type": "code",
   "execution_count": 16,
   "metadata": {},
   "outputs": [
    {
     "name": "stdout",
     "output_type": "stream",
     "text": [
      "                            OLS Regression Results                            \n",
      "==============================================================================\n",
      "Dep. Variable:                   ages   R-squared:                       0.018\n",
      "Model:                            OLS   Adj. R-squared:                  0.012\n",
      "Method:                 Least Squares   F-statistic:                     2.947\n",
      "Date:                Sat, 06 Jul 2024   Prob (F-statistic):           0.000179\n",
      "Time:                        12:53:49   Log-Likelihood:                -8795.2\n",
      "No. Observations:                2220   AIC:                         1.762e+04\n",
      "Df Residuals:                    2205   BIC:                         1.771e+04\n",
      "Df Model:                          14                                         \n",
      "Covariance Type:            nonrobust                                         \n",
      "===============================================================================\n",
      "                  coef    std err          t      P>|t|      [0.025      0.975]\n",
      "-------------------------------------------------------------------------------\n",
      "const          43.0500      0.891     48.321      0.000      41.303      44.797\n",
      "precocity     4.76e-15   9.84e-16      4.840      0.000    2.83e-15    6.69e-15\n",
      "novelty      2.748e-15   8.67e-16      3.170      0.002    1.05e-15    4.45e-15\n",
      "precocity^2 -1.002e-15   4.74e-16     -2.114      0.035   -1.93e-15   -7.27e-17\n",
      "year1910       -0.4667      1.157     -0.403      0.687      -2.736       1.803\n",
      "year1915        1.3793      1.071      1.288      0.198      -0.720       3.479\n",
      "year1920        1.0559      1.157      0.913      0.361      -1.213       3.325\n",
      "year1925        1.7707      1.297      1.365      0.172      -0.773       4.315\n",
      "year1930       -1.6890      1.244     -1.357      0.175      -4.129       0.751\n",
      "year1935       -1.0758      1.168     -0.921      0.357      -3.367       1.216\n",
      "year1940        3.2257      1.169      2.758      0.006       0.933       5.519\n",
      "year1945        3.7984      1.154      3.290      0.001       1.535       6.062\n",
      "year1950       -1.0537      1.226     -0.859      0.390      -3.458       1.351\n",
      "year1955        0.2107      1.268      0.166      0.868      -2.275       2.697\n",
      "year1960        1.7740      1.212      1.463      0.144      -0.604       4.152\n",
      "year1965       -1.1907      1.144     -1.041      0.298      -3.434       1.052\n",
      "year1970        0.5603      1.112      0.504      0.614      -1.620       2.741\n",
      "year1975       -0.0291      1.242     -0.023      0.981      -2.464       2.406\n",
      "==============================================================================\n",
      "Omnibus:                       98.797   Durbin-Watson:                   1.940\n",
      "Prob(Omnibus):                  0.000   Jarque-Bera (JB):              111.308\n",
      "Skew:                           0.545   Prob(JB):                     6.76e-25\n",
      "Kurtosis:                       3.118   Cond. No.                     1.31e+17\n",
      "==============================================================================\n",
      "\n",
      "Notes:\n",
      "[1] Standard Errors assume that the covariance matrix of the errors is correctly specified.\n",
      "[2] The smallest eigenvalue is 1.43e-31. This might indicate that there are\n",
      "strong multicollinearity problems or that the design matrix is singular.\n"
     ]
    }
   ],
   "source": [
    "null_reg_df = reg_df.copy()\n",
    "null_reg_df['precocity'] = 0\n",
    "null_reg_df['novelty'] = 0\n",
    "controlled_model(null_reg_df)"
   ]
  },
  {
   "cell_type": "code",
   "execution_count": 17,
   "metadata": {},
   "outputs": [
    {
     "name": "stdout",
     "output_type": "stream",
     "text": [
      "[1980]\n"
     ]
    },
    {
     "data": {
      "image/png": "[encoded data removed]",
      "text/plain": [
       "<Figure size 640x480 with 1 Axes>"
      ]
     },
     "metadata": {},
     "output_type": "display_data"
    }
   ],
   "source": [
    "# Visualize distribution of reg_df rows over the reg_df.date column\n",
    "# as a histogram of row counts, with a bin for each year.\n",
    "\n",
    "sns.histplot(reg_df.date, binwidth = 1)\n",
    "\n",
    "# print years between 1910 and 1980 that have zero rows\n",
    "years_with_zero_rows = []\n",
    "for year in range(1910, 1981):\n",
    "\tif year not in reg_df['date'].unique():\n",
    "\t\tyears_with_zero_rows.append(year)\n",
    "\n",
    "print(years_with_zero_rows)\n",
    "\n"
   ]
  },
  {
   "cell_type": "code",
   "execution_count": 19,
   "metadata": {},
   "outputs": [
    {
     "data": {
      "text/plain": [
       "<seaborn.axisgrid.FacetGrid at 0x2b4090380>"
      ]
     },
     "execution_count": 19,
     "metadata": {},
     "output_type": "execute_result"
    },
    {
     "data": {
      "image/png": "[encoded data removed]",
      "text/plain": [
       "<Figure size 500x500 with 1 Axes>"
      ]
     },
     "metadata": {},
     "output_type": "display_data"
    }
   ],
   "source": [
    "# Select 300 rows from reg_df.\n",
    "\n",
    "reg_df = reg_df.sample(n = 300, replace = False, random_state=40)\n",
    "\n",
    "# Plot the relationship between precocity and age\n",
    "\n",
    "sns.lmplot(x = 'ages', y = 'precocity', data = reg_df)"
   ]
  },
  {
   "cell_type": "markdown",
   "metadata": {},
   "source": [
    "This relationship is stronger; embeddings explain almost 9% of the variance in author age, where precocity calculated on a topic model could only explain 5%. Maybe embeddings are better suited to capture subtleties of phrasing that correlate with generational cohorts.\n",
    "\n",
    "## Are books discussed by critics generally ahead of their time?\n",
    "\n",
    "The list of books that are referenced in critical articles is pushed up to repo as CommonlyReferenced.tsv. We have a count of references for each book, but right now I wouldn't be comfortable drawing inferences from the relative positions of books in that list. Books with short titles and common author names may be slightly advantaged, and I want to correct for that — and also first-mover advantage! early books have more chances to be mentioned — before comparing differences of degree.\n",
    "\n",
    "Here we'll more crudely compare two sets, that were or were not mentioned by critics: `discussed` and `discussed_contrast.` The latter is distributed across time in the same way as discussed, so a model correcting for time is not necessary. We can just do a t-test.\n",
    "\n",
    "#### How good is a topic model at capturing the kind of innovation that interests critics?"
   ]
  },
  {
   "cell_type": "markdown",
   "metadata": {},
   "source": [
    "# "
   ]
  },
  {
   "cell_type": "code",
   "execution_count": 21,
   "metadata": {},
   "outputs": [],
   "source": [
    "def print_effect_size(t, p, df):\n",
    "    ''' Calculates Cohen's d and r2\n",
    "    for t-test statistics.'''\n",
    "\n",
    "    d = 2*t / math.sqrt(df)\n",
    "    r2 = t**2 / (t**2 + df)\n",
    "\n",
    "    print(f'Cohens d is {d} and r2 is {r2}.')\n"
   ]
  },
  {
   "cell_type": "code",
   "execution_count": 22,
   "metadata": {},
   "outputs": [
    {
     "name": "stdout",
     "output_type": "stream",
     "text": [
      "10.225071271471533 1.0590965223976207e-23 1371\n",
      "Cohens d is 0.5523032669047122 and r2 is 0.07085624678802194.\n"
     ]
    }
   ],
   "source": [
    "dis_kld_precoc = []\n",
    "notdis_kld_precoc = []\n",
    "\n",
    "for decade in range(10, 80, 5):\n",
    "\t\n",
    "\tdata = pd.read_csv('../topicmodel/ficresults/precocity_tuned_19' + str(decade) + 's_docs.tsv', sep = '\\t')\n",
    "\tdata['docid'] = data['docid'].astype(str)\n",
    "\tdata.set_index('docid', inplace=True)\n",
    "\n",
    "\tselected = pd.DataFrame(data.loc[(data.time_radius == 20) & (data.filtered == 'trainauth') & (data.chunks_used == .25) & (data.fraction_compared == 1.0), :])\n",
    "\t\n",
    "\tdis_kld_precoc.extend(selected.loc[selected.index.isin(discussed), 'precocity'])\n",
    "\tnotdis_kld_precoc.extend(selected.loc[selected.index.isin(discussed_contrast), 'precocity'])\n",
    "\n",
    "t, p = ttest_ind(dis_kld_precoc, notdis_kld_precoc)\n",
    "df = len(dis_kld_precoc) + len(notdis_kld_precoc) - 2\n",
    "print(t, p, df)\n",
    "print_effect_size(t, p, df)"
   ]
  },
  {
   "cell_type": "markdown",
   "metadata": {},
   "source": [
    "That's a moderately strong effect. Here's what it looks like."
   ]
  },
  {
   "cell_type": "code",
   "execution_count": 53,
   "metadata": {},
   "outputs": [
    {
     "data": {
      "text/plain": [
       "<Axes: >"
      ]
     },
     "execution_count": 53,
     "metadata": {},
     "output_type": "execute_result"
    },
    {
     "data": {
      "image/png": "[encoded data removed]",
      "text/plain": [
       "<Figure size 400x600 with 1 Axes>"
      ]
     },
     "metadata": {},
     "output_type": "display_data"
    }
   ],
   "source": [
    "# Use seaborn to visualize the difference in precocity between discussed and contrast documents\n",
    "\n",
    "plt.figure(figsize=(4, 6))\n",
    "sns.boxplot(x = ['discussed'] * len(dis_kld_precoc) + ['contrast'] * len(notdis_kld_precoc), y = dis_kld_precoc + notdis_kld_precoc, \\\n",
    "            hue = ['discussed'] * len(dis_kld_precoc) + ['contrast'] * len(notdis_kld_precoc))"
   ]
  },
  {
   "cell_type": "markdown",
   "metadata": {},
   "source": [
    "### We used the top quarter of chunks above. Is that helping predict 'citations' of fiction as it did with academic articles?\n",
    "\n",
    "Yes. If we use all of them we get a smaller effect."
   ]
  },
  {
   "cell_type": "code",
   "execution_count": 54,
   "metadata": {},
   "outputs": [
    {
     "name": "stdout",
     "output_type": "stream",
     "text": [
      "6.855815890720697 1.0690408782117464e-11 1371\n",
      "Cohens d is 0.3703142416529436 and r2 is 0.03314678294953298.\n"
     ]
    }
   ],
   "source": [
    "dis_kld_precoc = []\n",
    "notdis_kld_precoc = []\n",
    "\n",
    "for decade in range(10, 80, 5):\n",
    "\t\n",
    "\tdata = pd.read_csv('../topicmodel/ficresults/precocity_tuned_19' + str(decade) + 's_docs.tsv', sep = '\\t')\n",
    "\tdata['docid'] = data['docid'].astype(str)\n",
    "\tdata.set_index('docid', inplace=True)\n",
    "\n",
    "\tselected = pd.DataFrame(data.loc[(data.time_radius == 20) & (data.filtered == 'trainauth') & (data.chunks_used == 1.0) & (data.fraction_compared == 1.0), :])\n",
    "\t\n",
    "\tdis_kld_precoc.extend(selected.loc[selected.index.isin(discussed), 'precocity'])\n",
    "\tnotdis_kld_precoc.extend(selected.loc[selected.index.isin(discussed_contrast), 'precocity'])\n",
    "\n",
    "t, p = ttest_ind(dis_kld_precoc, notdis_kld_precoc)\n",
    "df = len(dis_kld_precoc) + len(notdis_kld_precoc) - 2\n",
    "print(t, p, df)\n",
    "print_effect_size(t, p, df)"
   ]
  },
  {
   "cell_type": "markdown",
   "metadata": {},
   "source": [
    "#### How good are embeddings at predicting 'citations' of fiction?"
   ]
  },
  {
   "cell_type": "code",
   "execution_count": 23,
   "metadata": {},
   "outputs": [
    {
     "name": "stdout",
     "output_type": "stream",
     "text": [
      "3.412551071851264 0.0006675924072051288 1073\n",
      "Cohens d is 0.20835757509107072 and r2 is 0.010736692095494705.\n"
     ]
    }
   ],
   "source": [
    "dis_embed_precoc = []\n",
    "notdis_embed_precoc = []\n",
    "\n",
    "for decade in range(10, 80, 3):\n",
    "\t\n",
    "\ttry:\n",
    "\t\tdata = pd.read_csv('../tunedembeddings/ficresults/precocity_fiction_19' + str(decade) + 's_docs.tsv', sep = '\\t')\n",
    "\texcept:\n",
    "\t\tprint(decade)\n",
    "\t\tcontinue\n",
    "\tdata['docid'] = data['docid'].astype(str)\n",
    "\tdata.set_index('docid', inplace=True)\n",
    "\n",
    "\tselected = pd.DataFrame(data.loc[(data.time_radius == 20) & (data.filtered == 'trainauth') & (data.chunks_used == .25) & (data.fraction_compared == 1.0), :])\n",
    "\n",
    "\tdis_embed_precoc.extend(selected.loc[selected.index.isin(discussed), 'precocity'])\n",
    "\tnotdis_embed_precoc.extend(selected.loc[selected.index.isin(discussed_contrast), 'precocity'])\n",
    "\n",
    "t, p = ttest_ind(dis_embed_precoc, notdis_embed_precoc)\n",
    "df = len(dis_embed_precoc) + len(notdis_embed_precoc) - 2\n",
    "print(t, p, df)\n",
    "print_effect_size(t, p, df)"
   ]
  },
  {
   "cell_type": "markdown",
   "metadata": {},
   "source": [
    "That's still significant, but a much weaker effect than in the topic model. However, you'll also notice that we're missing about 350 books! I don't know where they went yet, and I definitely need to track that down.\n",
    "\n",
    "However, assuming this result doesn't get much stronger when I find the missing books, we potentially confront a conundrum. Embeddings seem to be better at modeling author age, at least in fiction. But the topic model seems to better capture the kind of innovation that distinguishes books of critical interest from those ignored by critics.\n",
    "\n",
    "We probably need to see if the same thing holds true in literary studies. We could manually infer birth years for a sample of 50-100 prolific critics, which might give us 3x that number of articles?\n",
    "\n",
    "Between filling in that detail for literary studies, and firming up our confidence about the missing books, we might be able to say whether the difference we're seeing is that embeddings are more suited *to fiction*, or more suited to capturing the *kinds of syntactic details that distinguish generational cohorts*.\n",
    "\n",
    "Either way, I think it's likely that we also conclude that topic models, frankly, don't suck as models of innovation in fiction. The differences between topic models and embeddings so far are subtle shades. It's not like we see a major pattern in one that's totally missing in the other."
   ]
  },
  {
   "cell_type": "code",
   "execution_count": 24,
   "metadata": {},
   "outputs": [
    {
     "name": "stdout",
     "output_type": "stream",
     "text": [
      "3.305218362195508 0.0009810592120135177 1052\n",
      "Cohens d is 0.20380849527059766 and r2 is 0.010277746675654908.\n"
     ]
    }
   ],
   "source": [
    "dis_embed_precoc = []\n",
    "notdis_embed_precoc = []\n",
    "\n",
    "for decade in range(10, 79, 3):\n",
    "\t\n",
    "\ttry:\n",
    "\t\tdata = pd.read_csv('../tunedembeddings/ficresults/precocity_fiction_19' + str(decade) + 's_docs.tsv', sep = '\\t')\n",
    "\texcept:\n",
    "\t\tprint(decade)\n",
    "\t\tcontinue\n",
    "\tdata['docid'] = data['docid'].astype(str)\n",
    "\tdata.set_index('docid', inplace=True)\n",
    "\n",
    "\tselected = pd.DataFrame(data.loc[(data.time_radius == 20) & (data.filtered == 'trainauth') & (data.chunks_used == 1.0) & (data.fraction_compared == 1.0), :])\n",
    "\n",
    "\tdis_embed_precoc.extend(selected.loc[selected.index.isin(discussed), 'precocity'])\n",
    "\tnotdis_embed_precoc.extend(selected.loc[selected.index.isin(discussed_contrast), 'precocity'])\n",
    "\n",
    "t, p = ttest_ind(dis_embed_precoc, notdis_embed_precoc)\n",
    "df = len(dis_embed_precoc) + len(notdis_embed_precoc) - 2\n",
    "print(t, p, df)\n",
    "print_effect_size(t, p, df)"
   ]
  },
  {
   "cell_type": "code",
   "execution_count": null,
   "metadata": {},
   "outputs": [],
   "source": []
  }
 ],
 "metadata": {
  "kernelspec": {
   "display_name": "global312",
   "language": "python",
   "name": "python3"
  },
  "language_info": {
   "codemirror_mode": {
    "name": "ipython",
    "version": 3
   },
   "file_extension": ".py",
   "mimetype": "text/x-python",
   "name": "python",
   "nbconvert_exporter": "python",
   "pygments_lexer": "ipython3",
   "version": "3.12.1"
  }
 },
 "nbformat": 4,
 "nbformat_minor": 2
}
