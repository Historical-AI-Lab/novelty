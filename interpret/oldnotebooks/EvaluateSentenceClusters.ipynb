{
 "cells": [
  {
   "cell_type": "markdown",
   "id": "5f6daa34-e5c4-4b6a-9b1c-265da69f3c2c",
   "metadata": {},
   "source": [
    "# Evaluate results for sentence clusters\n",
    "\n",
    "Compare precocity for sentence clusters 1981 - 1998 to precocity for 512-token chunks.\n"
   ]
  },
  {
   "cell_type": "code",
   "execution_count": 1,
   "id": "88ffe450-529e-49da-8291-96db6b0b4cb3",
   "metadata": {},
   "outputs": [],
   "source": [
    "import pandas as pd\n",
    "from scipy.stats import pearsonr, spearmanr\n",
    "import math\n",
    "import numpy as np\n",
    "import statsmodels.api as sm\n",
    "import matplotlib.pyplot as plt"
   ]
  },
  {
   "cell_type": "markdown",
   "id": "6b7b414c-9f58-47ab-be6f-df67353eb680",
   "metadata": {},
   "source": [
    "### Loading the needed data\n",
    "\n",
    "We need to load the 1980s and 1990s for both \"cosine\" (512-token chunk) and \"cluster\" (sentence-clusters).\n",
    "\n",
    "We need to concatenate all those files into one data frame and create a ```logcitations``` column."
   ]
  },
  {
   "cell_type": "code",
   "execution_count": 14,
   "id": "0dfafe22-411c-4c0e-967c-8196295bef8c",
   "metadata": {},
   "outputs": [
    {
     "name": "stdout",
     "output_type": "stream",
     "text": [
      "(66432, 10) 81\n",
      "(74352, 10) 90\n",
      "(83808, 10) 80\n",
      "(65216, 10) 90\n",
      "Initial stage:  (140784, 5) (149024, 5)\n",
      "Intermediate stage:  (131648, 8)\n",
      "Final stage should be the same: (131648, 15)\n"
     ]
    },
    {
     "data": {
      "text/html": [
       "<div>\n",
       "<style scoped>\n",
       "    .dataframe tbody tr th:only-of-type {\n",
       "        vertical-align: middle;\n",
       "    }\n",
       "\n",
       "    .dataframe tbody tr th {\n",
       "        vertical-align: top;\n",
       "    }\n",
       "\n",
       "    .dataframe thead th {\n",
       "        text-align: right;\n",
       "    }\n",
       "</style>\n",
       "<table border=\"1\" class=\"dataframe\">\n",
       "  <thead>\n",
       "    <tr style=\"text-align: right;\">\n",
       "      <th></th>\n",
       "      <th>fraction_compared</th>\n",
       "      <th>filtered</th>\n",
       "      <th>time_radius</th>\n",
       "      <th>chunks_used</th>\n",
       "      <th>date</th>\n",
       "      <th>num_chunks</th>\n",
       "      <th>precocity</th>\n",
       "      <th>novelty</th>\n",
       "      <th>transience</th>\n",
       "      <th>chunk_novelty</th>\n",
       "      <th>chunk_transience</th>\n",
       "      <th>chunk_precocity</th>\n",
       "      <th>new_cite_count</th>\n",
       "      <th>logcitations</th>\n",
       "      <th>year</th>\n",
       "    </tr>\n",
       "  </thead>\n",
       "  <tbody>\n",
       "    <tr>\n",
       "      <th>00016cd8a14cff02816b3b753546f3792cc11ca3</th>\n",
       "      <td>1.0</td>\n",
       "      <td>True</td>\n",
       "      <td>10</td>\n",
       "      <td>1.00</td>\n",
       "      <td>1986</td>\n",
       "      <td>5</td>\n",
       "      <td>-0.002878</td>\n",
       "      <td>0.081163</td>\n",
       "      <td>0.084041</td>\n",
       "      <td>0.218171</td>\n",
       "      <td>0.225304</td>\n",
       "      <td>-0.007133</td>\n",
       "      <td>0</td>\n",
       "      <td>0.0</td>\n",
       "      <td>1986</td>\n",
       "    </tr>\n",
       "    <tr>\n",
       "      <th>00016cd8a14cff02816b3b753546f3792cc11ca3</th>\n",
       "      <td>1.0</td>\n",
       "      <td>True</td>\n",
       "      <td>10</td>\n",
       "      <td>0.25</td>\n",
       "      <td>1986</td>\n",
       "      <td>5</td>\n",
       "      <td>-0.002033</td>\n",
       "      <td>0.069945</td>\n",
       "      <td>0.071978</td>\n",
       "      <td>0.215278</td>\n",
       "      <td>0.221394</td>\n",
       "      <td>-0.006115</td>\n",
       "      <td>0</td>\n",
       "      <td>0.0</td>\n",
       "      <td>1986</td>\n",
       "    </tr>\n",
       "    <tr>\n",
       "      <th>00016cd8a14cff02816b3b753546f3792cc11ca3</th>\n",
       "      <td>1.0</td>\n",
       "      <td>True</td>\n",
       "      <td>20</td>\n",
       "      <td>1.00</td>\n",
       "      <td>1986</td>\n",
       "      <td>5</td>\n",
       "      <td>-0.004392</td>\n",
       "      <td>0.080682</td>\n",
       "      <td>0.085073</td>\n",
       "      <td>0.216881</td>\n",
       "      <td>0.226694</td>\n",
       "      <td>-0.009813</td>\n",
       "      <td>0</td>\n",
       "      <td>0.0</td>\n",
       "      <td>1986</td>\n",
       "    </tr>\n",
       "    <tr>\n",
       "      <th>00016cd8a14cff02816b3b753546f3792cc11ca3</th>\n",
       "      <td>1.0</td>\n",
       "      <td>True</td>\n",
       "      <td>20</td>\n",
       "      <td>0.25</td>\n",
       "      <td>1986</td>\n",
       "      <td>5</td>\n",
       "      <td>-0.003288</td>\n",
       "      <td>0.069613</td>\n",
       "      <td>0.072901</td>\n",
       "      <td>0.214357</td>\n",
       "      <td>0.222488</td>\n",
       "      <td>-0.008131</td>\n",
       "      <td>0</td>\n",
       "      <td>0.0</td>\n",
       "      <td>1986</td>\n",
       "    </tr>\n",
       "    <tr>\n",
       "      <th>00016cd8a14cff02816b3b753546f3792cc11ca3</th>\n",
       "      <td>1.0</td>\n",
       "      <td>False</td>\n",
       "      <td>10</td>\n",
       "      <td>1.00</td>\n",
       "      <td>1986</td>\n",
       "      <td>5</td>\n",
       "      <td>-0.002876</td>\n",
       "      <td>0.081163</td>\n",
       "      <td>0.084039</td>\n",
       "      <td>0.218171</td>\n",
       "      <td>0.225302</td>\n",
       "      <td>-0.007130</td>\n",
       "      <td>0</td>\n",
       "      <td>0.0</td>\n",
       "      <td>1986</td>\n",
       "    </tr>\n",
       "  </tbody>\n",
       "</table>\n",
       "</div>"
      ],
      "text/plain": [
       "                                          fraction_compared  filtered  \\\n",
       "00016cd8a14cff02816b3b753546f3792cc11ca3                1.0      True   \n",
       "00016cd8a14cff02816b3b753546f3792cc11ca3                1.0      True   \n",
       "00016cd8a14cff02816b3b753546f3792cc11ca3                1.0      True   \n",
       "00016cd8a14cff02816b3b753546f3792cc11ca3                1.0      True   \n",
       "00016cd8a14cff02816b3b753546f3792cc11ca3                1.0     False   \n",
       "\n",
       "                                          time_radius  chunks_used  date  \\\n",
       "00016cd8a14cff02816b3b753546f3792cc11ca3           10         1.00  1986   \n",
       "00016cd8a14cff02816b3b753546f3792cc11ca3           10         0.25  1986   \n",
       "00016cd8a14cff02816b3b753546f3792cc11ca3           20         1.00  1986   \n",
       "00016cd8a14cff02816b3b753546f3792cc11ca3           20         0.25  1986   \n",
       "00016cd8a14cff02816b3b753546f3792cc11ca3           10         1.00  1986   \n",
       "\n",
       "                                          num_chunks  precocity   novelty  \\\n",
       "00016cd8a14cff02816b3b753546f3792cc11ca3           5  -0.002878  0.081163   \n",
       "00016cd8a14cff02816b3b753546f3792cc11ca3           5  -0.002033  0.069945   \n",
       "00016cd8a14cff02816b3b753546f3792cc11ca3           5  -0.004392  0.080682   \n",
       "00016cd8a14cff02816b3b753546f3792cc11ca3           5  -0.003288  0.069613   \n",
       "00016cd8a14cff02816b3b753546f3792cc11ca3           5  -0.002876  0.081163   \n",
       "\n",
       "                                          transience  chunk_novelty  \\\n",
       "00016cd8a14cff02816b3b753546f3792cc11ca3    0.084041       0.218171   \n",
       "00016cd8a14cff02816b3b753546f3792cc11ca3    0.071978       0.215278   \n",
       "00016cd8a14cff02816b3b753546f3792cc11ca3    0.085073       0.216881   \n",
       "00016cd8a14cff02816b3b753546f3792cc11ca3    0.072901       0.214357   \n",
       "00016cd8a14cff02816b3b753546f3792cc11ca3    0.084039       0.218171   \n",
       "\n",
       "                                          chunk_transience  chunk_precocity  \\\n",
       "00016cd8a14cff02816b3b753546f3792cc11ca3          0.225304        -0.007133   \n",
       "00016cd8a14cff02816b3b753546f3792cc11ca3          0.221394        -0.006115   \n",
       "00016cd8a14cff02816b3b753546f3792cc11ca3          0.226694        -0.009813   \n",
       "00016cd8a14cff02816b3b753546f3792cc11ca3          0.222488        -0.008131   \n",
       "00016cd8a14cff02816b3b753546f3792cc11ca3          0.225302        -0.007130   \n",
       "\n",
       "                                          new_cite_count  logcitations  year  \n",
       "00016cd8a14cff02816b3b753546f3792cc11ca3               0           0.0  1986  \n",
       "00016cd8a14cff02816b3b753546f3792cc11ca3               0           0.0  1986  \n",
       "00016cd8a14cff02816b3b753546f3792cc11ca3               0           0.0  1986  \n",
       "00016cd8a14cff02816b3b753546f3792cc11ca3               0           0.0  1986  \n",
       "00016cd8a14cff02816b3b753546f3792cc11ca3               0           0.0  1986  "
      ]
     },
     "execution_count": 14,
     "metadata": {},
     "output_type": "execute_result"
    }
   ],
   "source": [
    "# Create the dataframe we'll analyze\n",
    "\n",
    "chunk_dfs = []\n",
    "cluster_dfs = []\n",
    "\n",
    "for decade in [81, 90]:\n",
    "    cluster_df = pd.read_csv('cluster_cosine_19' + str(decade) + 's_docs.tsv', sep = '\\t')\n",
    "    cluster_dfs.append(cluster_df)\n",
    "    print(cluster_df.shape, decade)\n",
    "\n",
    "for decade in [80, 90]:\n",
    "    cos_df = pd.read_csv('precocity_cosine_19' + str(decade) + 's_docs.tsv', sep = '\\t')\n",
    "    chunk_dfs.append(cos_df)\n",
    "    print(cos_df.shape, decade)\n",
    "\n",
    "clusters = pd.concat(cluster_dfs, axis = 0)\n",
    "chunks = pd.concat(chunk_dfs, axis = 0)\n",
    "\n",
    "multi_index_columns = ['docid', 'fraction_compared', 'filtered', 'time_radius', 'chunks_used']\n",
    "\n",
    "clusters.set_index(multi_index_columns, inplace=True)\n",
    "chunks.set_index(multi_index_columns, inplace=True)\n",
    "\n",
    "# Rename columns in 'embeddings' DataFrame\n",
    "chunks.rename(columns={'novelty': 'chunk_novelty', \n",
    "                           'transience': 'chunk_transience', \n",
    "                           'precocity': 'chunk_precocity'}, inplace=True)\n",
    "\n",
    "print('Initial stage: ', clusters.shape, chunks.shape)\n",
    "\n",
    "# Select the columns we want to add from 'embeddings'\n",
    "columns_to_add = ['chunk_novelty', 'chunk_transience', 'chunk_precocity']\n",
    "\n",
    "# Create 'data' DataFrame by joining selected columns from 'embeddings' with 'topicmodels'\n",
    "data = clusters.join(chunks[columns_to_add], how = 'inner')\n",
    "\n",
    "print('Intermediate stage: ', data.shape)\n",
    "\n",
    "data.reset_index(level=['fraction_compared', 'filtered', 'time_radius', 'chunks_used'], inplace=True)\n",
    "\n",
    "meta = pd.read_csv('../metadata/litstudies/LitMetadataWithS2.tsv', sep = '\\t')\n",
    "meta = meta.loc[~pd.isnull(meta.paperId), : ]\n",
    "meta.set_index('paperId', inplace = True)\n",
    "\n",
    "data = data.join(meta['new_cite_count'], how='inner')\n",
    "data['logcitations'] = np.log(data.new_cite_count + 1)\n",
    "data = data.join(meta['year'], how='inner')\n",
    "\n",
    "print('Final stage should be the same:', data.shape)\n",
    "data.head()\n"
   ]
  },
  {
   "cell_type": "code",
   "execution_count": 15,
   "id": "482ba9b9-24a6-45ce-97f4-cd929a8edb34",
   "metadata": {},
   "outputs": [
    {
     "data": {
      "text/plain": [
       "(131648, 15)"
      ]
     },
     "execution_count": 15,
     "metadata": {},
     "output_type": "execute_result"
    }
   ],
   "source": [
    "data = data.loc[(data.year >= 1981) & (data.year <= 1998), :]\n",
    "data.shape"
   ]
  },
  {
   "cell_type": "markdown",
   "id": "7a96ddb3-3473-40be-8312-871c9e129f69",
   "metadata": {},
   "source": [
    "### How strength of correlation varies using different methods\n",
    "\n",
    "In this section we're exploring the contrast between topic-model and GTE-embedding representations of the timeline, and simultaneously exploring options for ```fraction_compared``` and ```chunks_used.```\n",
    "\n",
    "The fraction_compared indicates whether we *compared* a chunk to all chunks in a past or future year, or only to the 5% of most similar chunks.\n",
    "\n",
    "The chunks_used option affects the way we relate chunks to the documents (articles) they represent. We could average all chunks in a document, or only the top 25% of most \"precocious\" chunks.\n",
    "\n",
    "The other options we explored were a 10-yr or 20-yr time radius, and filtering for text-reuse and author-overlap (which we could set on or off). In the table below we use a 20-yr window plus filtering, which will turn out to be the best choices (see further below for the evidence).\n",
    "\n",
    "The numbers reported are r from Pearson correlation. Everything here is significant with a very small p value."
   ]
  },
  {
   "cell_type": "code",
   "execution_count": 16,
   "id": "80d04106-3061-419b-8990-49bf1627c531",
   "metadata": {},
   "outputs": [],
   "source": [
    "correlation_chunks = []\n",
    "correlation_clusters = []\n",
    "\n",
    "fractions_available = [1.0, 0.05]\n",
    "chunks_available = [1.0, 0.25]\n",
    "\n",
    "for frac in fractions_available:\n",
    "    for chunknum in chunks_available:\n",
    "        df = data.loc[(data.filtered == True) &\n",
    "                      (data.time_radius == 20) &\n",
    "                      (data.fraction_compared == frac) &\n",
    "                      (data.chunks_used == chunknum), :]\n",
    "        correlation_cl = pearsonr(df.logcitations, df.precocity)\n",
    "        correlation_ch = pearsonr(df.logcitations, df.chunk_precocity)\n",
    "        correlation_clusters.append(round(correlation_cl[0], 3))\n",
    "        correlation_chunks.append(round(correlation_ch[0], 3))\n"
   ]
  },
  {
   "cell_type": "code",
   "execution_count": 17,
   "id": "6c79200c-19ea-4e67-b3b8-9b3f336ff38e",
   "metadata": {},
   "outputs": [
    {
     "data": {
      "text/html": [
       "<div>\n",
       "<style scoped>\n",
       "    .dataframe tbody tr th:only-of-type {\n",
       "        vertical-align: middle;\n",
       "    }\n",
       "\n",
       "    .dataframe tbody tr th {\n",
       "        vertical-align: top;\n",
       "    }\n",
       "\n",
       "    .dataframe thead tr th {\n",
       "        text-align: left;\n",
       "    }\n",
       "</style>\n",
       "<table border=\"1\" class=\"dataframe\">\n",
       "  <thead>\n",
       "    <tr>\n",
       "      <th></th>\n",
       "      <th colspan=\"2\" halign=\"left\">Clusters</th>\n",
       "      <th colspan=\"2\" halign=\"left\">512 Chunks</th>\n",
       "    </tr>\n",
       "    <tr>\n",
       "      <th></th>\n",
       "      <th>Compare to all</th>\n",
       "      <th>Most similar 5%</th>\n",
       "      <th>Compare to all</th>\n",
       "      <th>Most similar 5%</th>\n",
       "    </tr>\n",
       "  </thead>\n",
       "  <tbody>\n",
       "    <tr>\n",
       "      <th>Average all</th>\n",
       "      <td>0.083</td>\n",
       "      <td>0.219</td>\n",
       "      <td>0.146</td>\n",
       "      <td>0.267</td>\n",
       "    </tr>\n",
       "    <tr>\n",
       "      <th>Average top 25%</th>\n",
       "      <td>0.141</td>\n",
       "      <td>0.276</td>\n",
       "      <td>0.170</td>\n",
       "      <td>0.290</td>\n",
       "    </tr>\n",
       "  </tbody>\n",
       "</table>\n",
       "</div>"
      ],
      "text/plain": [
       "                      Clusters                     512 Chunks                \n",
       "                Compare to all Most similar 5% Compare to all Most similar 5%\n",
       "Average all              0.083           0.219          0.146           0.267\n",
       "Average top 25%          0.141           0.276          0.170           0.290"
      ]
     },
     "execution_count": 17,
     "metadata": {},
     "output_type": "execute_result"
    }
   ],
   "source": [
    "# Create the DataFrames\n",
    "df_cl = pd.DataFrame({\n",
    "    'Compare to all': correlation_clusters[:2],\n",
    "    'Most similar 5%': correlation_clusters[2:]\n",
    "}, index=['Average all', 'Average top 25%'])\n",
    "\n",
    "df_ch = pd.DataFrame({\n",
    "    'Compare to all': correlation_chunks[:2],\n",
    "    'Most similar 5%': correlation_chunks[2:]\n",
    "}, index=['Average all', 'Average top 25%'])\n",
    "\n",
    "# Combine the two DataFrames into a single DataFrame with a multi-level column\n",
    "combined_df = pd.concat([df_cl, df_ch], axis=1, keys=['Clusters', '512 Chunks'])\n",
    "\n",
    "combined_df"
   ]
  },
  {
   "cell_type": "code",
   "execution_count": 9,
   "id": "998e024b-289d-42b3-ae0c-119052fd3d26",
   "metadata": {},
   "outputs": [
    {
     "data": {
      "text/html": [
       "<div>\n",
       "<style scoped>\n",
       "    .dataframe tbody tr th:only-of-type {\n",
       "        vertical-align: middle;\n",
       "    }\n",
       "\n",
       "    .dataframe tbody tr th {\n",
       "        vertical-align: top;\n",
       "    }\n",
       "\n",
       "    .dataframe thead th {\n",
       "        text-align: right;\n",
       "    }\n",
       "</style>\n",
       "<table border=\"1\" class=\"dataframe\">\n",
       "  <thead>\n",
       "    <tr style=\"text-align: right;\">\n",
       "      <th></th>\n",
       "      <th>Compare to all</th>\n",
       "      <th>Most similar 5%</th>\n",
       "    </tr>\n",
       "  </thead>\n",
       "  <tbody>\n",
       "    <tr>\n",
       "      <th>Average all</th>\n",
       "      <td>0.146</td>\n",
       "      <td>0.267</td>\n",
       "    </tr>\n",
       "    <tr>\n",
       "      <th>Average top 25%</th>\n",
       "      <td>0.170</td>\n",
       "      <td>0.290</td>\n",
       "    </tr>\n",
       "  </tbody>\n",
       "</table>\n",
       "</div>"
      ],
      "text/plain": [
       "                 Compare to all  Most similar 5%\n",
       "Average all               0.146            0.267\n",
       "Average top 25%           0.170            0.290"
      ]
     },
     "execution_count": 9,
     "metadata": {},
     "output_type": "execute_result"
    }
   ],
   "source": [
    "df_ch"
   ]
  },
  {
   "cell_type": "markdown",
   "id": "08b58b57-e72f-4ed8-93c3-4accc2a3d6e9",
   "metadata": {},
   "source": [
    "### An alternate version with a ten-year time radius"
   ]
  },
  {
   "cell_type": "code",
   "execution_count": 91,
   "id": "9a5f0e3d-f646-48ee-ada6-1121298539b4",
   "metadata": {},
   "outputs": [
    {
     "data": {
      "text/html": [
       "<div>\n",
       "<style scoped>\n",
       "    .dataframe tbody tr th:only-of-type {\n",
       "        vertical-align: middle;\n",
       "    }\n",
       "\n",
       "    .dataframe tbody tr th {\n",
       "        vertical-align: top;\n",
       "    }\n",
       "\n",
       "    .dataframe thead tr th {\n",
       "        text-align: left;\n",
       "    }\n",
       "</style>\n",
       "<table border=\"1\" class=\"dataframe\">\n",
       "  <thead>\n",
       "    <tr>\n",
       "      <th></th>\n",
       "      <th colspan=\"2\" halign=\"left\">Topic model 10yr</th>\n",
       "      <th colspan=\"2\" halign=\"left\">GTE Embeds 10 yr</th>\n",
       "    </tr>\n",
       "    <tr>\n",
       "      <th></th>\n",
       "      <th>Compare to all</th>\n",
       "      <th>Most similar 5%</th>\n",
       "      <th>Compare to all</th>\n",
       "      <th>Most similar 5%</th>\n",
       "    </tr>\n",
       "  </thead>\n",
       "  <tbody>\n",
       "    <tr>\n",
       "      <th>Average all</th>\n",
       "      <td>0.201</td>\n",
       "      <td>0.121</td>\n",
       "      <td>0.007</td>\n",
       "      <td>0.067</td>\n",
       "    </tr>\n",
       "    <tr>\n",
       "      <th>Average top 25%</th>\n",
       "      <td>0.227</td>\n",
       "      <td>0.126</td>\n",
       "      <td>0.034</td>\n",
       "      <td>0.093</td>\n",
       "    </tr>\n",
       "  </tbody>\n",
       "</table>\n",
       "</div>"
      ],
      "text/plain": [
       "                Topic model 10yr                 GTE Embeds 10 yr  \\\n",
       "                  Compare to all Most similar 5%   Compare to all   \n",
       "Average all                0.201           0.121            0.007   \n",
       "Average top 25%            0.227           0.126            0.034   \n",
       "\n",
       "                                 \n",
       "                Most similar 5%  \n",
       "Average all               0.067  \n",
       "Average top 25%           0.093  "
      ]
     },
     "execution_count": 91,
     "metadata": {},
     "output_type": "execute_result"
    }
   ],
   "source": [
    "correlation_topics = []\n",
    "correlation_embeds = []\n",
    "\n",
    "fractions_available = [1.0, 0.05]\n",
    "chunks_available = [1.0, 0.25]\n",
    "\n",
    "for frac in fractions_available:\n",
    "    for chunknum in chunks_available:\n",
    "        df = data.loc[(data.filtered == True) &\n",
    "                      (data.time_radius == 10) &\n",
    "                      (data.fraction_compared == frac) &\n",
    "                      (data.chunks_used == chunknum), :]\n",
    "        correlation_t = pearsonr(df.logcitations, df.precocity)\n",
    "        correlation_e = pearsonr(df.logcitations, df.embed_precocity)\n",
    "        correlation_topics.append(round(correlation_t[0], 3))\n",
    "        correlation_embeds.append(round(correlation_e[0], 3))\n",
    "        \n",
    "# Create the DataFrames\n",
    "df_t = pd.DataFrame({\n",
    "    'Compare to all': correlation_topics[:2],\n",
    "    'Most similar 5%': correlation_topics[2:]\n",
    "}, index=['Average all', 'Average top 25%'])\n",
    "\n",
    "df_e = pd.DataFrame({\n",
    "    'Compare to all': correlation_embeds[:2],\n",
    "    'Most similar 5%': correlation_embeds[2:]\n",
    "}, index=['Average all', 'Average top 25%'])\n",
    "\n",
    "# Combine the two DataFrames into a single DataFrame with a multi-level column\n",
    "combined_df = pd.concat([df_t, df_e], axis=1, keys=['Topic model 10yr', 'GTE Embeds 10 yr'])\n",
    "\n",
    "combined_df"
   ]
  },
  {
   "cell_type": "markdown",
   "id": "830efb26-69ca-4428-af52-6f2576742748",
   "metadata": {},
   "source": [
    "### An alternate version unfiltered for text reuse and author overlap"
   ]
  },
  {
   "cell_type": "code",
   "execution_count": 92,
   "id": "0f3dcce5-370d-4014-a5f6-54b2431f7a5e",
   "metadata": {},
   "outputs": [
    {
     "data": {
      "text/html": [
       "<div>\n",
       "<style scoped>\n",
       "    .dataframe tbody tr th:only-of-type {\n",
       "        vertical-align: middle;\n",
       "    }\n",
       "\n",
       "    .dataframe tbody tr th {\n",
       "        vertical-align: top;\n",
       "    }\n",
       "\n",
       "    .dataframe thead tr th {\n",
       "        text-align: left;\n",
       "    }\n",
       "</style>\n",
       "<table border=\"1\" class=\"dataframe\">\n",
       "  <thead>\n",
       "    <tr>\n",
       "      <th></th>\n",
       "      <th colspan=\"2\" halign=\"left\">Topic model unfiltered</th>\n",
       "      <th colspan=\"2\" halign=\"left\">GTE Embeds unfiltered</th>\n",
       "    </tr>\n",
       "    <tr>\n",
       "      <th></th>\n",
       "      <th>Compare to all</th>\n",
       "      <th>Most similar 5%</th>\n",
       "      <th>Compare to all</th>\n",
       "      <th>Most similar 5%</th>\n",
       "    </tr>\n",
       "  </thead>\n",
       "  <tbody>\n",
       "    <tr>\n",
       "      <th>Average all</th>\n",
       "      <td>0.245</td>\n",
       "      <td>0.186</td>\n",
       "      <td>0.023</td>\n",
       "      <td>0.099</td>\n",
       "    </tr>\n",
       "    <tr>\n",
       "      <th>Average top 25%</th>\n",
       "      <td>0.268</td>\n",
       "      <td>0.196</td>\n",
       "      <td>0.048</td>\n",
       "      <td>0.133</td>\n",
       "    </tr>\n",
       "  </tbody>\n",
       "</table>\n",
       "</div>"
      ],
      "text/plain": [
       "                Topic model unfiltered                 GTE Embeds unfiltered  \\\n",
       "                        Compare to all Most similar 5%        Compare to all   \n",
       "Average all                      0.245           0.186                 0.023   \n",
       "Average top 25%                  0.268           0.196                 0.048   \n",
       "\n",
       "                                 \n",
       "                Most similar 5%  \n",
       "Average all               0.099  \n",
       "Average top 25%           0.133  "
      ]
     },
     "execution_count": 92,
     "metadata": {},
     "output_type": "execute_result"
    }
   ],
   "source": [
    "correlation_topics = []\n",
    "correlation_embeds = []\n",
    "\n",
    "fractions_available = [1.0, 0.05]\n",
    "chunks_available = [1.0, 0.25]\n",
    "\n",
    "for frac in fractions_available:\n",
    "    for chunknum in chunks_available:\n",
    "        df = data.loc[(data.filtered == False) &\n",
    "                      (data.time_radius == 20) &\n",
    "                      (data.fraction_compared == frac) &\n",
    "                      (data.chunks_used == chunknum), :]\n",
    "        correlation_t = pearsonr(df.logcitations, df.precocity)\n",
    "        correlation_e = pearsonr(df.logcitations, df.embed_precocity)\n",
    "        correlation_topics.append(round(correlation_t[0], 3))\n",
    "        correlation_embeds.append(round(correlation_e[0], 3))\n",
    "        \n",
    "# Create the DataFrames\n",
    "df_t = pd.DataFrame({\n",
    "    'Compare to all': correlation_topics[:2],\n",
    "    'Most similar 5%': correlation_topics[2:]\n",
    "}, index=['Average all', 'Average top 25%'])\n",
    "\n",
    "df_e = pd.DataFrame({\n",
    "    'Compare to all': correlation_embeds[:2],\n",
    "    'Most similar 5%': correlation_embeds[2:]\n",
    "}, index=['Average all', 'Average top 25%'])\n",
    "\n",
    "# Combine the two DataFrames into a single DataFrame with a multi-level column\n",
    "combined_df = pd.concat([df_t, df_e], axis=1, keys=['Topic model unfiltered', 'GTE Embeds unfiltered'])\n",
    "\n",
    "combined_df"
   ]
  },
  {
   "cell_type": "markdown",
   "id": "497cf3f9-b43d-4cc0-be99-6637a9b6c41c",
   "metadata": {},
   "source": [
    "### A full multiple regression on the data\n",
    "\n",
    "Maybe the relationship is not linear or would benefit from controlling for date of publication."
   ]
  },
  {
   "cell_type": "code",
   "execution_count": 26,
   "id": "aa2f78fc-7fda-4b6a-9851-5a09f1c8911e",
   "metadata": {},
   "outputs": [
    {
     "name": "stdout",
     "output_type": "stream",
     "text": [
      "                            OLS Regression Results                            \n",
      "==============================================================================\n",
      "Dep. Variable:           logcitations   R-squared:                       0.075\n",
      "Model:                            OLS   Adj. R-squared:                  0.075\n",
      "Method:                 Least Squares   F-statistic:                     571.9\n",
      "Date:                Wed, 29 Nov 2023   Prob (F-statistic):               0.00\n",
      "Time:                        10:31:32   Log-Likelihood:                -44077.\n",
      "No. Observations:               28313   AIC:                         8.816e+04\n",
      "Df Residuals:                   28308   BIC:                         8.821e+04\n",
      "Df Model:                           4                                         \n",
      "Covariance Type:            nonrobust                                         \n",
      "==============================================================================\n",
      "                 coef    std err          t      P>|t|      [0.025      0.975]\n",
      "------------------------------------------------------------------------------\n",
      "topic          4.0464      0.120     33.617      0.000       3.811       4.282\n",
      "embed         -2.7986      2.059     -1.359      0.174      -6.835       1.238\n",
      "topic2         7.9862      0.904      8.833      0.000       6.214       9.758\n",
      "embed2       338.8704    367.028      0.923      0.356    -380.523    1058.264\n",
      "intercept      1.0990      0.009    116.103      0.000       1.080       1.118\n",
      "==============================================================================\n",
      "Omnibus:                     2814.900   Durbin-Watson:                   2.001\n",
      "Prob(Omnibus):                  0.000   Jarque-Bera (JB):             3775.629\n",
      "Skew:                           0.831   Prob(JB):                         0.00\n",
      "Kurtosis:                       3.662   Cond. No.                     5.38e+04\n",
      "==============================================================================\n",
      "\n",
      "Notes:\n",
      "[1] Standard Errors assume that the covariance matrix of the errors is correctly specified.\n",
      "[2] The condition number is large, 5.38e+04. This might indicate that there are\n",
      "strong multicollinearity or other numerical problems.\n"
     ]
    }
   ],
   "source": [
    "best = data.loc[(data.fraction_compared == 1.0) & \n",
    "                (data.time_radius == 20) &\n",
    "                (data.filtered == True) &\n",
    "                (data.chunks_used == 0.25), :]\n",
    "\n",
    "X = pd.DataFrame({'topic': best.precocity, 'embed': best.embed_precocity,\n",
    "                  'topic2': best.precocity ** 2, 'embed2': best.embed_precocity ** 2,\n",
    "                  'intercept': 1})\n",
    "y = best.logcitations\n",
    "model = sm.OLS(y, X)\n",
    "results = model.fit()\n",
    "print(results.summary())"
   ]
  },
  {
   "cell_type": "code",
   "execution_count": 27,
   "id": "ecac9a01-7986-4340-9de8-2d5f569385e3",
   "metadata": {},
   "outputs": [
    {
     "data": {
      "text/plain": [
       "0.27386127875258304"
      ]
     },
     "execution_count": 27,
     "metadata": {},
     "output_type": "execute_result"
    }
   ],
   "source": [
    "math.sqrt(.075)"
   ]
  },
  {
   "cell_type": "markdown",
   "id": "ffb8c5a3-03e4-4b9c-b0bc-85461e568d7d",
   "metadata": {},
   "source": [
    "#### Interpretation of the regression\n",
    "\n",
    "Adding the 1980s has changed a lot — which is a reminder that the \"multicollinearity\" issue makes this hard to interpret. \n",
    "\n",
    "In this version of the regression, it looks like the embeddings do add something beyond the topic model — and also looks like the relationship is not strictly linear. More analysis is probably called for, but in this version the strongest predictors are topic-precocity's *interaction* with publication date, publication date itself, and embed-precocity *squared*.\n",
    "\n",
    "Precocity plus publication year together can explain ~8.7% of the variance in logcitations. That's not huge, but we really don't expect citation count to directly reflect textual innovation, and the goal here is not to find the variables that most strongly affect citation count. (We already know what those are: they are, of course, existing author prominence, prominence of venue, and so on.)\n",
    "\n",
    "It's interesting that there's a relationship to textual novelty at all -- and more importantly the relationship to social impact can help us select a preferred metric for textual innovation. That's the actual point of what we're doing."
   ]
  },
  {
   "cell_type": "markdown",
   "id": "7e1df9ea-bf04-48f9-b6aa-eae562c4ec6b",
   "metadata": {},
   "source": [
    "### How this relationship varies across time, for the topic model"
   ]
  },
  {
   "cell_type": "code",
   "execution_count": 99,
   "id": "32fd0e85-094a-4e7a-91ce-69d730a95c93",
   "metadata": {},
   "outputs": [],
   "source": [
    "upperbound = []\n",
    "lowerbound = []\n",
    "medianpoint = []\n",
    "\n",
    "for centeryear in range(1925, 1992):\n",
    "    df = best.loc[(best.date >= centeryear - 5) &\n",
    "                  (best.date <= centeryear + 5), :]\n",
    "    correlations = []\n",
    "    for i in range(1000):\n",
    "        numrows = df.shape[0]\n",
    "        sample_df = df.sample(numrows, replace = True)\n",
    "        correlations.append(pearsonr(sample_df.logcitations, sample_df.precocity)[0])\n",
    "    correlations.sort()\n",
    "    lowerbound.append(correlations[24])\n",
    "    upperbound.append(correlations[974])\n",
    "    medianpoint.append(correlations[499])   "
   ]
  },
  {
   "cell_type": "code",
   "execution_count": 100,
   "id": "6d5861e5-60c3-4811-a3f5-d07953328f7e",
   "metadata": {},
   "outputs": [
    {
     "data": {
      "image/png": "[encoded data removed]",
      "text/plain": [
       "<Figure size 720x432 with 1 Axes>"
      ]
     },
     "metadata": {
      "needs_background": "light"
     },
     "output_type": "display_data"
    }
   ],
   "source": [
    "# Sample DataFrame\n",
    "plotdata = {\n",
    "    'year': range(1925, 1992),\n",
    "    'median_value': medianpoint,  # replace with your median values\n",
    "    'upper_bound': upperbound,    # replace with your upper bound values\n",
    "    'lower_bound': lowerbound     # replace with your lower bound values\n",
    "}\n",
    "df = pd.DataFrame(plotdata)\n",
    "\n",
    "# Plotting\n",
    "plt.figure(figsize=(10, 6))\n",
    "\n",
    "# Shaded ribbon (confidence interval)\n",
    "plt.fill_between(df['year'], df['lower_bound'], df['upper_bound'], color='skyblue', alpha=0.4)\n",
    "\n",
    "# Median value trend line\n",
    "plt.plot(df['year'], df['median_value'], color='blue', label='Median Value')\n",
    "\n",
    "# Labels and Title\n",
    "plt.xlabel('Year')\n",
    "plt.ylabel('Pearsons r')\n",
    "plt.title('Correlation: Trend Over Time with 95% Confidence Interval')\n",
    "plt.legend()\n",
    "\n",
    "# Show Plot\n",
    "plt.show()"
   ]
  },
  {
   "cell_type": "code",
   "execution_count": 9,
   "id": "b96d5579-3c2f-45ee-97cd-2d13abb8c062",
   "metadata": {},
   "outputs": [
    {
     "data": {
      "text/plain": [
       "[<matplotlib.lines.Line2D at 0x7f877180a9d0>]"
      ]
     },
     "execution_count": 9,
     "metadata": {},
     "output_type": "execute_result"
    },
    {
     "data": {
      "image/png": "[encoded data removed]",
      "text/plain": [
       "<Figure size 432x288 with 1 Axes>"
      ]
     },
     "metadata": {
      "needs_background": "light"
     },
     "output_type": "display_data"
    }
   ],
   "source": [
    "average_cites = data.groupby('date')['new_cite_count'].mean().reset_index()\n",
    "plt.plot(average_cites.date, average_cites.new_cite_count)"
   ]
  },
  {
   "cell_type": "code",
   "execution_count": 20,
   "id": "f3aee6ab-7983-4bc8-9582-f9ab57aed372",
   "metadata": {},
   "outputs": [
    {
     "data": {
      "text/plain": [
       "[<matplotlib.lines.Line2D at 0x7f8701891690>]"
      ]
     },
     "execution_count": 20,
     "metadata": {},
     "output_type": "execute_result"
    },
    {
     "data": {
      "image/png": "[encoded data removed]",
      "text/plain": [
       "<Figure size 432x288 with 1 Axes>"
      ]
     },
     "metadata": {
      "needs_background": "light"
     },
     "output_type": "display_data"
    }
   ],
   "source": [
    "average_cites = best.groupby('date')['precocity'].mean().reset_index()\n",
    "plt.plot(average_cites.date, average_cites.precocity)"
   ]
  },
  {
   "cell_type": "code",
   "execution_count": 21,
   "id": "7cd2ec06-c34a-405b-a5f3-5a16e59f184b",
   "metadata": {},
   "outputs": [
    {
     "data": {
      "text/plain": [
       "[<matplotlib.lines.Line2D at 0x7f870186d1d0>]"
      ]
     },
     "execution_count": 21,
     "metadata": {},
     "output_type": "execute_result"
    },
    {
     "data": {
      "image/png": "[encoded data removed]",
      "text/plain": [
       "<Figure size 432x288 with 1 Axes>"
      ]
     },
     "metadata": {
      "needs_background": "light"
     },
     "output_type": "display_data"
    }
   ],
   "source": [
    "average_cites = best.groupby('date')['novelty'].mean().reset_index()\n",
    "plt.plot(average_cites.date, average_cites.novelty)"
   ]
  },
  {
   "cell_type": "code",
   "execution_count": 23,
   "id": "9a3b057e-04f7-4d2c-8944-5089e589a4e4",
   "metadata": {},
   "outputs": [],
   "source": [
    "upperbound = []\n",
    "lowerbound = []\n",
    "medianpoint = []\n",
    "\n",
    "for centeryear in range(1925, 1992):\n",
    "    df = best.loc[(best.date >= centeryear - 5) &\n",
    "                  (best.date <= centeryear + 5), :]\n",
    "    novelties = []\n",
    "    for i in range(1000):\n",
    "        numrows = df.shape[0]\n",
    "        sample_df = df.sample(numrows, replace = True)\n",
    "        novelties.append(sample_df.novelty.mean())\n",
    "    novelties.sort()\n",
    "    lowerbound.append(novelties[24])\n",
    "    upperbound.append(novelties[974])\n",
    "    medianpoint.append(novelties[499]) "
   ]
  },
  {
   "cell_type": "code",
   "execution_count": 24,
   "id": "4a44cd8e-5d79-4acc-ab8a-c44283e19f32",
   "metadata": {},
   "outputs": [
    {
     "data": {
      "image/png": "[encoded data removed]",
      "text/plain": [
       "<Figure size 720x432 with 1 Axes>"
      ]
     },
     "metadata": {
      "needs_background": "light"
     },
     "output_type": "display_data"
    }
   ],
   "source": [
    "# Sample DataFrame\n",
    "plotdata = {\n",
    "    'year': range(1925, 1992),\n",
    "    'median_value': medianpoint,  # replace with your median values\n",
    "    'upper_bound': upperbound,    # replace with your upper bound values\n",
    "    'lower_bound': lowerbound     # replace with your lower bound values\n",
    "}\n",
    "df = pd.DataFrame(plotdata)\n",
    "\n",
    "# Plotting\n",
    "plt.figure(figsize=(10, 6))\n",
    "\n",
    "# Shaded ribbon (confidence interval)\n",
    "plt.fill_between(df['year'], df['lower_bound'], df['upper_bound'], color='skyblue', alpha=0.4)\n",
    "\n",
    "# Median value trend line\n",
    "plt.plot(df['year'], df['median_value'], color='blue', label='Median Value')\n",
    "\n",
    "# Labels and Title\n",
    "plt.xlabel('Year')\n",
    "plt.ylabel('Novelty')\n",
    "plt.show()"
   ]
  },
  {
   "cell_type": "code",
   "execution_count": 25,
   "id": "d859e6a0-2bcb-495d-983d-010277679272",
   "metadata": {},
   "outputs": [
    {
     "data": {
      "text/plain": [
       "0.5809675026804176"
      ]
     },
     "execution_count": 25,
     "metadata": {},
     "output_type": "execute_result"
    }
   ],
   "source": [
    "best.novelty.std()"
   ]
  },
  {
   "cell_type": "code",
   "execution_count": 11,
   "id": "57398cdd-51ff-4042-acd8-6c1db7250d50",
   "metadata": {},
   "outputs": [
    {
     "name": "stdout",
     "output_type": "stream",
     "text": [
      "-2.6274913242339744 3.3980264781928304\n"
     ]
    }
   ],
   "source": [
    "print(min(data.precocity), max(data.precocity))"
   ]
  },
  {
   "cell_type": "code",
   "execution_count": 16,
   "id": "32be26fc-15e2-45f5-8203-acc963012202",
   "metadata": {},
   "outputs": [
    {
     "data": {
      "text/plain": [
       "0.16726623970638452"
      ]
     },
     "execution_count": 16,
     "metadata": {},
     "output_type": "execute_result"
    }
   ],
   "source": [
    "data['precocity'].std()"
   ]
  },
  {
   "cell_type": "code",
   "execution_count": 17,
   "id": "308ff329-6a45-4db4-a2c8-0ab902976617",
   "metadata": {},
   "outputs": [
    {
     "data": {
      "text/html": [
       "<div>\n",
       "<style scoped>\n",
       "    .dataframe tbody tr th:only-of-type {\n",
       "        vertical-align: middle;\n",
       "    }\n",
       "\n",
       "    .dataframe tbody tr th {\n",
       "        vertical-align: top;\n",
       "    }\n",
       "\n",
       "    .dataframe thead th {\n",
       "        text-align: right;\n",
       "    }\n",
       "</style>\n",
       "<table border=\"1\" class=\"dataframe\">\n",
       "  <thead>\n",
       "    <tr style=\"text-align: right;\">\n",
       "      <th></th>\n",
       "      <th>fraction_compared</th>\n",
       "      <th>filtered</th>\n",
       "      <th>time_radius</th>\n",
       "      <th>chunks_used</th>\n",
       "      <th>date</th>\n",
       "      <th>num_chunks</th>\n",
       "      <th>precocity</th>\n",
       "      <th>novelty</th>\n",
       "      <th>transience</th>\n",
       "      <th>embed_novelty</th>\n",
       "      <th>embed_transience</th>\n",
       "      <th>embed_precocity</th>\n",
       "      <th>new_cite_count</th>\n",
       "      <th>logcitations</th>\n",
       "    </tr>\n",
       "  </thead>\n",
       "  <tbody>\n",
       "    <tr>\n",
       "      <th>000041afdc91612fa3c16a31e6381b1dfcf5b69b</th>\n",
       "      <td>1.0</td>\n",
       "      <td>True</td>\n",
       "      <td>10</td>\n",
       "      <td>1.00</td>\n",
       "      <td>1959</td>\n",
       "      <td>11</td>\n",
       "      <td>-0.093936</td>\n",
       "      <td>5.733958</td>\n",
       "      <td>5.827894</td>\n",
       "      <td>0.210611</td>\n",
       "      <td>0.210563</td>\n",
       "      <td>0.000048</td>\n",
       "      <td>1</td>\n",
       "      <td>0.693147</td>\n",
       "    </tr>\n",
       "    <tr>\n",
       "      <th>000041afdc91612fa3c16a31e6381b1dfcf5b69b</th>\n",
       "      <td>1.0</td>\n",
       "      <td>True</td>\n",
       "      <td>10</td>\n",
       "      <td>0.25</td>\n",
       "      <td>1959</td>\n",
       "      <td>11</td>\n",
       "      <td>-0.077704</td>\n",
       "      <td>5.808551</td>\n",
       "      <td>5.886255</td>\n",
       "      <td>0.209294</td>\n",
       "      <td>0.208335</td>\n",
       "      <td>0.000958</td>\n",
       "      <td>1</td>\n",
       "      <td>0.693147</td>\n",
       "    </tr>\n",
       "    <tr>\n",
       "      <th>000041afdc91612fa3c16a31e6381b1dfcf5b69b</th>\n",
       "      <td>1.0</td>\n",
       "      <td>True</td>\n",
       "      <td>20</td>\n",
       "      <td>1.00</td>\n",
       "      <td>1959</td>\n",
       "      <td>11</td>\n",
       "      <td>-0.147078</td>\n",
       "      <td>5.724905</td>\n",
       "      <td>5.871983</td>\n",
       "      <td>0.211601</td>\n",
       "      <td>0.210379</td>\n",
       "      <td>0.001222</td>\n",
       "      <td>1</td>\n",
       "      <td>0.693147</td>\n",
       "    </tr>\n",
       "    <tr>\n",
       "      <th>000041afdc91612fa3c16a31e6381b1dfcf5b69b</th>\n",
       "      <td>1.0</td>\n",
       "      <td>True</td>\n",
       "      <td>20</td>\n",
       "      <td>0.25</td>\n",
       "      <td>1959</td>\n",
       "      <td>11</td>\n",
       "      <td>-0.117383</td>\n",
       "      <td>5.595826</td>\n",
       "      <td>5.713209</td>\n",
       "      <td>0.210309</td>\n",
       "      <td>0.207506</td>\n",
       "      <td>0.002803</td>\n",
       "      <td>1</td>\n",
       "      <td>0.693147</td>\n",
       "    </tr>\n",
       "    <tr>\n",
       "      <th>000041afdc91612fa3c16a31e6381b1dfcf5b69b</th>\n",
       "      <td>1.0</td>\n",
       "      <td>False</td>\n",
       "      <td>10</td>\n",
       "      <td>1.00</td>\n",
       "      <td>1959</td>\n",
       "      <td>11</td>\n",
       "      <td>-0.093936</td>\n",
       "      <td>5.733958</td>\n",
       "      <td>5.827894</td>\n",
       "      <td>0.210611</td>\n",
       "      <td>0.210563</td>\n",
       "      <td>0.000048</td>\n",
       "      <td>1</td>\n",
       "      <td>0.693147</td>\n",
       "    </tr>\n",
       "  </tbody>\n",
       "</table>\n",
       "</div>"
      ],
      "text/plain": [
       "                                          fraction_compared  filtered  \\\n",
       "000041afdc91612fa3c16a31e6381b1dfcf5b69b                1.0      True   \n",
       "000041afdc91612fa3c16a31e6381b1dfcf5b69b                1.0      True   \n",
       "000041afdc91612fa3c16a31e6381b1dfcf5b69b                1.0      True   \n",
       "000041afdc91612fa3c16a31e6381b1dfcf5b69b                1.0      True   \n",
       "000041afdc91612fa3c16a31e6381b1dfcf5b69b                1.0     False   \n",
       "\n",
       "                                          time_radius  chunks_used  date  \\\n",
       "000041afdc91612fa3c16a31e6381b1dfcf5b69b           10         1.00  1959   \n",
       "000041afdc91612fa3c16a31e6381b1dfcf5b69b           10         0.25  1959   \n",
       "000041afdc91612fa3c16a31e6381b1dfcf5b69b           20         1.00  1959   \n",
       "000041afdc91612fa3c16a31e6381b1dfcf5b69b           20         0.25  1959   \n",
       "000041afdc91612fa3c16a31e6381b1dfcf5b69b           10         1.00  1959   \n",
       "\n",
       "                                          num_chunks  precocity   novelty  \\\n",
       "000041afdc91612fa3c16a31e6381b1dfcf5b69b          11  -0.093936  5.733958   \n",
       "000041afdc91612fa3c16a31e6381b1dfcf5b69b          11  -0.077704  5.808551   \n",
       "000041afdc91612fa3c16a31e6381b1dfcf5b69b          11  -0.147078  5.724905   \n",
       "000041afdc91612fa3c16a31e6381b1dfcf5b69b          11  -0.117383  5.595826   \n",
       "000041afdc91612fa3c16a31e6381b1dfcf5b69b          11  -0.093936  5.733958   \n",
       "\n",
       "                                          transience  embed_novelty  \\\n",
       "000041afdc91612fa3c16a31e6381b1dfcf5b69b    5.827894       0.210611   \n",
       "000041afdc91612fa3c16a31e6381b1dfcf5b69b    5.886255       0.209294   \n",
       "000041afdc91612fa3c16a31e6381b1dfcf5b69b    5.871983       0.211601   \n",
       "000041afdc91612fa3c16a31e6381b1dfcf5b69b    5.713209       0.210309   \n",
       "000041afdc91612fa3c16a31e6381b1dfcf5b69b    5.827894       0.210611   \n",
       "\n",
       "                                          embed_transience  embed_precocity  \\\n",
       "000041afdc91612fa3c16a31e6381b1dfcf5b69b          0.210563         0.000048   \n",
       "000041afdc91612fa3c16a31e6381b1dfcf5b69b          0.208335         0.000958   \n",
       "000041afdc91612fa3c16a31e6381b1dfcf5b69b          0.210379         0.001222   \n",
       "000041afdc91612fa3c16a31e6381b1dfcf5b69b          0.207506         0.002803   \n",
       "000041afdc91612fa3c16a31e6381b1dfcf5b69b          0.210563         0.000048   \n",
       "\n",
       "                                          new_cite_count  logcitations  \n",
       "000041afdc91612fa3c16a31e6381b1dfcf5b69b               1      0.693147  \n",
       "000041afdc91612fa3c16a31e6381b1dfcf5b69b               1      0.693147  \n",
       "000041afdc91612fa3c16a31e6381b1dfcf5b69b               1      0.693147  \n",
       "000041afdc91612fa3c16a31e6381b1dfcf5b69b               1      0.693147  \n",
       "000041afdc91612fa3c16a31e6381b1dfcf5b69b               1      0.693147  "
      ]
     },
     "execution_count": 17,
     "metadata": {},
     "output_type": "execute_result"
    }
   ],
   "source": [
    "data.head()"
   ]
  },
  {
   "cell_type": "markdown",
   "id": "7acb7a6c-945a-4d12-8fee-8beeb71bb316",
   "metadata": {},
   "source": [
    "### How it varies across time for embeddings"
   ]
  },
  {
   "cell_type": "code",
   "execution_count": 101,
   "id": "a9c4e04b-3da6-4e6a-9db0-92ee96475757",
   "metadata": {},
   "outputs": [
    {
     "data": {
      "image/png": "[encoded data removed]",
      "text/plain": [
       "<Figure size 720x432 with 1 Axes>"
      ]
     },
     "metadata": {
      "needs_background": "light"
     },
     "output_type": "display_data"
    }
   ],
   "source": [
    "bestforembeds = data.loc[(data.fraction_compared == 0.05) & \n",
    "                (data.time_radius == 20) &\n",
    "                (data.filtered == True) &\n",
    "                (data.chunks_used == 0.25), :]\n",
    "\n",
    "\n",
    "upperbound = []\n",
    "lowerbound = []\n",
    "medianpoint = []\n",
    "\n",
    "for centeryear in range(1925, 1992):\n",
    "    df = best.loc[(bestforembeds.date >= centeryear - 5) &\n",
    "                  (bestforembeds.date <= centeryear + 5), :]\n",
    "    correlations = []\n",
    "    for i in range(1000):\n",
    "        numrows = df.shape[0]\n",
    "        sample_df = df.sample(numrows, replace = True)\n",
    "        correlations.append(pearsonr(sample_df.logcitations, sample_df.embed_precocity)[0])\n",
    "    correlations.sort()\n",
    "    lowerbound.append(correlations[24])\n",
    "    upperbound.append(correlations[974])\n",
    "    medianpoint.append(correlations[499])\n",
    "\n",
    "# Sample DataFrame\n",
    "plotdata = {\n",
    "    'year': range(1925, 1992),\n",
    "    'median_value': medianpoint,  # replace with your median values\n",
    "    'upper_bound': upperbound,    # replace with your upper bound values\n",
    "    'lower_bound': lowerbound     # replace with your lower bound values\n",
    "}\n",
    "df = pd.DataFrame(plotdata)\n",
    "\n",
    "# Plotting\n",
    "plt.figure(figsize=(10, 6))\n",
    "\n",
    "# Shaded ribbon (confidence interval)\n",
    "plt.fill_between(df['year'], df['lower_bound'], df['upper_bound'], color='skyblue', alpha=0.4)\n",
    "\n",
    "# Median value trend line\n",
    "plt.plot(df['year'], df['median_value'], color='blue', label='Median Value')\n",
    "\n",
    "# Labels and Title\n",
    "plt.xlabel('Year')\n",
    "plt.ylabel('Pearsons r')\n",
    "plt.title('Correlation: Trend Over Time with 95% Confidence Interval, Embeddings')\n",
    "plt.legend()\n",
    "\n",
    "# Show Plot\n",
    "plt.show()"
   ]
  },
  {
   "cell_type": "markdown",
   "id": "b56218b9-3646-481e-b83b-f9b800fc74f9",
   "metadata": {},
   "source": [
    "### Deprecated"
   ]
  },
  {
   "cell_type": "code",
   "execution_count": 28,
   "id": "be8a0028-a3dd-497d-b9c2-77e05b79be34",
   "metadata": {},
   "outputs": [
    {
     "data": {
      "text/html": [
       "<div>\n",
       "<style scoped>\n",
       "    .dataframe tbody tr th:only-of-type {\n",
       "        vertical-align: middle;\n",
       "    }\n",
       "\n",
       "    .dataframe tbody tr th {\n",
       "        vertical-align: top;\n",
       "    }\n",
       "\n",
       "    .dataframe thead tr th {\n",
       "        text-align: left;\n",
       "    }\n",
       "</style>\n",
       "<table border=\"1\" class=\"dataframe\">\n",
       "  <thead>\n",
       "    <tr>\n",
       "      <th></th>\n",
       "      <th colspan=\"2\" halign=\"left\">Var3=E</th>\n",
       "      <th colspan=\"2\" halign=\"left\">Var3=F</th>\n",
       "    </tr>\n",
       "    <tr>\n",
       "      <th></th>\n",
       "      <th>C</th>\n",
       "      <th>D</th>\n",
       "      <th>C</th>\n",
       "      <th>D</th>\n",
       "    </tr>\n",
       "  </thead>\n",
       "  <tbody>\n",
       "    <tr>\n",
       "      <th>A</th>\n",
       "      <td>0.95</td>\n",
       "      <td>0.96</td>\n",
       "      <td>0.92</td>\n",
       "      <td>0.91</td>\n",
       "    </tr>\n",
       "    <tr>\n",
       "      <th>B</th>\n",
       "      <td>0.89</td>\n",
       "      <td>0.88</td>\n",
       "      <td>0.87</td>\n",
       "      <td>0.85</td>\n",
       "    </tr>\n",
       "  </tbody>\n",
       "</table>\n",
       "</div>"
      ],
      "text/plain": [
       "  Var3=E       Var3=F      \n",
       "       C     D      C     D\n",
       "A   0.95  0.96   0.92  0.91\n",
       "B   0.89  0.88   0.87  0.85"
      ]
     },
     "execution_count": 28,
     "metadata": {},
     "output_type": "execute_result"
    }
   ],
   "source": [
    "# guide code borrowed from GPT-4!\n",
    "\n",
    "# Creating a 2x2 DataFrame for each state of Var3\n",
    "# Here 'A' and 'B' will be the row indices, and 'C' and 'D' will be the column indices\n",
    "\n",
    "# Define the accuracy statistics for each model configuration\n",
    "# Assuming the order of the stats is the same as the multi-index provided previously\n",
    "accuracy_stats_e = [0.95, 0.89, 0.96, 0.88]  # Stats where Var3 is 'E'\n",
    "accuracy_stats_f = [0.92, 0.87, 0.91, 0.85]  # Stats where Var3 is 'F'\n",
    "\n",
    "# Create the DataFrames\n",
    "df_e = pd.DataFrame({\n",
    "    'C': accuracy_stats_e[:2],\n",
    "    'D': accuracy_stats_e[2:]\n",
    "}, index=['A', 'B'])\n",
    "\n",
    "df_f = pd.DataFrame({\n",
    "    'C': accuracy_stats_f[:2],\n",
    "    'D': accuracy_stats_f[2:]\n",
    "}, index=['A', 'B'])\n",
    "\n",
    "# Combine the two DataFrames into a single DataFrame with a multi-level column\n",
    "combined_df = pd.concat([df_e, df_f], axis=1, keys=['Var3=E', 'Var3=F'])\n",
    "\n",
    "combined_df\n"
   ]
  },
  {
   "cell_type": "code",
   "execution_count": null,
   "id": "24c7029f-1b33-49cf-b7b1-fc6205ff1ee5",
   "metadata": {},
   "outputs": [],
   "source": []
  }
 ],
 "metadata": {
  "kernelspec": {
   "display_name": "Python 3",
   "language": "python",
   "name": "python3"
  },
  "language_info": {
   "codemirror_mode": {
    "name": "ipython",
    "version": 3
   },
   "file_extension": ".py",
   "mimetype": "text/x-python",
   "name": "python",
   "nbconvert_exporter": "python",
   "pygments_lexer": "ipython3",
   "version": "3.7.4"
  }
 },
 "nbformat": 4,
 "nbformat_minor": 5
}
