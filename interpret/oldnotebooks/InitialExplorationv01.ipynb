{
 "cells": [
  {
   "cell_type": "code",
   "execution_count": 17,
   "id": "5bc4c3a2-6d69-4407-98b1-bd0b3d27ef9b",
   "metadata": {},
   "outputs": [],
   "source": [
    "import pandas as pd\n",
    "from scipy.stats import pearsonr\n",
    "import math\n",
    "import numpy as np"
   ]
  },
  {
   "cell_type": "code",
   "execution_count": 3,
   "id": "4ce8fc37-af70-409b-a205-4b7247d05469",
   "metadata": {},
   "outputs": [],
   "source": [
    "kld =  pd.read_csv('precocity_kld_1930s_docs.tsv', sep = '\\t')\n",
    "cos = pd.read_csv('precocity_cosine_1930s_docs.tsv', sep = '\\t')"
   ]
  },
  {
   "cell_type": "code",
   "execution_count": 4,
   "id": "3cb0d715-2874-4631-9cfc-703e5f7c81c4",
   "metadata": {},
   "outputs": [],
   "source": [
    "meta = pd.read_csv('../metadata/litstudies/LitMetadataWithS2ii.tsv', sep = '\\t')"
   ]
  },
  {
   "cell_type": "code",
   "execution_count": 5,
   "id": "d98a5430-0418-4b60-825d-c69367b74469",
   "metadata": {},
   "outputs": [],
   "source": [
    "meta = meta.loc[~pd.isnull(meta.paperId), : ]"
   ]
  },
  {
   "cell_type": "code",
   "execution_count": 6,
   "id": "be22dfd0-b600-4c59-9791-bca77347caec",
   "metadata": {},
   "outputs": [
    {
     "data": {
      "text/plain": [
       "(40407, 18)"
      ]
     },
     "execution_count": 6,
     "metadata": {},
     "output_type": "execute_result"
    }
   ],
   "source": [
    "meta.shape"
   ]
  },
  {
   "cell_type": "code",
   "execution_count": 7,
   "id": "1b733c7c-e821-45b6-96f4-4887fbbfa474",
   "metadata": {},
   "outputs": [],
   "source": [
    "kld.set_index('docid', inplace = True)\n",
    "cos.set_index('docid', inplace = True)"
   ]
  },
  {
   "cell_type": "code",
   "execution_count": 8,
   "id": "06f34488-7e0d-4bbc-a457-6e997ed49f0f",
   "metadata": {},
   "outputs": [],
   "source": [
    "meta.set_index('paperId', inplace = True)"
   ]
  },
  {
   "cell_type": "code",
   "execution_count": 9,
   "id": "2f15c490-a55d-4c4a-a4be-0d1e945f9884",
   "metadata": {},
   "outputs": [
    {
     "data": {
      "text/html": [
       "<div>\n",
       "<style scoped>\n",
       "    .dataframe tbody tr th:only-of-type {\n",
       "        vertical-align: middle;\n",
       "    }\n",
       "\n",
       "    .dataframe tbody tr th {\n",
       "        vertical-align: top;\n",
       "    }\n",
       "\n",
       "    .dataframe thead th {\n",
       "        text-align: right;\n",
       "    }\n",
       "</style>\n",
       "<table border=\"1\" class=\"dataframe\">\n",
       "  <thead>\n",
       "    <tr style=\"text-align: right;\">\n",
       "      <th></th>\n",
       "      <th>doi</th>\n",
       "      <th>journal</th>\n",
       "      <th>year</th>\n",
       "      <th>authors</th>\n",
       "      <th>title</th>\n",
       "      <th>language</th>\n",
       "      <th>wordcount</th>\n",
       "      <th>doctype</th>\n",
       "      <th>citation_counts</th>\n",
       "      <th>S2titles</th>\n",
       "      <th>S2years</th>\n",
       "      <th>condition</th>\n",
       "      <th>matchstrength</th>\n",
       "      <th>S2journal</th>\n",
       "      <th>S2authors</th>\n",
       "      <th>new_cite_count</th>\n",
       "      <th>make_embeddings</th>\n",
       "    </tr>\n",
       "    <tr>\n",
       "      <th>paperId</th>\n",
       "      <th></th>\n",
       "      <th></th>\n",
       "      <th></th>\n",
       "      <th></th>\n",
       "      <th></th>\n",
       "      <th></th>\n",
       "      <th></th>\n",
       "      <th></th>\n",
       "      <th></th>\n",
       "      <th></th>\n",
       "      <th></th>\n",
       "      <th></th>\n",
       "      <th></th>\n",
       "      <th></th>\n",
       "      <th></th>\n",
       "      <th></th>\n",
       "      <th></th>\n",
       "    </tr>\n",
       "  </thead>\n",
       "  <tbody>\n",
       "    <tr>\n",
       "      <th>3cfbc1e6e654451d97abe60a132d0047841fb0fe</th>\n",
       "      <td>10.2307/461288</td>\n",
       "      <td>PMLA</td>\n",
       "      <td>1967</td>\n",
       "      <td>['Jean-Jacques Demorest']</td>\n",
       "      <td>Pascal et le déséquilibre</td>\n",
       "      <td>['fre']</td>\n",
       "      <td>4999</td>\n",
       "      <td>article | research-article</td>\n",
       "      <td>0</td>\n",
       "      <td>Pascal et le déséquilibre</td>\n",
       "      <td>1967-05-01</td>\n",
       "      <td>no strong match</td>\n",
       "      <td>0.00</td>\n",
       "      <td>NaN</td>\n",
       "      <td>NaN</td>\n",
       "      <td>0</td>\n",
       "      <td>1</td>\n",
       "    </tr>\n",
       "    <tr>\n",
       "      <th>9f6fe8d2c3f29a2214a0ad8707c04315ee25f1e6</th>\n",
       "      <td>10.2307/2872855</td>\n",
       "      <td>ELH</td>\n",
       "      <td>1980</td>\n",
       "      <td>['Dennis R. Danielson']</td>\n",
       "      <td>Imago Dei, \"Filial Freedom,\" and Miltonic Theo...</td>\n",
       "      <td>['eng']</td>\n",
       "      <td>5259</td>\n",
       "      <td>article | research-article</td>\n",
       "      <td>2</td>\n",
       "      <td>Imago Dei, \"Filial Freedom,\" and Miltonic Theo...</td>\n",
       "      <td>1980-01-24</td>\n",
       "      <td>already found</td>\n",
       "      <td>0.00</td>\n",
       "      <td>NaN</td>\n",
       "      <td>NaN</td>\n",
       "      <td>2</td>\n",
       "      <td>1</td>\n",
       "    </tr>\n",
       "    <tr>\n",
       "      <th>8c68dcd358f5bb8265a49302c05f865e7f8a698a</th>\n",
       "      <td>10.2307/3723455</td>\n",
       "      <td>The Modern Language Review</td>\n",
       "      <td>1969</td>\n",
       "      <td>['Patricia Thomson']</td>\n",
       "      <td>Review Article</td>\n",
       "      <td>['eng']</td>\n",
       "      <td>1243</td>\n",
       "      <td>article | book-review</td>\n",
       "      <td>8</td>\n",
       "      <td>The English Petrarchans : a critical bibliogra...</td>\n",
       "      <td>1969-04-01</td>\n",
       "      <td>not citable</td>\n",
       "      <td>0.00</td>\n",
       "      <td>NaN</td>\n",
       "      <td>NaN</td>\n",
       "      <td>8</td>\n",
       "      <td>1</td>\n",
       "    </tr>\n",
       "    <tr>\n",
       "      <th>4346dceb4be548baa5a87eace7d3d708ee66b520</th>\n",
       "      <td>10.2307/40587680</td>\n",
       "      <td>The Review of English Studies</td>\n",
       "      <td>2010</td>\n",
       "      <td>['EMMA ANNETTE WILSON']</td>\n",
       "      <td>THE ART OF REASONING WELL: RAMIST LOGIC AT WOR...</td>\n",
       "      <td>['eng']</td>\n",
       "      <td>8763</td>\n",
       "      <td>article | research-article</td>\n",
       "      <td>0</td>\n",
       "      <td>The Art of Reasoning Well: Ramist Logic at Wor...</td>\n",
       "      <td>2010</td>\n",
       "      <td>found</td>\n",
       "      <td>1.12</td>\n",
       "      <td>The Review of English Studies</td>\n",
       "      <td>E. Wilson</td>\n",
       "      <td>4</td>\n",
       "      <td>1</td>\n",
       "    </tr>\n",
       "    <tr>\n",
       "      <th>bb95e93ea796569e270b42df3a9c84d5d9afbd22</th>\n",
       "      <td>10.2307/26158877</td>\n",
       "      <td>PMLA</td>\n",
       "      <td>2016</td>\n",
       "      <td>['SANDRA M. GUSTAFSON']</td>\n",
       "      <td>Reimagining the Literature of the Modern Republic</td>\n",
       "      <td>['eng']</td>\n",
       "      <td>4226</td>\n",
       "      <td>article | research-article</td>\n",
       "      <td>0</td>\n",
       "      <td>Reimagining the Literature of the Modern Republic</td>\n",
       "      <td>2016</td>\n",
       "      <td>found</td>\n",
       "      <td>1.12</td>\n",
       "      <td>PMLA/Publications of the Modern Language Assoc...</td>\n",
       "      <td>Sandra M. Gustafson</td>\n",
       "      <td>0</td>\n",
       "      <td>1</td>\n",
       "    </tr>\n",
       "  </tbody>\n",
       "</table>\n",
       "</div>"
      ],
      "text/plain": [
       "                                                       doi  \\\n",
       "paperId                                                      \n",
       "3cfbc1e6e654451d97abe60a132d0047841fb0fe    10.2307/461288   \n",
       "9f6fe8d2c3f29a2214a0ad8707c04315ee25f1e6   10.2307/2872855   \n",
       "8c68dcd358f5bb8265a49302c05f865e7f8a698a   10.2307/3723455   \n",
       "4346dceb4be548baa5a87eace7d3d708ee66b520  10.2307/40587680   \n",
       "bb95e93ea796569e270b42df3a9c84d5d9afbd22  10.2307/26158877   \n",
       "\n",
       "                                                                journal  year  \\\n",
       "paperId                                                                         \n",
       "3cfbc1e6e654451d97abe60a132d0047841fb0fe                           PMLA  1967   \n",
       "9f6fe8d2c3f29a2214a0ad8707c04315ee25f1e6                            ELH  1980   \n",
       "8c68dcd358f5bb8265a49302c05f865e7f8a698a     The Modern Language Review  1969   \n",
       "4346dceb4be548baa5a87eace7d3d708ee66b520  The Review of English Studies  2010   \n",
       "bb95e93ea796569e270b42df3a9c84d5d9afbd22                           PMLA  2016   \n",
       "\n",
       "                                                            authors  \\\n",
       "paperId                                                               \n",
       "3cfbc1e6e654451d97abe60a132d0047841fb0fe  ['Jean-Jacques Demorest']   \n",
       "9f6fe8d2c3f29a2214a0ad8707c04315ee25f1e6    ['Dennis R. Danielson']   \n",
       "8c68dcd358f5bb8265a49302c05f865e7f8a698a       ['Patricia Thomson']   \n",
       "4346dceb4be548baa5a87eace7d3d708ee66b520    ['EMMA ANNETTE WILSON']   \n",
       "bb95e93ea796569e270b42df3a9c84d5d9afbd22    ['SANDRA M. GUSTAFSON']   \n",
       "\n",
       "                                                                                      title  \\\n",
       "paperId                                                                                       \n",
       "3cfbc1e6e654451d97abe60a132d0047841fb0fe                          Pascal et le déséquilibre   \n",
       "9f6fe8d2c3f29a2214a0ad8707c04315ee25f1e6  Imago Dei, \"Filial Freedom,\" and Miltonic Theo...   \n",
       "8c68dcd358f5bb8265a49302c05f865e7f8a698a                                     Review Article   \n",
       "4346dceb4be548baa5a87eace7d3d708ee66b520  THE ART OF REASONING WELL: RAMIST LOGIC AT WOR...   \n",
       "bb95e93ea796569e270b42df3a9c84d5d9afbd22  Reimagining the Literature of the Modern Republic   \n",
       "\n",
       "                                         language  wordcount  \\\n",
       "paperId                                                        \n",
       "3cfbc1e6e654451d97abe60a132d0047841fb0fe  ['fre']       4999   \n",
       "9f6fe8d2c3f29a2214a0ad8707c04315ee25f1e6  ['eng']       5259   \n",
       "8c68dcd358f5bb8265a49302c05f865e7f8a698a  ['eng']       1243   \n",
       "4346dceb4be548baa5a87eace7d3d708ee66b520  ['eng']       8763   \n",
       "bb95e93ea796569e270b42df3a9c84d5d9afbd22  ['eng']       4226   \n",
       "\n",
       "                                                             doctype  \\\n",
       "paperId                                                                \n",
       "3cfbc1e6e654451d97abe60a132d0047841fb0fe  article | research-article   \n",
       "9f6fe8d2c3f29a2214a0ad8707c04315ee25f1e6  article | research-article   \n",
       "8c68dcd358f5bb8265a49302c05f865e7f8a698a       article | book-review   \n",
       "4346dceb4be548baa5a87eace7d3d708ee66b520  article | research-article   \n",
       "bb95e93ea796569e270b42df3a9c84d5d9afbd22  article | research-article   \n",
       "\n",
       "                                          citation_counts  \\\n",
       "paperId                                                     \n",
       "3cfbc1e6e654451d97abe60a132d0047841fb0fe                0   \n",
       "9f6fe8d2c3f29a2214a0ad8707c04315ee25f1e6                2   \n",
       "8c68dcd358f5bb8265a49302c05f865e7f8a698a                8   \n",
       "4346dceb4be548baa5a87eace7d3d708ee66b520                0   \n",
       "bb95e93ea796569e270b42df3a9c84d5d9afbd22                0   \n",
       "\n",
       "                                                                                   S2titles  \\\n",
       "paperId                                                                                       \n",
       "3cfbc1e6e654451d97abe60a132d0047841fb0fe                          Pascal et le déséquilibre   \n",
       "9f6fe8d2c3f29a2214a0ad8707c04315ee25f1e6  Imago Dei, \"Filial Freedom,\" and Miltonic Theo...   \n",
       "8c68dcd358f5bb8265a49302c05f865e7f8a698a  The English Petrarchans : a critical bibliogra...   \n",
       "4346dceb4be548baa5a87eace7d3d708ee66b520  The Art of Reasoning Well: Ramist Logic at Wor...   \n",
       "bb95e93ea796569e270b42df3a9c84d5d9afbd22  Reimagining the Literature of the Modern Republic   \n",
       "\n",
       "                                             S2years        condition  \\\n",
       "paperId                                                                 \n",
       "3cfbc1e6e654451d97abe60a132d0047841fb0fe  1967-05-01  no strong match   \n",
       "9f6fe8d2c3f29a2214a0ad8707c04315ee25f1e6  1980-01-24    already found   \n",
       "8c68dcd358f5bb8265a49302c05f865e7f8a698a  1969-04-01      not citable   \n",
       "4346dceb4be548baa5a87eace7d3d708ee66b520        2010            found   \n",
       "bb95e93ea796569e270b42df3a9c84d5d9afbd22        2016            found   \n",
       "\n",
       "                                          matchstrength  \\\n",
       "paperId                                                   \n",
       "3cfbc1e6e654451d97abe60a132d0047841fb0fe           0.00   \n",
       "9f6fe8d2c3f29a2214a0ad8707c04315ee25f1e6           0.00   \n",
       "8c68dcd358f5bb8265a49302c05f865e7f8a698a           0.00   \n",
       "4346dceb4be548baa5a87eace7d3d708ee66b520           1.12   \n",
       "bb95e93ea796569e270b42df3a9c84d5d9afbd22           1.12   \n",
       "\n",
       "                                                                                  S2journal  \\\n",
       "paperId                                                                                       \n",
       "3cfbc1e6e654451d97abe60a132d0047841fb0fe                                                NaN   \n",
       "9f6fe8d2c3f29a2214a0ad8707c04315ee25f1e6                                                NaN   \n",
       "8c68dcd358f5bb8265a49302c05f865e7f8a698a                                                NaN   \n",
       "4346dceb4be548baa5a87eace7d3d708ee66b520                      The Review of English Studies   \n",
       "bb95e93ea796569e270b42df3a9c84d5d9afbd22  PMLA/Publications of the Modern Language Assoc...   \n",
       "\n",
       "                                                    S2authors  new_cite_count  \\\n",
       "paperId                                                                         \n",
       "3cfbc1e6e654451d97abe60a132d0047841fb0fe                  NaN               0   \n",
       "9f6fe8d2c3f29a2214a0ad8707c04315ee25f1e6                  NaN               2   \n",
       "8c68dcd358f5bb8265a49302c05f865e7f8a698a                  NaN               8   \n",
       "4346dceb4be548baa5a87eace7d3d708ee66b520            E. Wilson               4   \n",
       "bb95e93ea796569e270b42df3a9c84d5d9afbd22  Sandra M. Gustafson               0   \n",
       "\n",
       "                                          make_embeddings  \n",
       "paperId                                                    \n",
       "3cfbc1e6e654451d97abe60a132d0047841fb0fe                1  \n",
       "9f6fe8d2c3f29a2214a0ad8707c04315ee25f1e6                1  \n",
       "8c68dcd358f5bb8265a49302c05f865e7f8a698a                1  \n",
       "4346dceb4be548baa5a87eace7d3d708ee66b520                1  \n",
       "bb95e93ea796569e270b42df3a9c84d5d9afbd22                1  "
      ]
     },
     "execution_count": 9,
     "metadata": {},
     "output_type": "execute_result"
    }
   ],
   "source": [
    "meta.head()"
   ]
  },
  {
   "cell_type": "code",
   "execution_count": 10,
   "id": "1ad7a75c-b6af-445c-bb6b-d5197ae54797",
   "metadata": {},
   "outputs": [],
   "source": [
    "kld = kld.join(meta['new_cite_count'], how='inner')"
   ]
  },
  {
   "cell_type": "code",
   "execution_count": 25,
   "id": "d2c4c681-97a0-441d-8edc-83ddb5c4be7d",
   "metadata": {},
   "outputs": [],
   "source": [
    "kld['logcitations'] = np.log(kld['new_cite_count'] + 0.001)"
   ]
  },
  {
   "cell_type": "code",
   "execution_count": 26,
   "id": "77573fcc-ce02-4d16-9734-590095b86791",
   "metadata": {},
   "outputs": [
    {
     "data": {
      "text/plain": [
       "(0.0011224261019341592, 0.8175306856785836)"
      ]
     },
     "execution_count": 26,
     "metadata": {},
     "output_type": "execute_result"
    }
   ],
   "source": [
    "pearsonr(kld.logcitations, kld.precocity)"
   ]
  },
  {
   "cell_type": "code",
   "execution_count": 27,
   "id": "d6da2d04-6847-47cb-ad73-7aff8aadd36f",
   "metadata": {},
   "outputs": [],
   "source": [
    "cos = cos.join(meta['new_cite_count'], how='inner')"
   ]
  },
  {
   "cell_type": "code",
   "execution_count": 29,
   "id": "d3fcd74e-0491-48c5-98fc-4360cd8f2ef9",
   "metadata": {},
   "outputs": [],
   "source": [
    "cos['logcitations'] = np.log(cos['new_cite_count'] + .001)"
   ]
  },
  {
   "cell_type": "code",
   "execution_count": 30,
   "id": "579e3115-9d76-48ae-9909-ac6aab2619ec",
   "metadata": {},
   "outputs": [
    {
     "data": {
      "text/plain": [
       "(-0.023242501373627655, 1.767886770377215e-06)"
      ]
     },
     "execution_count": 30,
     "metadata": {},
     "output_type": "execute_result"
    }
   ],
   "source": [
    "pearsonr(cos.logcitations, cos.precocity)"
   ]
  },
  {
   "cell_type": "code",
   "execution_count": 32,
   "id": "beab59ac-3a0b-44e6-b3a5-d12e60cf1987",
   "metadata": {},
   "outputs": [
    {
     "data": {
      "text/plain": [
       "(-0.020522508719258745, 2.4540937194367416e-05)"
      ]
     },
     "execution_count": 32,
     "metadata": {},
     "output_type": "execute_result"
    }
   ],
   "source": [
    "pearsonr(kld.logcitations, kld.transience)"
   ]
  },
  {
   "cell_type": "code",
   "execution_count": 33,
   "id": "ff69e889-2748-4960-a510-f9f2cd613ecb",
   "metadata": {},
   "outputs": [
    {
     "data": {
      "text/html": [
       "<div>\n",
       "<style scoped>\n",
       "    .dataframe tbody tr th:only-of-type {\n",
       "        vertical-align: middle;\n",
       "    }\n",
       "\n",
       "    .dataframe tbody tr th {\n",
       "        vertical-align: top;\n",
       "    }\n",
       "\n",
       "    .dataframe thead th {\n",
       "        text-align: right;\n",
       "    }\n",
       "</style>\n",
       "<table border=\"1\" class=\"dataframe\">\n",
       "  <thead>\n",
       "    <tr style=\"text-align: right;\">\n",
       "      <th></th>\n",
       "      <th>date</th>\n",
       "      <th>num_chunks</th>\n",
       "      <th>fraction_compared</th>\n",
       "      <th>filtered</th>\n",
       "      <th>time_radius</th>\n",
       "      <th>chunks_used</th>\n",
       "      <th>precocity</th>\n",
       "      <th>novelty</th>\n",
       "      <th>transience</th>\n",
       "      <th>new_cite_count</th>\n",
       "      <th>logcitations</th>\n",
       "    </tr>\n",
       "  </thead>\n",
       "  <tbody>\n",
       "    <tr>\n",
       "      <th>003027bd413098810f6c23a944717b88b80c0738</th>\n",
       "      <td>1931</td>\n",
       "      <td>2</td>\n",
       "      <td>1.0</td>\n",
       "      <td>True</td>\n",
       "      <td>10</td>\n",
       "      <td>1.00</td>\n",
       "      <td>-0.031150</td>\n",
       "      <td>7.518383</td>\n",
       "      <td>7.549533</td>\n",
       "      <td>0</td>\n",
       "      <td>-6.907755</td>\n",
       "    </tr>\n",
       "    <tr>\n",
       "      <th>003027bd413098810f6c23a944717b88b80c0738</th>\n",
       "      <td>1931</td>\n",
       "      <td>2</td>\n",
       "      <td>1.0</td>\n",
       "      <td>True</td>\n",
       "      <td>10</td>\n",
       "      <td>0.25</td>\n",
       "      <td>-0.018598</td>\n",
       "      <td>7.299251</td>\n",
       "      <td>7.317849</td>\n",
       "      <td>0</td>\n",
       "      <td>-6.907755</td>\n",
       "    </tr>\n",
       "    <tr>\n",
       "      <th>003027bd413098810f6c23a944717b88b80c0738</th>\n",
       "      <td>1931</td>\n",
       "      <td>2</td>\n",
       "      <td>1.0</td>\n",
       "      <td>True</td>\n",
       "      <td>20</td>\n",
       "      <td>1.00</td>\n",
       "      <td>-0.084718</td>\n",
       "      <td>7.475537</td>\n",
       "      <td>7.560255</td>\n",
       "      <td>0</td>\n",
       "      <td>-6.907755</td>\n",
       "    </tr>\n",
       "    <tr>\n",
       "      <th>003027bd413098810f6c23a944717b88b80c0738</th>\n",
       "      <td>1931</td>\n",
       "      <td>2</td>\n",
       "      <td>1.0</td>\n",
       "      <td>True</td>\n",
       "      <td>20</td>\n",
       "      <td>0.25</td>\n",
       "      <td>-0.062032</td>\n",
       "      <td>7.267228</td>\n",
       "      <td>7.329260</td>\n",
       "      <td>0</td>\n",
       "      <td>-6.907755</td>\n",
       "    </tr>\n",
       "    <tr>\n",
       "      <th>003027bd413098810f6c23a944717b88b80c0738</th>\n",
       "      <td>1931</td>\n",
       "      <td>2</td>\n",
       "      <td>1.0</td>\n",
       "      <td>False</td>\n",
       "      <td>10</td>\n",
       "      <td>1.00</td>\n",
       "      <td>-0.030237</td>\n",
       "      <td>7.518383</td>\n",
       "      <td>7.548621</td>\n",
       "      <td>0</td>\n",
       "      <td>-6.907755</td>\n",
       "    </tr>\n",
       "  </tbody>\n",
       "</table>\n",
       "</div>"
      ],
      "text/plain": [
       "                                          date  num_chunks  fraction_compared  \\\n",
       "003027bd413098810f6c23a944717b88b80c0738  1931           2                1.0   \n",
       "003027bd413098810f6c23a944717b88b80c0738  1931           2                1.0   \n",
       "003027bd413098810f6c23a944717b88b80c0738  1931           2                1.0   \n",
       "003027bd413098810f6c23a944717b88b80c0738  1931           2                1.0   \n",
       "003027bd413098810f6c23a944717b88b80c0738  1931           2                1.0   \n",
       "\n",
       "                                          filtered  time_radius  chunks_used  \\\n",
       "003027bd413098810f6c23a944717b88b80c0738      True           10         1.00   \n",
       "003027bd413098810f6c23a944717b88b80c0738      True           10         0.25   \n",
       "003027bd413098810f6c23a944717b88b80c0738      True           20         1.00   \n",
       "003027bd413098810f6c23a944717b88b80c0738      True           20         0.25   \n",
       "003027bd413098810f6c23a944717b88b80c0738     False           10         1.00   \n",
       "\n",
       "                                          precocity   novelty  transience  \\\n",
       "003027bd413098810f6c23a944717b88b80c0738  -0.031150  7.518383    7.549533   \n",
       "003027bd413098810f6c23a944717b88b80c0738  -0.018598  7.299251    7.317849   \n",
       "003027bd413098810f6c23a944717b88b80c0738  -0.084718  7.475537    7.560255   \n",
       "003027bd413098810f6c23a944717b88b80c0738  -0.062032  7.267228    7.329260   \n",
       "003027bd413098810f6c23a944717b88b80c0738  -0.030237  7.518383    7.548621   \n",
       "\n",
       "                                          new_cite_count  logcitations  \n",
       "003027bd413098810f6c23a944717b88b80c0738               0     -6.907755  \n",
       "003027bd413098810f6c23a944717b88b80c0738               0     -6.907755  \n",
       "003027bd413098810f6c23a944717b88b80c0738               0     -6.907755  \n",
       "003027bd413098810f6c23a944717b88b80c0738               0     -6.907755  \n",
       "003027bd413098810f6c23a944717b88b80c0738               0     -6.907755  "
      ]
     },
     "execution_count": 33,
     "metadata": {},
     "output_type": "execute_result"
    }
   ],
   "source": [
    "kld.head()"
   ]
  },
  {
   "cell_type": "code",
   "execution_count": 79,
   "id": "d7972f3d-6102-4ab6-ba1c-6dddf61c65a0",
   "metadata": {},
   "outputs": [],
   "source": [
    "kld05 = kld.loc[(kld.fraction_compared < 0.5) &\n",
    "                (kld.time_radius > 11) &\n",
    "                (kld.filtered == True) &\n",
    "                (kld.chunks_used < 0.5), :]"
   ]
  },
  {
   "cell_type": "code",
   "execution_count": 80,
   "id": "1327a52d-b268-46fa-b878-9e4645bacfc1",
   "metadata": {},
   "outputs": [
    {
     "data": {
      "text/plain": [
       "(2641, 11)"
      ]
     },
     "execution_count": 80,
     "metadata": {},
     "output_type": "execute_result"
    }
   ],
   "source": [
    "kld05.shape"
   ]
  },
  {
   "cell_type": "code",
   "execution_count": 81,
   "id": "88bf6bfe-3f2d-4cea-8afd-4e4f1f8fd4ed",
   "metadata": {},
   "outputs": [
    {
     "data": {
      "text/plain": [
       "(0.023669000141704793, 0.22400014056263373)"
      ]
     },
     "execution_count": 81,
     "metadata": {},
     "output_type": "execute_result"
    }
   ],
   "source": [
    "pearsonr(kld05.logcitations, kld05.precocity)"
   ]
  },
  {
   "cell_type": "code",
   "execution_count": 107,
   "id": "26c51212-e4c0-4c73-a9c4-d34b0e6bca4d",
   "metadata": {},
   "outputs": [],
   "source": [
    "cos05 = cos.loc[(cos.fraction_compared > 0.5) & \n",
    "                (cos.time_radius > 11) &\n",
    "                (cos.filtered == True), :]"
   ]
  },
  {
   "cell_type": "code",
   "execution_count": 108,
   "id": "eac7f0ca-0a34-448c-b8b4-b131f25980f6",
   "metadata": {},
   "outputs": [
    {
     "data": {
      "text/plain": [
       "(-0.010529216789733722, 0.44422636908774155)"
      ]
     },
     "execution_count": 108,
     "metadata": {},
     "output_type": "execute_result"
    }
   ],
   "source": [
    "pearsonr(cos05.logcitations, cos05.precocity)"
   ]
  },
  {
   "cell_type": "code",
   "execution_count": 82,
   "id": "32a7c117-1e46-4c9b-9343-2234c9bee48a",
   "metadata": {},
   "outputs": [],
   "source": [
    "cos60s = pd.read_csv('precocity_cosine_1960s_docs.tsv', sep = '\\t')"
   ]
  },
  {
   "cell_type": "code",
   "execution_count": 83,
   "id": "3c1594ae-7c7c-41fb-9ad4-8ead82d57a8f",
   "metadata": {},
   "outputs": [],
   "source": [
    "cos60s.set_index('docid', inplace = True)"
   ]
  },
  {
   "cell_type": "code",
   "execution_count": 84,
   "id": "e2dce71f-fedf-4acd-b546-80596df5f808",
   "metadata": {},
   "outputs": [],
   "source": [
    "cos60s = cos60s.join(meta['new_cite_count'], how='inner')"
   ]
  },
  {
   "cell_type": "code",
   "execution_count": 85,
   "id": "2c7aab54-77ad-44bb-8a45-79421c0bfdaf",
   "metadata": {},
   "outputs": [],
   "source": [
    "cos60s['logcitations'] = np.log(cos60s.new_cite_count + .01)"
   ]
  },
  {
   "cell_type": "code",
   "execution_count": 112,
   "id": "25bab6e3-fbc9-440f-9ba5-64e46211ec08",
   "metadata": {},
   "outputs": [],
   "source": [
    "cos65 = cos60s.loc[(cos60s.fraction_compared > 0.5) & \n",
    "                (cos60s.time_radius > 11) &\n",
    "                (cos60s.filtered == True) &\n",
    "                   (cos60s.chunks_used < 0.5), :]"
   ]
  },
  {
   "cell_type": "code",
   "execution_count": 113,
   "id": "1969a4d2-2543-401d-b648-65284d9e4d10",
   "metadata": {},
   "outputs": [
    {
     "data": {
      "text/plain": [
       "(3951, 11)"
      ]
     },
     "execution_count": 113,
     "metadata": {},
     "output_type": "execute_result"
    }
   ],
   "source": [
    "cos65.shape"
   ]
  },
  {
   "cell_type": "code",
   "execution_count": 114,
   "id": "83cb7ebe-f2e8-44ad-a8f1-f48b49e96058",
   "metadata": {},
   "outputs": [
    {
     "data": {
      "text/plain": [
       "(0.143734785700069, 1.0952140504841986e-19)"
      ]
     },
     "execution_count": 114,
     "metadata": {},
     "output_type": "execute_result"
    }
   ],
   "source": [
    "pearsonr(cos65.logcitations, cos65.precocity)"
   ]
  },
  {
   "cell_type": "code",
   "execution_count": 116,
   "id": "6e8ee831-2f0d-4ed0-b737-e487096bf1d7",
   "metadata": {},
   "outputs": [],
   "source": [
    "kld40s =  pd.read_csv('precocity_kld_1940s_docs.tsv', sep = '\\t')"
   ]
  },
  {
   "cell_type": "code",
   "execution_count": 117,
   "id": "94ab8bab-a92f-4cfc-980b-012d1bb1ba6c",
   "metadata": {},
   "outputs": [],
   "source": [
    "cos40s = pd.read_csv('precocity_cosine_1940s_docs.tsv', sep = '\\t')"
   ]
  },
  {
   "cell_type": "code",
   "execution_count": 118,
   "id": "9b7eabf5-5575-4f0a-a7ca-c6cdde8a188e",
   "metadata": {},
   "outputs": [],
   "source": [
    "kld40s.set_index('docid', inplace = True)\n",
    "cos40s.set_index('docid', inplace = True)"
   ]
  },
  {
   "cell_type": "code",
   "execution_count": 125,
   "id": "73a9c330-4ac3-4b74-ad60-9ef2a7b20c3f",
   "metadata": {},
   "outputs": [],
   "source": [
    "#kld40s = kld40s.join(meta['new_cite_count'], how='inner')\n",
    "kld40s['logcitations'] = np.log(kld40s.new_cite_count + 0.01)"
   ]
  },
  {
   "cell_type": "code",
   "execution_count": 126,
   "id": "37ce26b3-5b5a-47b9-9517-c608c82082b4",
   "metadata": {},
   "outputs": [],
   "source": [
    "#cos40s = cos40s.join(meta['new_cite_count'], how='inner')\n",
    "cos40s['logcitations'] = np.log(cos40s.new_cite_count + 0.01)"
   ]
  },
  {
   "cell_type": "code",
   "execution_count": 131,
   "id": "11fcb494-2789-4eb0-b338-9597672f4689",
   "metadata": {},
   "outputs": [],
   "source": [
    "cos45 = cos40s.loc[(cos40s.fraction_compared > 0.5) & \n",
    "                (cos40s.time_radius > 11) &\n",
    "                (cos40s.filtered == True) &\n",
    "                   (cos40s.chunks_used < 0.5), :]"
   ]
  },
  {
   "cell_type": "code",
   "execution_count": 132,
   "id": "c77904f7-a95b-47fe-aaa8-82f076b4b879",
   "metadata": {},
   "outputs": [
    {
     "data": {
      "text/plain": [
       "(0.08242546845277578, 5.5150570168256676e-05)"
      ]
     },
     "execution_count": 132,
     "metadata": {},
     "output_type": "execute_result"
    }
   ],
   "source": [
    "pearsonr(cos45.logcitations, cos45.precocity)"
   ]
  },
  {
   "cell_type": "code",
   "execution_count": 147,
   "id": "4bf0c05e-0f85-40a6-ad22-7ec3b05d6b5c",
   "metadata": {},
   "outputs": [],
   "source": [
    "kld45 = kld40s.loc[(kld40s.fraction_compared > 0.5) & \n",
    "                (kld40s.time_radius > 11) &\n",
    "                (kld40s.filtered == True) &\n",
    "                   (kld40s.chunks_used < 0.5), :]"
   ]
  },
  {
   "cell_type": "code",
   "execution_count": 148,
   "id": "bf87e8d7-08c8-4552-8b8c-abb984964886",
   "metadata": {},
   "outputs": [
    {
     "data": {
      "text/plain": [
       "(0.16063830116676583, 2.8531817021057408e-15)"
      ]
     },
     "execution_count": 148,
     "metadata": {},
     "output_type": "execute_result"
    }
   ],
   "source": [
    "pearsonr(kld45.logcitations, kld45.precocity)"
   ]
  },
  {
   "cell_type": "code",
   "execution_count": 149,
   "id": "34265ca4-e3e4-4684-a7f8-b75628b025f2",
   "metadata": {},
   "outputs": [],
   "source": [
    "kld60s = pd.read_csv('precocity_kld_1960s_docs.tsv', sep = '\\t')"
   ]
  },
  {
   "cell_type": "code",
   "execution_count": 150,
   "id": "e64730d6-1ff8-4640-bb1f-90dc510f7955",
   "metadata": {},
   "outputs": [],
   "source": [
    "kld60s.set_index('docid', inplace = True)"
   ]
  },
  {
   "cell_type": "code",
   "execution_count": 151,
   "id": "5f3a16cc-9fa1-45e5-a103-d15c7175f9e8",
   "metadata": {},
   "outputs": [],
   "source": [
    "kld60s = kld60s.join(meta['new_cite_count'], how='inner')"
   ]
  },
  {
   "cell_type": "code",
   "execution_count": 268,
   "id": "ffdc7175-b063-49e2-983d-57c21fa507da",
   "metadata": {},
   "outputs": [],
   "source": [
    "kld60s['logcitations'] = np.log(kld60s.new_cite_count + 1)"
   ]
  },
  {
   "cell_type": "code",
   "execution_count": 269,
   "id": "86a5db41-663f-400f-9445-e2dc9bba5e71",
   "metadata": {},
   "outputs": [],
   "source": [
    "kld65 = kld60s.loc[(kld60s.fraction_compared > 0.5) & \n",
    "                (kld60s.time_radius > 11) &\n",
    "                (kld60s.filtered == True) &\n",
    "                   (kld60s.chunks_used < 0.5), :]"
   ]
  },
  {
   "cell_type": "code",
   "execution_count": 270,
   "id": "d8d65550-bbba-4865-98db-fdce3006879b",
   "metadata": {},
   "outputs": [
    {
     "data": {
      "text/plain": [
       "(0.18858296803437802, 5.936111783073714e-33)"
      ]
     },
     "execution_count": 270,
     "metadata": {},
     "output_type": "execute_result"
    }
   ],
   "source": [
    "pearsonr(kld65.precocity, kld65.logcitations)"
   ]
  },
  {
   "cell_type": "code",
   "execution_count": 271,
   "id": "0fa3c8b9-8e6d-426b-a9df-2db5da3dfcfa",
   "metadata": {},
   "outputs": [
    {
     "data": {
      "text/plain": [
       "(-0.14888354008166, 5.0621860595272294e-21)"
      ]
     },
     "execution_count": 271,
     "metadata": {},
     "output_type": "execute_result"
    }
   ],
   "source": [
    "pearsonr(kld65.transience, kld65.logcitations)"
   ]
  },
  {
   "cell_type": "code",
   "execution_count": 186,
   "id": "df0f639e-4f93-4259-b1c3-a1f76c7183a6",
   "metadata": {},
   "outputs": [
    {
     "data": {
      "text/plain": [
       "(-0.14615235766594242, 2.6215425705303133e-20)"
      ]
     },
     "execution_count": 186,
     "metadata": {},
     "output_type": "execute_result"
    }
   ],
   "source": [
    "pearsonr(kld65.novelty, kld65.logcitations)"
   ]
  },
  {
   "cell_type": "code",
   "execution_count": 165,
   "id": "f47fc18e-fc59-424c-abe2-e14e2c02abed",
   "metadata": {},
   "outputs": [
    {
     "data": {
      "text/plain": [
       "37"
      ]
     },
     "execution_count": 165,
     "metadata": {},
     "output_type": "execute_result"
    }
   ],
   "source": [
    "sum(meta.year == 2018)"
   ]
  },
  {
   "cell_type": "code",
   "execution_count": 166,
   "id": "ba74955a-b172-4973-ba18-d4b762a74f20",
   "metadata": {},
   "outputs": [
    {
     "data": {
      "text/plain": [
       "45"
      ]
     },
     "execution_count": 166,
     "metadata": {},
     "output_type": "execute_result"
    }
   ],
   "source": [
    "sum(meta.year == 2017)"
   ]
  },
  {
   "cell_type": "code",
   "execution_count": 167,
   "id": "b55c6d88-e213-4d13-97b7-950f580ebbf9",
   "metadata": {},
   "outputs": [
    {
     "data": {
      "text/plain": [
       "278"
      ]
     },
     "execution_count": 167,
     "metadata": {},
     "output_type": "execute_result"
    }
   ],
   "source": [
    "sum(meta.year == 2016)"
   ]
  },
  {
   "cell_type": "code",
   "execution_count": 262,
   "id": "21603735-690f-4c8d-b15c-2a8a494911ca",
   "metadata": {},
   "outputs": [],
   "source": [
    "def decadeconvert(path1, meta):\n",
    "    path2 = path1.replace('kld', 'cosine')\n",
    "    k = pd.read_csv(path1, sep = '\\t')\n",
    "    c = pd.read_csv(path2, sep = '\\t')\n",
    "    k.set_index('docid', inplace = True)\n",
    "    c.set_index('docid', inplace = True)\n",
    "    k = k.join(meta['new_cite_count'], how='inner')\n",
    "    c = c.join(meta['new_cite_count'], how='inner')\n",
    "    k['logcitations'] = np.log(k.new_cite_count + 1)\n",
    "    c['logcitations'] = np.log(c.new_cite_count + 1)\n",
    "    print('kld: ', pearsonr(k.logcitations, k.precocity))\n",
    "    print('cosine: ', pearsonr(c.logcitations, c.precocity))\n",
    "    return k, c\n",
    "    "
   ]
  },
  {
   "cell_type": "code",
   "execution_count": 277,
   "id": "9ac19dc1-4e98-4b6e-8ce3-4b7a6cfdfe97",
   "metadata": {},
   "outputs": [
    {
     "name": "stdout",
     "output_type": "stream",
     "text": [
      "kld:  (0.08466247575457858, 1.1221987572338226e-79)\n",
      "cosine:  (0.10737855751940348, 2.8778663496163456e-127)\n"
     ]
    }
   ],
   "source": [
    "kld50, cos50 = decadeconvert('precocity_kld_1950s_docs.tsv', meta)"
   ]
  },
  {
   "cell_type": "code",
   "execution_count": 278,
   "id": "e105f77f-6709-4192-986f-08473f225a5e",
   "metadata": {},
   "outputs": [],
   "source": [
    "kld55 = kld50.loc[(kld50.fraction_compared > 0.5) & \n",
    "                (kld50.time_radius > 11) &\n",
    "                (kld50.filtered == True) &\n",
    "                   (kld50.chunks_used < 0.5), :]"
   ]
  },
  {
   "cell_type": "code",
   "execution_count": 283,
   "id": "f95f74a3-9a7d-42db-a395-a407181c0de4",
   "metadata": {},
   "outputs": [
    {
     "data": {
      "text/plain": [
       "(0.18110683875668585, 2.6921393218108556e-24)"
      ]
     },
     "execution_count": 283,
     "metadata": {},
     "output_type": "execute_result"
    }
   ],
   "source": [
    "pearsonr(kld55.precocity, kld55.logcitations)"
   ]
  },
  {
   "cell_type": "code",
   "execution_count": 280,
   "id": "a97534e2-84d0-4c05-af2d-0144c1044564",
   "metadata": {},
   "outputs": [],
   "source": [
    "cos55 = cos50.loc[(cos50.fraction_compared > 0.5) & \n",
    "                (cos50.time_radius > 11) &\n",
    "                (cos50.filtered == True) &\n",
    "                   (cos50.chunks_used < 0.5), :]"
   ]
  },
  {
   "cell_type": "code",
   "execution_count": 281,
   "id": "7132a6df-f1e8-4fd8-bb60-ffd769ac6534",
   "metadata": {},
   "outputs": [
    {
     "data": {
      "text/plain": [
       "(0.17041239749447118, 1.172287333012825e-21)"
      ]
     },
     "execution_count": 281,
     "metadata": {},
     "output_type": "execute_result"
    }
   ],
   "source": [
    "pearsonr(cos55.precocity, cos55.logcitations)"
   ]
  },
  {
   "cell_type": "code",
   "execution_count": 263,
   "id": "4554b30d-f2fc-48ca-a5be-e31895e2a246",
   "metadata": {},
   "outputs": [
    {
     "name": "stdout",
     "output_type": "stream",
     "text": [
      "kld:  (0.17045343167084773, 0.0)\n",
      "cosine:  (0.13279320015189244, 2.34e-321)\n"
     ]
    }
   ],
   "source": [
    "kld70, cos70 = decadeconvert('precocity_kld_1970s_docs.tsv', meta)"
   ]
  },
  {
   "cell_type": "code",
   "execution_count": 264,
   "id": "03b1226e-669a-4c42-aea8-5e136dd02628",
   "metadata": {},
   "outputs": [],
   "source": [
    "kld75 = kld70.loc[(kld70.fraction_compared > 0.5) & \n",
    "                (kld70.time_radius > 11) &\n",
    "                (kld70.filtered == True) &\n",
    "                   (kld70.chunks_used < 0.5), :]"
   ]
  },
  {
   "cell_type": "code",
   "execution_count": 265,
   "id": "1b57c493-217b-4055-8b72-11d6c2f370d7",
   "metadata": {},
   "outputs": [
    {
     "data": {
      "text/plain": [
       "(0.24623914545111317, 3.9301517660073037e-72)"
      ]
     },
     "execution_count": 265,
     "metadata": {},
     "output_type": "execute_result"
    }
   ],
   "source": [
    "pearsonr(kld75.precocity,kld75.logcitations)"
   ]
  },
  {
   "cell_type": "code",
   "execution_count": 266,
   "id": "c434907e-63ae-4d4a-8014-0023c8e54590",
   "metadata": {},
   "outputs": [],
   "source": [
    "cos75 = cos70.loc[(cos70.fraction_compared > 0.5) & \n",
    "                (cos70.time_radius > 11) &\n",
    "                (cos70.filtered == True) &\n",
    "                   (cos70.chunks_used < 0.5), :]"
   ]
  },
  {
   "cell_type": "code",
   "execution_count": 267,
   "id": "1d4ae157-6d03-448f-94fa-c7cc6663cb05",
   "metadata": {},
   "outputs": [
    {
     "data": {
      "text/plain": [
       "(0.11731981067449135, 2.800001889695149e-17)"
      ]
     },
     "execution_count": 267,
     "metadata": {},
     "output_type": "execute_result"
    }
   ],
   "source": [
    "pearsonr(cos75.precocity,cos75.logcitations)"
   ]
  },
  {
   "cell_type": "code",
   "execution_count": 208,
   "id": "a360cea4-1099-4280-b93a-029195dcc002",
   "metadata": {},
   "outputs": [
    {
     "data": {
      "text/plain": [
       "(0.48790685367226394, 6.932558546684466e-307)"
      ]
     },
     "execution_count": 208,
     "metadata": {},
     "output_type": "execute_result"
    }
   ],
   "source": [
    "pearsonr(cos75.precocity, kld75.precocity)"
   ]
  },
  {
   "cell_type": "code",
   "execution_count": 209,
   "id": "dc556aae-d4d0-4ffb-b156-39818a814672",
   "metadata": {},
   "outputs": [
    {
     "data": {
      "text/plain": [
       "(0.9999999999999998, 0.0)"
      ]
     },
     "execution_count": 209,
     "metadata": {},
     "output_type": "execute_result"
    }
   ],
   "source": [
    "pearsonr(cos75.logcitations, kld75.logcitations)"
   ]
  },
  {
   "cell_type": "code",
   "execution_count": 210,
   "id": "c6d8e954-e440-4e4a-bdda-6ee7d2ebf539",
   "metadata": {},
   "outputs": [],
   "source": [
    "import statsmodels.api as sm"
   ]
  },
  {
   "cell_type": "code",
   "execution_count": 299,
   "id": "db4c5874-1e4a-4730-bc54-7935f2b14641",
   "metadata": {},
   "outputs": [],
   "source": [
    "X = pd.DataFrame({'cos': cos75.precocity, 'kld': kld75.precocity, 'kld2': kld75.precocity ** 2,\n",
    "                  'cos2': cos75.precocity ** 2, 'intercept': 1})"
   ]
  },
  {
   "cell_type": "code",
   "execution_count": 300,
   "id": "03a9abfe-0fa2-4c0a-b70e-5bd1238b97ac",
   "metadata": {},
   "outputs": [],
   "source": [
    "X1 = pd.DataFrame({'cos': cos65.precocity, 'kld': kld65.precocity, 'kld2': kld65.precocity ** 2,\n",
    "                  'cos2': cos65.precocity ** 2, 'intercept': 1})"
   ]
  },
  {
   "cell_type": "code",
   "execution_count": 301,
   "id": "58870b1d-b827-43e8-b6ad-7f1eedea2312",
   "metadata": {},
   "outputs": [
    {
     "data": {
      "text/plain": [
       "(3951, 5)"
      ]
     },
     "execution_count": 301,
     "metadata": {},
     "output_type": "execute_result"
    }
   ],
   "source": [
    "X1.shape"
   ]
  },
  {
   "cell_type": "code",
   "execution_count": 302,
   "id": "4bdf7b01-d3f0-44dc-9e0b-6e40cb3552ba",
   "metadata": {},
   "outputs": [
    {
     "data": {
      "text/plain": [
       "(9111, 5)"
      ]
     },
     "execution_count": 302,
     "metadata": {},
     "output_type": "execute_result"
    }
   ],
   "source": [
    "X = pd.concat([X, X1], axis = 0)\n",
    "X.shape"
   ]
  },
  {
   "cell_type": "code",
   "execution_count": 303,
   "id": "adcb9e2d-3416-402a-adb1-0bd0c0446466",
   "metadata": {},
   "outputs": [
    {
     "data": {
      "text/plain": [
       "(9111,)"
      ]
     },
     "execution_count": 303,
     "metadata": {},
     "output_type": "execute_result"
    }
   ],
   "source": [
    "y = pd.concat([cos75.logcitations, cos65.logcitations], axis = 0)\n",
    "y.shape"
   ]
  },
  {
   "cell_type": "code",
   "execution_count": 304,
   "id": "555a4481-00d0-482c-a0a4-3656a66b5de7",
   "metadata": {},
   "outputs": [],
   "source": [
    "model = sm.OLS(y, X)"
   ]
  },
  {
   "cell_type": "code",
   "execution_count": 305,
   "id": "b045bfbb-4fe1-419f-b4a1-5eec94599bdd",
   "metadata": {},
   "outputs": [
    {
     "name": "stdout",
     "output_type": "stream",
     "text": [
      "                            OLS Regression Results                            \n",
      "==============================================================================\n",
      "Dep. Variable:           logcitations   R-squared:                       0.069\n",
      "Model:                            OLS   Adj. R-squared:                  0.069\n",
      "Method:                 Least Squares   F-statistic:                     169.2\n",
      "Date:                Mon, 27 Nov 2023   Prob (F-statistic):          5.23e-140\n",
      "Time:                        00:36:07   Log-Likelihood:                -20112.\n",
      "No. Observations:                9111   AIC:                         4.023e+04\n",
      "Df Residuals:                    9106   BIC:                         4.027e+04\n",
      "Df Model:                           4                                         \n",
      "Covariance Type:            nonrobust                                         \n",
      "==============================================================================\n",
      "                 coef    std err          t      P>|t|      [0.025      0.975]\n",
      "------------------------------------------------------------------------------\n",
      "cos          -82.7274     13.588     -6.088      0.000    -109.364     -56.091\n",
      "kld           12.1001      0.468     25.860      0.000      11.183      13.017\n",
      "kld2         -16.1537      3.873     -4.171      0.000     -23.746      -8.561\n",
      "cos2       -2152.6100   1694.246     -1.271      0.204   -5473.712    1168.492\n",
      "intercept      0.7263      0.036     20.267      0.000       0.656       0.797\n",
      "==============================================================================\n",
      "Omnibus:                     1345.355   Durbin-Watson:                   1.789\n",
      "Prob(Omnibus):                  0.000   Jarque-Bera (JB):             2051.487\n",
      "Skew:                          -1.063   Prob(JB):                         0.00\n",
      "Kurtosis:                       3.942   Cond. No.                     7.35e+04\n",
      "==============================================================================\n",
      "\n",
      "Notes:\n",
      "[1] Standard Errors assume that the covariance matrix of the errors is correctly specified.\n",
      "[2] The condition number is large, 7.35e+04. This might indicate that there are\n",
      "strong multicollinearity or other numerical problems.\n"
     ]
    }
   ],
   "source": [
    "results = model.fit()\n",
    "print(results.summary())"
   ]
  },
  {
   "cell_type": "code",
   "execution_count": 306,
   "id": "bfcf8bdd-060d-400a-9104-e3ad96f397ca",
   "metadata": {},
   "outputs": [
    {
     "data": {
      "text/plain": [
       "0.26267851073127396"
      ]
     },
     "execution_count": 306,
     "metadata": {},
     "output_type": "execute_result"
    }
   ],
   "source": [
    "math.sqrt(.069)"
   ]
  },
  {
   "cell_type": "code",
   "execution_count": 224,
   "id": "1e35c470-c7bf-4c5c-8d67-bea893218a8b",
   "metadata": {},
   "outputs": [
    {
     "data": {
      "text/plain": [
       "5160"
      ]
     },
     "execution_count": 224,
     "metadata": {},
     "output_type": "execute_result"
    }
   ],
   "source": [
    "sum((meta.year >= 1970) & (meta.year < 1980))"
   ]
  },
  {
   "cell_type": "code",
   "execution_count": 225,
   "id": "5966d337-500c-42ff-bb3a-a00f21e49684",
   "metadata": {},
   "outputs": [
    {
     "data": {
      "text/plain": [
       "5238"
      ]
     },
     "execution_count": 225,
     "metadata": {},
     "output_type": "execute_result"
    }
   ],
   "source": [
    "sum((meta.year >= 1980) & (meta.year < 1990))"
   ]
  },
  {
   "cell_type": "code",
   "execution_count": 227,
   "id": "e1000e45-f5fe-4cc5-bac0-bb7084946162",
   "metadata": {},
   "outputs": [
    {
     "name": "stdout",
     "output_type": "stream",
     "text": [
      "kld:  (0.10414577231960633, 9.111383293775245e-201)\n"
     ]
    }
   ],
   "source": [
    "kld80 = decadeconvert('precocity_kld_1980s_docs.tsv', meta)"
   ]
  },
  {
   "cell_type": "code",
   "execution_count": 250,
   "id": "2d1f473d-e13f-406f-b23d-da451a6aaea5",
   "metadata": {},
   "outputs": [],
   "source": [
    "kld85 = kld80.loc[(kld80.fraction_compared > 0.5) & \n",
    "                (kld80.time_radius > 11) &\n",
    "                (kld80.filtered == True) &\n",
    "                   (kld80.chunks_used < 0.5), :]"
   ]
  },
  {
   "cell_type": "code",
   "execution_count": 251,
   "id": "36179174-fc2d-4fb1-b2fd-b11ba44563ff",
   "metadata": {},
   "outputs": [
    {
     "data": {
      "text/plain": [
       "(0.17569828608644655, 1.391211381211255e-37)"
      ]
     },
     "execution_count": 251,
     "metadata": {},
     "output_type": "execute_result"
    }
   ],
   "source": [
    "pearsonr(kld85.precocity, kld85.logcitations)"
   ]
  },
  {
   "cell_type": "code",
   "execution_count": 272,
   "id": "6fa8178d-40e9-47ac-b785-36e9515db4c5",
   "metadata": {},
   "outputs": [
    {
     "name": "stdout",
     "output_type": "stream",
     "text": [
      "kld:  (0.0270790824434013, 5.6710667720010435e-06)\n",
      "cosine:  (0.06097974541743986, 1.4933532056229345e-24)\n"
     ]
    }
   ],
   "source": [
    "kld20, cos20 = decadeconvert('precocity_kld_1920s_docs.tsv', meta)"
   ]
  },
  {
   "cell_type": "code",
   "execution_count": 273,
   "id": "f54259a5-50ed-4b38-8d79-fd4c228fea19",
   "metadata": {},
   "outputs": [],
   "source": [
    "kld25 = kld20.loc[(kld20.fraction_compared > 0.5) & \n",
    "                (kld20.time_radius > 11) &\n",
    "                (kld20.filtered == True) &\n",
    "                   (kld20.chunks_used < 0.5), :]"
   ]
  },
  {
   "cell_type": "code",
   "execution_count": 274,
   "id": "78f16bf0-dfde-41b3-b4cd-cbd40848f96d",
   "metadata": {},
   "outputs": [
    {
     "data": {
      "text/plain": [
       "(0.03839774842549266, 0.10782794380275741)"
      ]
     },
     "execution_count": 274,
     "metadata": {},
     "output_type": "execute_result"
    }
   ],
   "source": [
    "pearsonr(kld25.precocity, kld25.logcitations)"
   ]
  },
  {
   "cell_type": "code",
   "execution_count": 275,
   "id": "d4ec1051-80e9-4a53-84b1-e284ced2fc3f",
   "metadata": {},
   "outputs": [],
   "source": [
    "cos25 = cos20.loc[(cos20.fraction_compared > 0.5) & \n",
    "                (cos20.time_radius > 11) &\n",
    "                (cos20.filtered == True) &\n",
    "                   (cos20.chunks_used < 0.5), :]"
   ]
  },
  {
   "cell_type": "code",
   "execution_count": 276,
   "id": "d11bd4b8-2316-4f9c-9171-3035584d8900",
   "metadata": {},
   "outputs": [
    {
     "data": {
      "text/plain": [
       "(0.08700231035899138, 0.0002631733668557664)"
      ]
     },
     "execution_count": 276,
     "metadata": {},
     "output_type": "execute_result"
    }
   ],
   "source": [
    "pearsonr(cos25.precocity, cos25.logcitations)"
   ]
  },
  {
   "cell_type": "code",
   "execution_count": 261,
   "id": "389d84d7-556e-4c8f-9b15-d29df086de60",
   "metadata": {},
   "outputs": [
    {
     "data": {
      "text/plain": [
       "(1755, 11)"
      ]
     },
     "execution_count": 261,
     "metadata": {},
     "output_type": "execute_result"
    }
   ],
   "source": [
    "cos25.shape"
   ]
  },
  {
   "cell_type": "code",
   "execution_count": 298,
   "id": "ab3d43e1-ae46-479f-a23b-3fd563ba2f06",
   "metadata": {},
   "outputs": [
    {
     "data": {
      "text/plain": [
       "-0.10536051565782628"
      ]
     },
     "execution_count": 298,
     "metadata": {},
     "output_type": "execute_result"
    }
   ],
   "source": [
    "math.log(.9)"
   ]
  },
  {
   "cell_type": "code",
   "execution_count": null,
   "id": "2cb772ed-ffce-4e05-a70e-c16d73fa7c50",
   "metadata": {},
   "outputs": [],
   "source": []
  }
 ],
 "metadata": {
  "kernelspec": {
   "display_name": "Python 3",
   "language": "python",
   "name": "python3"
  },
  "language_info": {
   "codemirror_mode": {
    "name": "ipython",
    "version": 3
   },
   "file_extension": ".py",
   "mimetype": "text/x-python",
   "name": "python",
   "nbconvert_exporter": "python",
   "pygments_lexer": "ipython3",
   "version": "3.7.6"
  }
 },
 "nbformat": 4,
 "nbformat_minor": 5
}
