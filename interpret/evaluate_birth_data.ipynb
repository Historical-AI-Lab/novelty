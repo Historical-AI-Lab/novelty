{
 "cells": [
  {
   "cell_type": "markdown",
   "metadata": {},
   "source": [
    "# Evaluate birth data  "
   ]
  },
  {
   "cell_type": "code",
   "execution_count": 1,
   "metadata": {},
   "outputs": [],
   "source": [
    "import pandas as pd\n",
    "from ast import literal_eval"
   ]
  },
  {
   "cell_type": "code",
   "execution_count": 2,
   "metadata": {},
   "outputs": [
    {
     "data": {
      "text/plain": [
       "(64874, 36)"
      ]
     },
     "execution_count": 2,
     "metadata": {},
     "output_type": "execute_result"
    }
   ],
   "source": [
    "birth = pd.read_csv('../becca/results_df_with_predictions.csv')\n",
    "birth.shape"
   ]
  },
  {
   "cell_type": "code",
   "execution_count": 3,
   "metadata": {},
   "outputs": [
    {
     "data": {
      "text/plain": [
       "Index(['Unnamed: 0.1', 'VIAF_titlelist', 'author', 'S2_titlelist', 'status',\n",
       "       'pub_age', 'avg_pubdate', 'VIAF_birthdate', 'overlapping_words',\n",
       "       'word_overlap_count', 'lemma_overlap', 'overlapping_lemmas',\n",
       "       'cosine_matches', 'sim_scores', 'Unnamed: 0', 'record_enumerated',\n",
       "       'record_count', 'pub_age.1', 'status.1', 'avg_pubdate.1',\n",
       "       'birth2maxdate', 'birth2mindate', 'abs_birth2maxdate',\n",
       "       'abs_birth2mindate', 'publication_age', 'VIAF_birthdate.1',\n",
       "       'lemma_overlap.1', 'word_overlap_count.1', 'Jaccard_Distance',\n",
       "       'exact_matches', 'exact_match_count', 'cosine_distance',\n",
       "       'sim_scores_mean', 'predictions', 'probability_class_0',\n",
       "       'probability_class_1'],\n",
       "      dtype='object')"
      ]
     },
     "execution_count": 3,
     "metadata": {},
     "output_type": "execute_result"
    }
   ],
   "source": [
    "birth.columns"
   ]
  },
  {
   "cell_type": "code",
   "execution_count": 7,
   "metadata": {},
   "outputs": [
    {
     "data": {
      "text/plain": [
       "<Axes: >"
      ]
     },
     "execution_count": 7,
     "metadata": {},
     "output_type": "execute_result"
    },
    {
     "data": {
      "image/png": "[encoded data removed]",
      "text/plain": [
       "<Figure size 640x480 with 1 Axes>"
      ]
     },
     "metadata": {},
     "output_type": "display_data"
    }
   ],
   "source": [
    "birth['probability_class_0'].hist(bins=50)"
   ]
  },
  {
   "cell_type": "code",
   "execution_count": 5,
   "metadata": {},
   "outputs": [
    {
     "data": {
      "text/html": [
       "<div>\n",
       "<style scoped>\n",
       "    .dataframe tbody tr th:only-of-type {\n",
       "        vertical-align: middle;\n",
       "    }\n",
       "\n",
       "    .dataframe tbody tr th {\n",
       "        vertical-align: top;\n",
       "    }\n",
       "\n",
       "    .dataframe thead th {\n",
       "        text-align: right;\n",
       "    }\n",
       "</style>\n",
       "<table border=\"1\" class=\"dataframe\">\n",
       "  <thead>\n",
       "    <tr style=\"text-align: right;\">\n",
       "      <th></th>\n",
       "      <th>Unnamed: 0.1</th>\n",
       "      <th>VIAF_titlelist</th>\n",
       "      <th>author</th>\n",
       "      <th>S2_titlelist</th>\n",
       "      <th>status</th>\n",
       "      <th>pub_age</th>\n",
       "      <th>avg_pubdate</th>\n",
       "      <th>VIAF_birthdate</th>\n",
       "      <th>overlapping_words</th>\n",
       "      <th>word_overlap_count</th>\n",
       "      <th>...</th>\n",
       "      <th>lemma_overlap.1</th>\n",
       "      <th>word_overlap_count.1</th>\n",
       "      <th>Jaccard_Distance</th>\n",
       "      <th>exact_matches</th>\n",
       "      <th>exact_match_count</th>\n",
       "      <th>cosine_distance</th>\n",
       "      <th>sim_scores_mean</th>\n",
       "      <th>predictions</th>\n",
       "      <th>probability_class_0</th>\n",
       "      <th>probability_class_1</th>\n",
       "    </tr>\n",
       "  </thead>\n",
       "  <tbody>\n",
       "    <tr>\n",
       "      <th>0</th>\n",
       "      <td>0</td>\n",
       "      <td>[]</td>\n",
       "      <td>c f williamson</td>\n",
       "      <td>[nan, nan, nan, nan, 'Two Notes on the Poems o...</td>\n",
       "      <td>0</td>\n",
       "      <td>109.0</td>\n",
       "      <td>1969.333333</td>\n",
       "      <td>1860.0</td>\n",
       "      <td>[]</td>\n",
       "      <td>0</td>\n",
       "      <td>...</td>\n",
       "      <td>0</td>\n",
       "      <td>0</td>\n",
       "      <td>NaN</td>\n",
       "      <td>NaN</td>\n",
       "      <td>NaN</td>\n",
       "      <td>0.871143</td>\n",
       "      <td>0.0</td>\n",
       "      <td>0</td>\n",
       "      <td>0.82</td>\n",
       "      <td>0.18</td>\n",
       "    </tr>\n",
       "    <tr>\n",
       "      <th>1</th>\n",
       "      <td>1</td>\n",
       "      <td>['America : the diary of a visit winter 1884-1...</td>\n",
       "      <td>david halliburton</td>\n",
       "      <td>[nan]</td>\n",
       "      <td>0</td>\n",
       "      <td>-1950.0</td>\n",
       "      <td>0.000000</td>\n",
       "      <td>1950.0</td>\n",
       "      <td>[]</td>\n",
       "      <td>0</td>\n",
       "      <td>...</td>\n",
       "      <td>0</td>\n",
       "      <td>0</td>\n",
       "      <td>NaN</td>\n",
       "      <td>NaN</td>\n",
       "      <td>NaN</td>\n",
       "      <td>1.013839</td>\n",
       "      <td>0.0</td>\n",
       "      <td>0</td>\n",
       "      <td>0.81</td>\n",
       "      <td>0.19</td>\n",
       "    </tr>\n",
       "    <tr>\n",
       "      <th>2</th>\n",
       "      <td>2</td>\n",
       "      <td>['Budget speech, 1961:', 'eBay website, IMS Vi...</td>\n",
       "      <td>david halliburton</td>\n",
       "      <td>[nan]</td>\n",
       "      <td>0</td>\n",
       "      <td>-1921.0</td>\n",
       "      <td>0.000000</td>\n",
       "      <td>NaN</td>\n",
       "      <td>[]</td>\n",
       "      <td>0</td>\n",
       "      <td>...</td>\n",
       "      <td>0</td>\n",
       "      <td>0</td>\n",
       "      <td>NaN</td>\n",
       "      <td>NaN</td>\n",
       "      <td>NaN</td>\n",
       "      <td>0.804021</td>\n",
       "      <td>0.0</td>\n",
       "      <td>0</td>\n",
       "      <td>0.85</td>\n",
       "      <td>0.15</td>\n",
       "    </tr>\n",
       "    <tr>\n",
       "      <th>3</th>\n",
       "      <td>3</td>\n",
       "      <td>['Faces of Hope, c1997:']</td>\n",
       "      <td>david halliburton</td>\n",
       "      <td>[nan]</td>\n",
       "      <td>0</td>\n",
       "      <td>0.0</td>\n",
       "      <td>0.000000</td>\n",
       "      <td>0.0</td>\n",
       "      <td>[]</td>\n",
       "      <td>0</td>\n",
       "      <td>...</td>\n",
       "      <td>0</td>\n",
       "      <td>0</td>\n",
       "      <td>NaN</td>\n",
       "      <td>NaN</td>\n",
       "      <td>NaN</td>\n",
       "      <td>0.770158</td>\n",
       "      <td>0.0</td>\n",
       "      <td>0</td>\n",
       "      <td>0.84</td>\n",
       "      <td>0.16</td>\n",
       "    </tr>\n",
       "    <tr>\n",
       "      <th>4</th>\n",
       "      <td>4</td>\n",
       "      <td>[]</td>\n",
       "      <td>david halliburton</td>\n",
       "      <td>[nan]</td>\n",
       "      <td>0</td>\n",
       "      <td>0.0</td>\n",
       "      <td>0.000000</td>\n",
       "      <td>0.0</td>\n",
       "      <td>[]</td>\n",
       "      <td>0</td>\n",
       "      <td>...</td>\n",
       "      <td>0</td>\n",
       "      <td>0</td>\n",
       "      <td>NaN</td>\n",
       "      <td>NaN</td>\n",
       "      <td>NaN</td>\n",
       "      <td>0.499953</td>\n",
       "      <td>0.0</td>\n",
       "      <td>0</td>\n",
       "      <td>0.80</td>\n",
       "      <td>0.20</td>\n",
       "    </tr>\n",
       "  </tbody>\n",
       "</table>\n",
       "<p>5 rows × 36 columns</p>\n",
       "</div>"
      ],
      "text/plain": [
       "   Unnamed: 0.1                                     VIAF_titlelist  \\\n",
       "0             0                                                 []   \n",
       "1             1  ['America : the diary of a visit winter 1884-1...   \n",
       "2             2  ['Budget speech, 1961:', 'eBay website, IMS Vi...   \n",
       "3             3                          ['Faces of Hope, c1997:']   \n",
       "4             4                                                 []   \n",
       "\n",
       "              author                                       S2_titlelist  \\\n",
       "0     c f williamson  [nan, nan, nan, nan, 'Two Notes on the Poems o...   \n",
       "1  david halliburton                                              [nan]   \n",
       "2  david halliburton                                              [nan]   \n",
       "3  david halliburton                                              [nan]   \n",
       "4  david halliburton                                              [nan]   \n",
       "\n",
       "   status  pub_age  avg_pubdate  VIAF_birthdate overlapping_words  \\\n",
       "0       0    109.0  1969.333333          1860.0                []   \n",
       "1       0  -1950.0     0.000000          1950.0                []   \n",
       "2       0  -1921.0     0.000000             NaN                []   \n",
       "3       0      0.0     0.000000             0.0                []   \n",
       "4       0      0.0     0.000000             0.0                []   \n",
       "\n",
       "   word_overlap_count  ...  lemma_overlap.1 word_overlap_count.1  \\\n",
       "0                   0  ...                0                    0   \n",
       "1                   0  ...                0                    0   \n",
       "2                   0  ...                0                    0   \n",
       "3                   0  ...                0                    0   \n",
       "4                   0  ...                0                    0   \n",
       "\n",
       "   Jaccard_Distance exact_matches  exact_match_count  cosine_distance  \\\n",
       "0               NaN           NaN                NaN         0.871143   \n",
       "1               NaN           NaN                NaN         1.013839   \n",
       "2               NaN           NaN                NaN         0.804021   \n",
       "3               NaN           NaN                NaN         0.770158   \n",
       "4               NaN           NaN                NaN         0.499953   \n",
       "\n",
       "   sim_scores_mean  predictions  probability_class_0  probability_class_1  \n",
       "0              0.0            0                 0.82                 0.18  \n",
       "1              0.0            0                 0.81                 0.19  \n",
       "2              0.0            0                 0.85                 0.15  \n",
       "3              0.0            0                 0.84                 0.16  \n",
       "4              0.0            0                 0.80                 0.20  \n",
       "\n",
       "[5 rows x 36 columns]"
      ]
     },
     "execution_count": 5,
     "metadata": {},
     "output_type": "execute_result"
    }
   ],
   "source": [
    "birth.head()"
   ]
  },
  {
   "cell_type": "code",
   "execution_count": 13,
   "metadata": {},
   "outputs": [
    {
     "name": "stdout",
     "output_type": "stream",
     "text": [
      "(1459, 5)\n"
     ]
    },
    {
     "data": {
      "text/html": [
       "<div>\n",
       "<style scoped>\n",
       "    .dataframe tbody tr th:only-of-type {\n",
       "        vertical-align: middle;\n",
       "    }\n",
       "\n",
       "    .dataframe tbody tr th {\n",
       "        vertical-align: top;\n",
       "    }\n",
       "\n",
       "    .dataframe thead th {\n",
       "        text-align: right;\n",
       "    }\n",
       "</style>\n",
       "<table border=\"1\" class=\"dataframe\">\n",
       "  <thead>\n",
       "    <tr style=\"text-align: right;\">\n",
       "      <th></th>\n",
       "      <th>author</th>\n",
       "      <th>VIAF_birthdate</th>\n",
       "      <th>probability_class_1</th>\n",
       "      <th>S2_titlelist</th>\n",
       "      <th>VIAF_titlelist</th>\n",
       "    </tr>\n",
       "  </thead>\n",
       "  <tbody>\n",
       "    <tr>\n",
       "      <th>6069</th>\n",
       "      <td>catherine j minter</td>\n",
       "      <td>1950.0</td>\n",
       "      <td>0.98</td>\n",
       "      <td>['Literary \"Empfindsamkeit\" and Nervous Sensib...</td>\n",
       "      <td>[\"Börne's Leben\", 'The concept of irritability...</td>\n",
       "    </tr>\n",
       "    <tr>\n",
       "      <th>59221</th>\n",
       "      <td>ann lawson lucas</td>\n",
       "      <td>1937.0</td>\n",
       "      <td>0.98</td>\n",
       "      <td>['Le Avventure di Pinocchio/The Adventures of ...</td>\n",
       "      <td>['The adventures of Pinocchio', 'Bibliografie ...</td>\n",
       "    </tr>\n",
       "    <tr>\n",
       "      <th>1517</th>\n",
       "      <td>robin howells</td>\n",
       "      <td>1950.0</td>\n",
       "      <td>0.96</td>\n",
       "      <td>[\"L'Utopie narrative en France et en Angleterr...</td>\n",
       "      <td>[\"Autour de Bernardin de Saint-Pierre : les éc...</td>\n",
       "    </tr>\n",
       "    <tr>\n",
       "      <th>59124</th>\n",
       "      <td>hugh sacker</td>\n",
       "      <td>1925.0</td>\n",
       "      <td>0.96</td>\n",
       "      <td>[nan, 'The Message of the \"Nibelungenlied\", an...</td>\n",
       "      <td>['An introduction to Wolfram\\'s \"Parzival\"', '...</td>\n",
       "    </tr>\n",
       "    <tr>\n",
       "      <th>11639</th>\n",
       "      <td>tassie gwilliam</td>\n",
       "      <td>1954.0</td>\n",
       "      <td>0.96</td>\n",
       "      <td>['\"Scenes of Horror,\" Scenes of Sensibility: S...</td>\n",
       "      <td>['\"Like Tiresias\" : metamorphosis and gender i...</td>\n",
       "    </tr>\n",
       "  </tbody>\n",
       "</table>\n",
       "</div>"
      ],
      "text/plain": [
       "                   author  VIAF_birthdate  probability_class_1  \\\n",
       "6069   catherine j minter          1950.0                 0.98   \n",
       "59221    ann lawson lucas          1937.0                 0.98   \n",
       "1517        robin howells          1950.0                 0.96   \n",
       "59124         hugh sacker          1925.0                 0.96   \n",
       "11639     tassie gwilliam          1954.0                 0.96   \n",
       "\n",
       "                                            S2_titlelist  \\\n",
       "6069   ['Literary \"Empfindsamkeit\" and Nervous Sensib...   \n",
       "59221  ['Le Avventure di Pinocchio/The Adventures of ...   \n",
       "1517   [\"L'Utopie narrative en France et en Angleterr...   \n",
       "59124  [nan, 'The Message of the \"Nibelungenlied\", an...   \n",
       "11639  ['\"Scenes of Horror,\" Scenes of Sensibility: S...   \n",
       "\n",
       "                                          VIAF_titlelist  \n",
       "6069   [\"Börne's Leben\", 'The concept of irritability...  \n",
       "59221  ['The adventures of Pinocchio', 'Bibliografie ...  \n",
       "1517   [\"Autour de Bernardin de Saint-Pierre : les éc...  \n",
       "59124  ['An introduction to Wolfram\\'s \"Parzival\"', '...  \n",
       "11639  ['\"Like Tiresias\" : metamorphosis and gender i...  "
      ]
     },
     "execution_count": 13,
     "metadata": {},
     "output_type": "execute_result"
    }
   ],
   "source": [
    "# Filter the rows where probability_class_1 > 0.95\n",
    "trusted = birth[birth['probability_class_1'] > 0.75]\n",
    "# Remove rows where VIAF_birthdate is NaN\n",
    "trusted = trusted.dropna(subset=['VIAF_birthdate'])\n",
    "\n",
    "# Select the required columns and filter out rows with NaN values in S2_titlelist and VIAF_titlelist\n",
    "trusted = trusted[['author', 'VIAF_birthdate', 'probability_class_1', 'S2_titlelist', 'VIAF_titlelist']]\n",
    "#trusted['S2_titlelist'] = trusted['S2_titlelist'].apply(literal_eval)\n",
    "#trusted['VIAF_titlelist'] = trusted['VIAF_titlelist'].apply(literal_eval)\n",
    "#trusted['S2_titlelist'] = trusted['S2_titlelist'].apply(lambda x: [item for item in x if not pd.isna(item)])\n",
    "#trusted['VIAF_titlelist'] = trusted['VIAF_titlelist'].apply(lambda x: [item for item in x if not pd.isna(item)])\n",
    "\n",
    "# Sort the dataframe by probability_class_1 in descending order\n",
    "trusted = trusted.sort_values(by='probability_class_1', ascending=False)\n",
    "print(trusted.shape)\n",
    "# Display the resulting dataframe\n",
    "trusted.head()"
   ]
  },
  {
   "cell_type": "code",
   "execution_count": 14,
   "metadata": {},
   "outputs": [],
   "source": [
    "trusted.to_csv('trusted_author_birthdates.csv', index=False, sep = '\\t')"
   ]
  },
  {
   "cell_type": "code",
   "execution_count": 15,
   "metadata": {},
   "outputs": [
    {
     "data": {
      "text/plain": [
       "<Axes: >"
      ]
     },
     "execution_count": 15,
     "metadata": {},
     "output_type": "execute_result"
    },
    {
     "data": {
      "image/png": "[encoded data removed]",
      "text/plain": [
       "<Figure size 640x480 with 1 Axes>"
      ]
     },
     "metadata": {},
     "output_type": "display_data"
    }
   ],
   "source": [
    "trusted['VIAF_birthdate'].hist(bins=50)"
   ]
  }
 ],
 "metadata": {
  "kernelspec": {
   "display_name": "py310hf",
   "language": "python",
   "name": "python3"
  },
  "language_info": {
   "codemirror_mode": {
    "name": "ipython",
    "version": 3
   },
   "file_extension": ".py",
   "mimetype": "text/x-python",
   "name": "python",
   "nbconvert_exporter": "python",
   "pygments_lexer": "ipython3",
   "version": "3.12.1"
  }
 },
 "nbformat": 4,
 "nbformat_minor": 2
}
