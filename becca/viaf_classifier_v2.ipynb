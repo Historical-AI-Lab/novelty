{
 "cells": [
  {
   "cell_type": "code",
   "execution_count": null,
   "id": "initial_id",
   "metadata": {
    "collapsed": true
   },
   "outputs": [],
   "source": [
    "#logistic regression, ridge regression\n",
    "import sklearn\n",
    "# from sklearn.linear_model import LinearRegression\n",
    "\n",
    "X = df[['Age', 'Weight_kg','Height_cm','BMD']]\n",
    "y = df['Fracture']\n",
    "\n",
    "logr = sklearn.linear_model.LogisticRegression(penalty='l2')\n",
    "# logr.fit(X,y)\n",
    "logr.fit(X_train, y_train)"
   ]
  }
 ],
 "metadata": {
  "kernelspec": {
   "display_name": "Python 3",
   "language": "python",
   "name": "python3"
  },
  "language_info": {
   "codemirror_mode": {
    "name": "ipython",
    "version": 2
   },
   "file_extension": ".py",
   "mimetype": "text/x-python",
   "name": "python",
   "nbconvert_exporter": "python",
   "pygments_lexer": "ipython2",
   "version": "2.7.6"
  }
 },
 "nbformat": 4,
 "nbformat_minor": 5
}
