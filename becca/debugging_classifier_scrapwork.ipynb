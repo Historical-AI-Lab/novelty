{
 "cells": [
  {
   "cell_type": "code",
   "id": "initial_id",
   "metadata": {
    "collapsed": true,
    "ExecuteTime": {
     "end_time": "2024-09-29T19:46:54.649986Z",
     "start_time": "2024-09-29T19:46:54.647446Z"
    }
   },
   "source": [
    "viaf_titles = [\"Ancient faith and modern freedom in John Dryden's The hind and the panther\", \n",
    "               \"Malice defeated, 1988\", \n",
    "               \"matchless rogue\"]\n",
    "\n",
    "s2_titles = [\"The intellectual design of John Dryden's heroic plays\", \n",
    "             \"Malice defeated, 1988\", \n",
    "             \"Ancient faith and modern freedom in John Dryden's The hind and the panther\"]\n"
   ],
   "outputs": [],
   "execution_count": 1
  },
  {
   "metadata": {
    "ExecuteTime": {
     "end_time": "2024-09-29T19:46:54.882755Z",
     "start_time": "2024-09-29T19:46:54.652786Z"
    }
   },
   "cell_type": "code",
   "source": [
    "import pandas as pd\n",
    "\n",
    "# Function to find exact title matches within a singular author (comparing s2 with viaf_title_list)\n",
    "def find_exact_matches_for_author(df):\n",
    "    matches = []\n",
    "    \n",
    "    # Iterate over each row in the DataFrame\n",
    "    for idx, row in df.iterrows():\n",
    "        author = row['author']\n",
    "        \n",
    "        # Get titles from viaf_title_list and title_list\n",
    "        viaf_titles = row['viaf_title_list'] if isinstance(row['viaf_title_list'], list) else []\n",
    "        title_list = row['title_list'] if isinstance(row['title_list'], list) else [row['title_list']]\n",
    "        \n",
    "        # Convert both lists to lowercase to make the comparison case-insensitive\n",
    "        viaf_titles_lower = set([title.lower() for title in viaf_titles])\n",
    "        title_list_lower = set([title.lower() for title in title_list])\n",
    "\n",
    "        # Find the intersection of titles between viaf_titles and title_list\n",
    "        common_titles = viaf_titles_lower.intersection(title_list_lower)\n",
    "\n",
    "        # If there are matching titles, add them to the results\n",
    "        if common_titles:\n",
    "            matches.append({\n",
    "                'author': author,\n",
    "                'matching_titles': list(common_titles)\n",
    "            })\n",
    "    \n",
    "    return matches\n",
    "\n",
    "# Example DataFrame (replace this with your actual DataFrame)\n",
    "data = {\n",
    "    'author': ['anne barbeau gardiner', 'kate e tunstall'],\n",
    "    'viaf_title_list': [[\"Ancient faith and modern freedom\", \"Malice defeated\", \"matchless rogue\"], \n",
    "                        [\"Blindness and enlightenment\", \"Displacement, asylum, migration\"]],\n",
    "    'title_list': [[\"Ancient faith and modern freedom\", \"The intellectual design of John Dryden's heroic plays\"], \n",
    "                   [\"Blindness and enlightenment\", \"Diderot and Rousseau\"]]\n",
    "}\n",
    "\n",
    "df = pd.DataFrame(data)\n",
    "\n",
    "# Find matches for each author\n",
    "matches = find_exact_matches_for_author(df)\n",
    "\n",
    "# Output the results\n",
    "if matches:\n",
    "    for match in matches:\n",
    "        print(f\"Author: {match['author']} has the following matching titles between s2 and viaf_title_list: {match['matching_titles']}\")\n",
    "else:\n",
    "    print(\"No exact title matches found.\")\n"
   ],
   "id": "e25332b8462f43ca",
   "outputs": [
    {
     "name": "stdout",
     "output_type": "stream",
     "text": [
      "Author: anne barbeau gardiner has the following matching titles between s2 and viaf_title_list: ['ancient faith and modern freedom']\n",
      "Author: kate e tunstall has the following matching titles between s2 and viaf_title_list: ['blindness and enlightenment']\n"
     ]
    }
   ],
   "execution_count": 2
  },
  {
   "metadata": {},
   "cell_type": "code",
   "outputs": [],
   "execution_count": null,
   "source": "",
   "id": "4b0f764ade623c8b"
  }
 ],
 "metadata": {
  "kernelspec": {
   "display_name": "Python 3",
   "language": "python",
   "name": "python3"
  },
  "language_info": {
   "codemirror_mode": {
    "name": "ipython",
    "version": 2
   },
   "file_extension": ".py",
   "mimetype": "text/x-python",
   "name": "python",
   "nbconvert_exporter": "python",
   "pygments_lexer": "ipython2",
   "version": "2.7.6"
  }
 },
 "nbformat": 4,
 "nbformat_minor": 5
}
