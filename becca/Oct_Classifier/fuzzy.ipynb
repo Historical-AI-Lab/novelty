{
 "cells": [
  {
   "cell_type": "code",
   "id": "initial_id",
   "metadata": {
    "collapsed": true,
    "ExecuteTime": {
     "end_time": "2024-10-17T01:10:41.876599Z",
     "start_time": "2024-10-17T01:10:41.528078Z"
    }
   },
   "source": "!pip install fuzzywuzzy",
   "outputs": [
    {
     "name": "stdout",
     "output_type": "stream",
     "text": [
      "Requirement already satisfied: fuzzywuzzy in /Users/beccacohen/miniconda3/lib/python3.12/site-packages (0.18.0)\r\n"
     ]
    }
   ],
   "execution_count": 1
  },
  {
   "metadata": {
    "ExecuteTime": {
     "end_time": "2024-10-17T01:11:22.330334Z",
     "start_time": "2024-10-17T01:11:21.281541Z"
    }
   },
   "cell_type": "code",
   "source": "!pip install the fuzz",
   "id": "4a008777f3916b8d",
   "outputs": [
    {
     "name": "stdout",
     "output_type": "stream",
     "text": [
      "Collecting the\r\n",
      "  Downloading the-0.1.5.tar.gz (10 kB)\r\n",
      "  Preparing metadata (setup.py) ... \u001B[?25ldone\r\n",
      "\u001B[?25hCollecting fuzz\r\n",
      "  Downloading fuzz-0.1.1-py3-none-any.whl.metadata (913 bytes)\r\n",
      "Downloading fuzz-0.1.1-py3-none-any.whl (4.7 kB)\r\n",
      "Building wheels for collected packages: the\r\n",
      "  Building wheel for the (setup.py) ... \u001B[?25ldone\r\n",
      "\u001B[?25h  Created wheel for the: filename=the-0.1.5-py3-none-any.whl size=5987 sha256=883a195d91684eaea78ea615b295d9c02bf75a8c2072ec60d978304860d42515\r\n",
      "  Stored in directory: /Users/beccacohen/Library/Caches/pip/wheels/44/1c/2c/4fea2406881806940854faba038d5c35709137c03434142731\r\n",
      "Successfully built the\r\n",
      "Installing collected packages: the, fuzz\r\n",
      "Successfully installed fuzz-0.1.1 the-0.1.5\r\n"
     ]
    }
   ],
   "execution_count": 3
  },
  {
   "metadata": {
    "ExecuteTime": {
     "end_time": "2024-10-17T01:11:56.397198Z",
     "start_time": "2024-10-17T01:11:56.389348Z"
    }
   },
   "cell_type": "code",
   "source": "import fuzzywuzzy",
   "id": "94e551521baadd25",
   "outputs": [
    {
     "ename": "ModuleNotFoundError",
     "evalue": "No module named 'fuzzywuzzy'",
     "output_type": "error",
     "traceback": [
      "\u001B[0;31m---------------------------------------------------------------------------\u001B[0m",
      "\u001B[0;31mModuleNotFoundError\u001B[0m                       Traceback (most recent call last)",
      "Cell \u001B[0;32mIn[7], line 1\u001B[0m\n\u001B[0;32m----> 1\u001B[0m \u001B[38;5;28;01mimport\u001B[39;00m \u001B[38;5;21;01mfuzzywuzzy\u001B[39;00m\n",
      "\u001B[0;31mModuleNotFoundError\u001B[0m: No module named 'fuzzywuzzy'"
     ]
    }
   ],
   "execution_count": 7
  },
  {
   "metadata": {
    "ExecuteTime": {
     "end_time": "2024-10-17T01:11:36.990194Z",
     "start_time": "2024-10-17T01:11:36.630760Z"
    }
   },
   "cell_type": "code",
   "source": "!pip install thefuzz",
   "id": "5923dba3ae41a0e7",
   "outputs": [
    {
     "name": "stdout",
     "output_type": "stream",
     "text": [
      "Requirement already satisfied: thefuzz in /Users/beccacohen/miniconda3/lib/python3.12/site-packages (0.22.1)\r\n",
      "Requirement already satisfied: rapidfuzz<4.0.0,>=3.0.0 in /Users/beccacohen/miniconda3/lib/python3.12/site-packages (from thefuzz) (3.10.0)\r\n"
     ]
    }
   ],
   "execution_count": 4
  },
  {
   "metadata": {
    "ExecuteTime": {
     "end_time": "2024-10-17T01:11:47.934622Z",
     "start_time": "2024-10-17T01:11:47.924126Z"
    }
   },
   "cell_type": "code",
   "source": "import thefuzz",
   "id": "734ff01ebba26104",
   "outputs": [
    {
     "ename": "ModuleNotFoundError",
     "evalue": "No module named 'thefuzz'",
     "output_type": "error",
     "traceback": [
      "\u001B[0;31m---------------------------------------------------------------------------\u001B[0m",
      "\u001B[0;31mModuleNotFoundError\u001B[0m                       Traceback (most recent call last)",
      "Cell \u001B[0;32mIn[5], line 1\u001B[0m\n\u001B[0;32m----> 1\u001B[0m \u001B[38;5;28;01mimport\u001B[39;00m \u001B[38;5;21;01mthefuzz\u001B[39;00m\n",
      "\u001B[0;31mModuleNotFoundError\u001B[0m: No module named 'thefuzz'"
     ]
    }
   ],
   "execution_count": 5
  },
  {
   "metadata": {
    "ExecuteTime": {
     "end_time": "2024-10-17T01:12:12.576206Z",
     "start_time": "2024-10-17T01:12:12.568519Z"
    }
   },
   "cell_type": "code",
   "source": "from thefuzz import fuzz\n",
   "id": "77e6ac203804ff1a",
   "outputs": [
    {
     "ename": "ModuleNotFoundError",
     "evalue": "No module named 'thefuzz'",
     "output_type": "error",
     "traceback": [
      "\u001B[0;31m---------------------------------------------------------------------------\u001B[0m",
      "\u001B[0;31mModuleNotFoundError\u001B[0m                       Traceback (most recent call last)",
      "Cell \u001B[0;32mIn[8], line 1\u001B[0m\n\u001B[0;32m----> 1\u001B[0m \u001B[38;5;28;01mfrom\u001B[39;00m \u001B[38;5;21;01mthefuzz\u001B[39;00m \u001B[38;5;28;01mimport\u001B[39;00m fuzz\n",
      "\u001B[0;31mModuleNotFoundError\u001B[0m: No module named 'thefuzz'"
     ]
    }
   ],
   "execution_count": 8
  },
  {
   "metadata": {
    "ExecuteTime": {
     "end_time": "2024-10-17T01:12:25.291648Z",
     "start_time": "2024-10-17T01:12:25.021427Z"
    }
   },
   "cell_type": "code",
   "source": "!pip list\n",
   "id": "5e0e1a88c3633ebc",
   "outputs": [
    {
     "name": "stdout",
     "output_type": "stream",
     "text": [
      "Package                 Version\r\n",
      "----------------------- -----------\r\n",
      "anaconda-anon-usage     0.4.4\r\n",
      "archspec                0.2.3\r\n",
      "boltons                 23.0.0\r\n",
      "Bottleneck              1.3.7\r\n",
      "Brotli                  1.0.9\r\n",
      "certifi                 2024.8.30\r\n",
      "cffi                    1.16.0\r\n",
      "charset-normalizer      3.3.2\r\n",
      "conda                   24.7.1\r\n",
      "conda-content-trust     0.2.0\r\n",
      "conda-libmamba-solver   24.7.0\r\n",
      "conda-package-handling  2.3.0\r\n",
      "conda_package_streaming 0.10.0\r\n",
      "cryptography            42.0.5\r\n",
      "distro                  1.9.0\r\n",
      "frozendict              2.4.2\r\n",
      "fuzz                    0.1.1\r\n",
      "fuzzywuzzy              0.18.0\r\n",
      "geographiclib           2.0\r\n",
      "idna                    3.7\r\n",
      "imbalanced-learn        0.12.3\r\n",
      "iniconfig               1.1.1\r\n",
      "joblib                  1.4.2\r\n",
      "jsonpatch               1.33\r\n",
      "jsonpointer             2.1\r\n",
      "libmambapy              1.5.8\r\n",
      "menuinst                2.1.2\r\n",
      "metrics                 0.3.3\r\n",
      "numexpr                 2.8.7\r\n",
      "numpy                   1.26.4\r\n",
      "packaging               24.1\r\n",
      "pandas                  2.2.2\r\n",
      "pathlib2                2.3.7.post1\r\n",
      "pathspec                0.5.5\r\n",
      "patsy                   0.5.6\r\n",
      "pip                     24.2\r\n",
      "platformdirs            3.10.0\r\n",
      "pluggy                  1.0.0\r\n",
      "pycosat                 0.6.6\r\n",
      "pycparser               2.21\r\n",
      "Pygments                2.2.0\r\n",
      "PySocks                 1.7.1\r\n",
      "pytest                  7.4.4\r\n",
      "python-dateutil         2.9.0.post0\r\n",
      "pytz                    2024.1\r\n",
      "RapidFuzz               3.10.0\r\n",
      "requests                2.32.3\r\n",
      "ruamel.yaml             0.17.21\r\n",
      "scikit-learn            1.5.1\r\n",
      "scipy                   1.13.1\r\n",
      "setuptools              72.1.0\r\n",
      "six                     1.16.0\r\n",
      "statsmodels             0.14.2\r\n",
      "the                     0.1.5\r\n",
      "thefuzz                 0.22.1\r\n",
      "threadpoolctl           3.5.0\r\n",
      "tqdm                    4.66.4\r\n",
      "truststore              0.8.0\r\n",
      "tzdata                  2023.3\r\n",
      "urllib3                 2.2.2\r\n",
      "wheel                   0.43.0\r\n",
      "zstandard               0.22.0\r\n"
     ]
    }
   ],
   "execution_count": 10
  },
  {
   "metadata": {
    "ExecuteTime": {
     "end_time": "2024-10-17T01:13:13.876115Z",
     "start_time": "2024-10-17T01:13:10.895331Z"
    }
   },
   "cell_type": "code",
   "source": "!conda install fuzzywuzzy",
   "id": "a53ee838699b0168",
   "outputs": [
    {
     "name": "stdout",
     "output_type": "stream",
     "text": [
      "Retrieving notices: ...working... done\r\n",
      "Channels:\r\n",
      " - defaults\r\n",
      "Platform: osx-arm64\r\n",
      "Collecting package metadata (repodata.json): done\r\n",
      "Solving environment: \\ \u001B[33m\u001B[1mwarning  libmamba\u001B[m Added empty dependency for problem type SOLVER_RULE_UPDATE\r\n",
      "failed\r\n",
      "\r\n",
      "LibMambaUnsatisfiableError: Encountered problems while solving:\r\n",
      "  - package fuzzywuzzy-0.18.0-py310hca03da5_0 requires python >=3.10,<3.11.0a0, but none of the providers can be installed\r\n",
      "\r\n",
      "Could not solve for environment specs\r\n",
      "The following packages are incompatible\r\n",
      "├─ \u001B[32mfuzzywuzzy\u001B[0m is installable with the potential options\r\n",
      "│  ├─ \u001B[32mfuzzywuzzy 0.18.0\u001B[0m would require\r\n",
      "│  │  └─ \u001B[32mpython >=3.10,<3.11.0a0 \u001B[0m, which can be installed;\r\n",
      "│  ├─ \u001B[32mfuzzywuzzy 0.18.0\u001B[0m would require\r\n",
      "│  │  └─ \u001B[32mpython >=3.11,<3.12.0a0 \u001B[0m, which can be installed;\r\n",
      "│  ├─ \u001B[32mfuzzywuzzy 0.18.0\u001B[0m would require\r\n",
      "│  │  └─ \u001B[32mpython >=3.8,<3.9.0a0 \u001B[0m, which can be installed;\r\n",
      "│  └─ \u001B[32mfuzzywuzzy 0.18.0\u001B[0m would require\r\n",
      "│     └─ \u001B[32mpython >=3.9,<3.10.0a0 \u001B[0m, which can be installed;\r\n",
      "└─ \u001B[31mpin-1\u001B[0m is not installable because it requires\r\n",
      "   └─ \u001B[31mpython 3.12.* \u001B[0m, which conflicts with any installable versions previously reported.\r\n",
      "\r\n"
     ]
    }
   ],
   "execution_count": 11
  }
 ],
 "metadata": {
  "kernelspec": {
   "display_name": "Python 3",
   "language": "python",
   "name": "python3"
  },
  "language_info": {
   "codemirror_mode": {
    "name": "ipython",
    "version": 2
   },
   "file_extension": ".py",
   "mimetype": "text/x-python",
   "name": "python",
   "nbconvert_exporter": "python",
   "pygments_lexer": "ipython2",
   "version": "2.7.6"
  }
 },
 "nbformat": 4,
 "nbformat_minor": 5
}
